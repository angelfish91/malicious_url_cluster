{
 "cells": [
  {
   "cell_type": "code",
   "execution_count": 6,
   "metadata": {},
   "outputs": [],
   "source": [
    "import sys\n",
    "import os\n",
    "import json\n",
    "import pandas as pd\n",
    "\n",
    "\n",
    "\n",
    "def get_malicious(file_list):\n",
    "    root_path = \"/home/sparrow/sparrow/data/sangfor/18\"\n",
    "    df_list_ma = []\n",
    "    df_list_ph = []\n",
    "    for i in file_list:\n",
    "        local_path = root_path + i\n",
    "        \n",
    "        filepath = os.path.join(local_path ,'dumped_result.ma.csv')\n",
    "        df_list_ma.append( pd.read_csv(filepath))\n",
    "        \n",
    "        filepath = os.path.join(local_path ,'dumped_result.ph.csv')\n",
    "        df_list_ph.append( pd.read_csv(filepath))\n",
    "        \n",
    "        print local_path\n",
    "        \n",
    "    df_ma = pd.concat(df_list_ma, axis = 0)\n",
    "    df_ph = pd.concat(df_list_ph, axis = 0)\n",
    "    return df_ma, df_ph\n",
    "\n",
    "def get_total_sample(file_list):\n",
    "    root_path = \"/home/sparrow/sparrow/data/sangfor/18\"\n",
    "    total_url = set()\n",
    "    for i in file_list:\n",
    "        local_path = root_path + i\n",
    "        filepath = os.path.join(local_path ,'dumped_result.txt')\n",
    "        f = open(filepath)\n",
    "        recs = [json.loads(rec) for rec in f]\n",
    "        for rec in recs:\n",
    "            for k, v in rec.iteritems():\n",
    "                rec[k] = json.loads(v)\n",
    "        for rec in recs:\n",
    "            total_url.add(rec['url'])\n",
    "        print filepath, len(total_url)\n",
    "        f.close()\n",
    "    print \"Total URL Count:\\t%d\" %len(total_url)\n",
    "    return total_url\n",
    "\n",
    "def get_malware_data(file_list):\n",
    "    root_path = \"/home/sparrow/sparrow/data/sangfor/18\"\n",
    "    df_list = []\n",
    "    for i in file_list:\n",
    "        local_path = root_path + i\n",
    "        filepath = os.path.join(local_path ,'dumped_result.ma.csv')\n",
    "        df_list.append( pd.read_csv(filepath))\n",
    "        print local_path\n",
    "        \n",
    "    df = pd.concat(df_list, axis = 0)\n",
    "    df = df.loc[df[\"platform\"] == 5003]\n",
    "    df = df.loc[(df[\"report_type\"] == 1).values + (df[\"report_type\"] == 2).values]\n",
    "    return df\n",
    "\n",
    "def covert_and_dump(df):\n",
    "    urls = list(set(df.url))\n",
    "    print len(urls)\n",
    "    return pd.DataFrame({\"url\": urls})"
   ]
  },
  {
   "cell_type": "code",
   "execution_count": 7,
   "metadata": {
    "scrolled": true
   },
   "outputs": [
    {
     "name": "stdout",
     "output_type": "stream",
     "text": [
      "/home/sparrow/sparrow/data/sangfor/180301/dumped_result.txt 100000\n",
      "/home/sparrow/sparrow/data/sangfor/180302/dumped_result.txt 162920\n",
      "/home/sparrow/sparrow/data/sangfor/180306/dumped_result.txt 219430\n",
      "/home/sparrow/sparrow/data/sangfor/180307/dumped_result.txt 267294\n",
      "/home/sparrow/sparrow/data/sangfor/180311/dumped_result.txt 334200\n",
      "/home/sparrow/sparrow/data/sangfor/180312/dumped_result.txt 400270\n",
      "/home/sparrow/sparrow/data/sangfor/180313/dumped_result.txt 444164\n",
      "/home/sparrow/sparrow/data/sangfor/180314/dumped_result.txt 486715\n",
      "/home/sparrow/sparrow/data/sangfor/180315/dumped_result.txt 528351\n",
      "/home/sparrow/sparrow/data/sangfor/180318/dumped_result.txt 590172\n",
      "/home/sparrow/sparrow/data/sangfor/180319/dumped_result.txt 651913\n",
      "/home/sparrow/sparrow/data/sangfor/180320/dumped_result.txt 691585\n",
      "/home/sparrow/sparrow/data/sangfor/180321/dumped_result.txt 728972\n",
      "/home/sparrow/sparrow/data/sangfor/180322/dumped_result.txt 767933\n",
      "/home/sparrow/sparrow/data/sangfor/180323/dumped_result.txt 806841\n",
      "/home/sparrow/sparrow/data/sangfor/180325/dumped_result.txt 862731\n",
      "/home/sparrow/sparrow/data/sangfor/180326/dumped_result.txt 924053\n",
      "/home/sparrow/sparrow/data/sangfor/180327/dumped_result.txt 962631\n",
      "/home/sparrow/sparrow/data/sangfor/180328/dumped_result.txt 1000155\n",
      "/home/sparrow/sparrow/data/sangfor/180330/dumped_result.txt 1041233\n",
      "/home/sparrow/sparrow/data/sangfor/180401/dumped_result.txt 1098491\n",
      "/home/sparrow/sparrow/data/sangfor/180402/dumped_result.txt 1158757\n",
      "/home/sparrow/sparrow/data/sangfor/180410/dumped_result.txt 1214031\n",
      "/home/sparrow/sparrow/data/sangfor/180411/dumped_result.txt 1250895\n",
      "/home/sparrow/sparrow/data/sangfor/180412/dumped_result.txt 1287528\n",
      "/home/sparrow/sparrow/data/sangfor/180415/dumped_result.txt 1342453\n",
      "/home/sparrow/sparrow/data/sangfor/180416/dumped_result.txt 1397720\n",
      "/home/sparrow/sparrow/data/sangfor/180417/dumped_result.txt 1432855\n",
      "/home/sparrow/sparrow/data/sangfor/180418/dumped_result.txt 1466399\n",
      "/home/sparrow/sparrow/data/sangfor/180419/dumped_result.txt 1502002\n",
      "Total URL Count:\t1502002\n",
      "/home/sparrow/sparrow/data/sangfor/180301\n",
      "/home/sparrow/sparrow/data/sangfor/180302\n",
      "/home/sparrow/sparrow/data/sangfor/180306\n",
      "/home/sparrow/sparrow/data/sangfor/180307\n",
      "/home/sparrow/sparrow/data/sangfor/180311\n",
      "/home/sparrow/sparrow/data/sangfor/180312\n",
      "/home/sparrow/sparrow/data/sangfor/180313\n",
      "/home/sparrow/sparrow/data/sangfor/180314\n",
      "/home/sparrow/sparrow/data/sangfor/180315\n",
      "/home/sparrow/sparrow/data/sangfor/180318\n",
      "/home/sparrow/sparrow/data/sangfor/180319\n",
      "/home/sparrow/sparrow/data/sangfor/180320\n",
      "/home/sparrow/sparrow/data/sangfor/180321\n",
      "/home/sparrow/sparrow/data/sangfor/180322\n",
      "/home/sparrow/sparrow/data/sangfor/180323\n",
      "/home/sparrow/sparrow/data/sangfor/180325\n",
      "/home/sparrow/sparrow/data/sangfor/180326\n",
      "/home/sparrow/sparrow/data/sangfor/180327\n",
      "/home/sparrow/sparrow/data/sangfor/180328\n",
      "/home/sparrow/sparrow/data/sangfor/180330\n",
      "/home/sparrow/sparrow/data/sangfor/180401\n",
      "/home/sparrow/sparrow/data/sangfor/180402\n",
      "/home/sparrow/sparrow/data/sangfor/180410\n",
      "/home/sparrow/sparrow/data/sangfor/180411\n",
      "/home/sparrow/sparrow/data/sangfor/180412\n",
      "/home/sparrow/sparrow/data/sangfor/180415\n",
      "/home/sparrow/sparrow/data/sangfor/180416\n",
      "/home/sparrow/sparrow/data/sangfor/180417\n",
      "/home/sparrow/sparrow/data/sangfor/180418\n",
      "/home/sparrow/sparrow/data/sangfor/180419\n"
     ]
    }
   ],
   "source": [
    "file_list = [\"0301\",\"0302\",\"0306\",\"0307\",\"0311\",\"0312\",\"0313\",\"0314\",\"0315\",\"0318\",\"0319\",\n",
    "             \"0320\",\"0321\",\"0322\",\"0323\",\"0325\",\"0326\",\"0327\",\"0328\",\"0330\",\"0401\",\"0402\", \n",
    "             \"0410\",\"0411\",\"0412\",\"0415\",\"0416\",\"0417\",\"0418\",\"0419\"]\n",
    "total_url = get_total_sample(file_list)\n",
    "df_ma, df_ph = get_malicious(file_list)"
   ]
  },
  {
   "cell_type": "code",
   "execution_count": 8,
   "metadata": {},
   "outputs": [
    {
     "name": "stdout",
     "output_type": "stream",
     "text": [
      "Safe URL Count:\t1461039\n"
     ]
    }
   ],
   "source": [
    "safe_url = list(set(total_url) - set(df_ma.url) - set(df_ph.url))\n",
    "safe_url = [_.encode('utf-8') for _ in safe_url]\n",
    "df_safe = pd.DataFrame({'url': safe_url})\n",
    "print \"Safe URL Count:\\t%d\" %len(df_safe)\n",
    "df_safe.to_csv(\"/home/sparrow/sparrow/data/sangfor/safe_0419.csv\")"
   ]
  },
  {
   "cell_type": "code",
   "execution_count": 5,
   "metadata": {},
   "outputs": [
    {
     "name": "stdout",
     "output_type": "stream",
     "text": [
      "39798\n"
     ]
    }
   ],
   "source": [
    "df = covert_and_dump(df_ma)\n",
    "df_ma.to_csv(\"/home/sparrow/sparrow/data/sangfor/malware_all_0419.csv\")"
   ]
  },
  {
   "cell_type": "code",
   "execution_count": 19,
   "metadata": {},
   "outputs": [
    {
     "name": "stdout",
     "output_type": "stream",
     "text": [
      "/home/sparrow/sparrow/data/sangfor/180410\n",
      "/home/sparrow/sparrow/data/sangfor/180411\n",
      "/home/sparrow/sparrow/data/sangfor/180412\n",
      "/home/sparrow/sparrow/data/sangfor/180415\n",
      "/home/sparrow/sparrow/data/sangfor/180416\n"
     ]
    }
   ],
   "source": [
    "file_list = [\"0410\", \"0411\", \"0412\", \"0415\", \"0416\"]\n",
    "df = get_malware_data(file_list)\n",
    "df.to_csv(\"/home/sparrow/sparrow/data/sangfor/malware0416.csv\")"
   ]
  },
  {
   "cell_type": "markdown",
   "metadata": {},
   "source": [
    "# Get EDR data"
   ]
  },
  {
   "cell_type": "code",
   "execution_count": 12,
   "metadata": {},
   "outputs": [],
   "source": [
    "def get_malware_edr_data(file_list):\n",
    "    root_path = \"/home/sparrow/sparrow/data/sangfor/18\"\n",
    "    df_list = []\n",
    "    for i in file_list:\n",
    "        local_path = root_path + i\n",
    "        filepath = os.path.join(local_path ,'dumped_result.edr.csv')\n",
    "        df_list.append( pd.read_csv(filepath))\n",
    "        print local_path\n",
    "        \n",
    "    df = pd.concat(df_list, axis = 0)\n",
    "    return df"
   ]
  },
  {
   "cell_type": "code",
   "execution_count": 13,
   "metadata": {},
   "outputs": [],
   "source": [
    "file_list = [\"0401\", \"0402\", \"0410\", \"0411\", \"0412\", \"0415\", \"0416\", \"0417\", \"0418\", \"0419\"]"
   ]
  },
  {
   "cell_type": "code",
   "execution_count": 15,
   "metadata": {},
   "outputs": [
    {
     "name": "stdout",
     "output_type": "stream",
     "text": [
      "/home/sparrow/sparrow/data/sangfor/180401\n",
      "/home/sparrow/sparrow/data/sangfor/180402\n",
      "/home/sparrow/sparrow/data/sangfor/180410\n",
      "/home/sparrow/sparrow/data/sangfor/180411\n",
      "/home/sparrow/sparrow/data/sangfor/180412\n",
      "/home/sparrow/sparrow/data/sangfor/180415\n",
      "/home/sparrow/sparrow/data/sangfor/180416\n",
      "/home/sparrow/sparrow/data/sangfor/180417\n",
      "/home/sparrow/sparrow/data/sangfor/180418\n",
      "/home/sparrow/sparrow/data/sangfor/180419\n"
     ]
    }
   ],
   "source": [
    "df = get_malware_edr_data(file_list)"
   ]
  }
 ],
 "metadata": {
  "kernelspec": {
   "display_name": "Python 2",
   "language": "python",
   "name": "python2"
  },
  "language_info": {
   "codemirror_mode": {
    "name": "ipython",
    "version": 2
   },
   "file_extension": ".py",
   "mimetype": "text/x-python",
   "name": "python",
   "nbconvert_exporter": "python",
   "pygments_lexer": "ipython2",
   "version": "2.7.14"
  }
 },
 "nbformat": 4,
 "nbformat_minor": 2
}
