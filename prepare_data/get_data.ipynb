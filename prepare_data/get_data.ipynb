{
 "cells": [
  {
   "cell_type": "code",
   "execution_count": 3,
   "metadata": {},
   "outputs": [],
   "source": [
    "import sys\n",
    "import os\n",
    "import json\n",
    "import pandas as pd\n",
    "\n",
    "\n",
    "\n",
    "def get_malicious(file_list):\n",
    "    root_path = \"/home/sparrow/sparrow/data/sangfor/18\"\n",
    "    df_list_ma = []\n",
    "    df_list_ph = []\n",
    "    for i in file_list:\n",
    "        local_path = root_path + i\n",
    "        \n",
    "        filepath = os.path.join(local_path ,'dumped_result.ma.csv')\n",
    "        df_list_ma.append( pd.read_csv(filepath))\n",
    "        \n",
    "        filepath = os.path.join(local_path ,'dumped_result.ph.csv')\n",
    "        df_list_ph.append( pd.read_csv(filepath))\n",
    "        \n",
    "        print local_path\n",
    "        \n",
    "    df_ma = pd.concat(df_list_ma, axis = 0)\n",
    "    df_ph = pd.concat(df_list_ph, axis = 0)\n",
    "    return df_ma, df_ph\n",
    "\n",
    "def get_total_sample(file_list):\n",
    "    root_path = \"/home/sparrow/sparrow/data/sangfor/18\"\n",
    "    total_url = set()\n",
    "    for i in file_list:\n",
    "        local_path = root_path + i\n",
    "        filepath = os.path.join(local_path ,'dumped_result.txt')\n",
    "        f = open(filepath)\n",
    "        recs = [json.loads(rec) for rec in f]\n",
    "        for rec in recs:\n",
    "            for k, v in rec.iteritems():\n",
    "                rec[k] = json.loads(v)\n",
    "        for rec in recs:\n",
    "            total_url.add(rec['url'])\n",
    "        print filepath, len(total_url)\n",
    "        f.close()\n",
    "    print \"Total URL Count:\\t%d\" %len(total_url)\n",
    "    return total_url"
   ]
  },
  {
   "cell_type": "code",
   "execution_count": 22,
   "metadata": {},
   "outputs": [
    {
     "name": "stdout",
     "output_type": "stream",
     "text": [
      "/home/sparrow/sparrow/data/sangfor/180301\n",
      "/home/sparrow/sparrow/data/sangfor/180302\n",
      "/home/sparrow/sparrow/data/sangfor/180306\n",
      "/home/sparrow/sparrow/data/sangfor/180307\n",
      "/home/sparrow/sparrow/data/sangfor/180311\n",
      "/home/sparrow/sparrow/data/sangfor/180312\n",
      "/home/sparrow/sparrow/data/sangfor/180313\n",
      "/home/sparrow/sparrow/data/sangfor/180314\n",
      "/home/sparrow/sparrow/data/sangfor/180315\n",
      "/home/sparrow/sparrow/data/sangfor/180318\n",
      "/home/sparrow/sparrow/data/sangfor/180319\n",
      "/home/sparrow/sparrow/data/sangfor/180320\n",
      "/home/sparrow/sparrow/data/sangfor/180321\n",
      "/home/sparrow/sparrow/data/sangfor/180322\n",
      "/home/sparrow/sparrow/data/sangfor/180323\n",
      "/home/sparrow/sparrow/data/sangfor/180325\n",
      "/home/sparrow/sparrow/data/sangfor/180326\n",
      "/home/sparrow/sparrow/data/sangfor/180327\n",
      "/home/sparrow/sparrow/data/sangfor/180328\n",
      "/home/sparrow/sparrow/data/sangfor/180330\n",
      "/home/sparrow/sparrow/data/sangfor/180401\n",
      "/home/sparrow/sparrow/data/sangfor/180402\n"
     ]
    }
   ],
   "source": [
    "file_list = [\"0301\",\"0302\",\"0306\",\"0307\",\"0311\",\"0312\",\"0313\",\"0314\",\"0315\",\"0318\",\"0319\",\n",
    "              \"0320\",\"0321\",\"0322\",\"0323\",\"0325\",\"0326\",\"0327\",\"0328\",\"0330\",\"0401\",\"0402\"]\n",
    "\n",
    "df_ma, df_ph = get_malicious(file_list)\n",
    "total_url = get_total_sample(file_list)"
   ]
  },
  {
   "cell_type": "code",
   "execution_count": 4,
   "metadata": {},
   "outputs": [
    {
     "name": "stdout",
     "output_type": "stream",
     "text": [
      "/home/sparrow/sparrow/data/sangfor/180410\n",
      "/home/sparrow/sparrow/data/sangfor/180411\n",
      "/home/sparrow/sparrow/data/sangfor/180412\n",
      "/home/sparrow/sparrow/data/sangfor/180415\n",
      "/home/sparrow/sparrow/data/sangfor/180416\n",
      "/home/sparrow/sparrow/data/sangfor/180410/dumped_result.txt 100000\n",
      "/home/sparrow/sparrow/data/sangfor/180411/dumped_result.txt 156132\n",
      "/home/sparrow/sparrow/data/sangfor/180412/dumped_result.txt 206095\n",
      "/home/sparrow/sparrow/data/sangfor/180415/dumped_result.txt 270444\n",
      "/home/sparrow/sparrow/data/sangfor/180416/dumped_result.txt 331832\n",
      "Total URL Count:\t331832\n"
     ]
    }
   ],
   "source": [
    "file_list = [\"0410\", \"0411\", \"0412\", \"0415\", \"0416\"]\n",
    "\n",
    "df_ma, df_ph = get_malicious(file_list)\n",
    "total_url = get_total_sample(file_list)"
   ]
  },
  {
   "cell_type": "code",
   "execution_count": 5,
   "metadata": {},
   "outputs": [
    {
     "name": "stdout",
     "output_type": "stream",
     "text": [
      "Safe URL Count:\t325530\n"
     ]
    }
   ],
   "source": [
    "safe_url = list(set(total_url) - set(df_ma.url) - set(df_ph.url))\n",
    "safe_url = [_.encode('utf-8') for _ in safe_url]\n",
    "df_safe = pd.DataFrame({'url': safe_url})\n",
    "print \"Safe URL Count:\\t%d\" %len(df_safe)\n",
    "df_safe.to_csv(\"/home/sparrow/sparrow/data/sangfor/safe0416.csv\")"
   ]
  }
 ],
 "metadata": {
  "kernelspec": {
   "display_name": "Python 2",
   "language": "python",
   "name": "python2"
  },
  "language_info": {
   "codemirror_mode": {
    "name": "ipython",
    "version": 2
   },
   "file_extension": ".py",
   "mimetype": "text/x-python",
   "name": "python",
   "nbconvert_exporter": "python",
   "pygments_lexer": "ipython2",
   "version": "2.7.14"
  }
 },
 "nbformat": 4,
 "nbformat_minor": 2
}
