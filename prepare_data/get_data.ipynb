{
 "cells": [
  {
   "cell_type": "code",
   "execution_count": 2,
   "metadata": {},
   "outputs": [],
   "source": [
    "import sys\n",
    "import os\n",
    "import json\n",
    "import pandas as pd\n",
    "\n",
    "\n",
    "\n",
    "def get_malicious(file_list):\n",
    "    root_path = \"/home/sparrow/sparrow/data/sangfor/18\"\n",
    "    df_list_ma = []\n",
    "    df_list_ph = []\n",
    "    for i in file_list:\n",
    "        local_path = root_path + i\n",
    "        \n",
    "        filepath = os.path.join(local_path ,'dumped_result.ma.csv')\n",
    "        df_list_ma.append( pd.read_csv(filepath))\n",
    "        \n",
    "        filepath = os.path.join(local_path ,'dumped_result.ph.csv')\n",
    "        df_list_ph.append( pd.read_csv(filepath))\n",
    "        \n",
    "        print local_path\n",
    "        \n",
    "    df_ma = pd.concat(df_list_ma, axis = 0)\n",
    "    df_ph = pd.concat(df_list_ph, axis = 0)\n",
    "    return df_ma, df_ph\n",
    "\n",
    "def get_total_sample(file_list):\n",
    "    root_path = \"/home/sparrow/sparrow/data/sangfor/18\"\n",
    "    total_url = set()\n",
    "    for i in file_list:\n",
    "        local_path = root_path + i\n",
    "        filepath = os.path.join(local_path ,'dumped_result.txt')\n",
    "        f = open(filepath)\n",
    "        recs = [json.loads(rec) for rec in f]\n",
    "        for rec in recs:\n",
    "            for k, v in rec.iteritems():\n",
    "                rec[k] = json.loads(v)\n",
    "        for rec in recs:\n",
    "            total_url.add(rec['url'])\n",
    "        print filepath, len(total_url)\n",
    "        f.close()\n",
    "    print \"Total URL Count:\\t%d\" %len(total_url)\n",
    "    return total_url\n",
    "\n",
    "def get_malware_data(file_list):\n",
    "    root_path = \"/home/sparrow/sparrow/data/sangfor/18\"\n",
    "    df_list = []\n",
    "    for i in file_list:\n",
    "        local_path = root_path + i\n",
    "        filepath = os.path.join(local_path ,'dumped_result.ma.csv')\n",
    "        df_list.append( pd.read_csv(filepath))\n",
    "        print local_path\n",
    "        \n",
    "    df = pd.concat(df_list, axis = 0)\n",
    "    df = df.loc[df[\"platform\"] == 5003]\n",
    "    df = df.loc[(df[\"report_type\"] == 1).values + (df[\"report_type\"] == 2).values]\n",
    "    return df\n",
    "\n",
    "def covert_and_dump(df):\n",
    "    urls = list(set(df.url))\n",
    "    print len(urls)\n",
    "    return pd.DataFrame({\"url\": urls})"
   ]
  },
  {
   "cell_type": "code",
   "execution_count": 2,
   "metadata": {
    "scrolled": true
   },
   "outputs": [
    {
     "name": "stdout",
     "output_type": "stream",
     "text": [
      "/home/sparrow/sparrow/data/sangfor/180301/dumped_result.txt 100000\n",
      "/home/sparrow/sparrow/data/sangfor/180302/dumped_result.txt 162920\n",
      "/home/sparrow/sparrow/data/sangfor/180306/dumped_result.txt 219430\n",
      "/home/sparrow/sparrow/data/sangfor/180307/dumped_result.txt 267294\n",
      "/home/sparrow/sparrow/data/sangfor/180311/dumped_result.txt 334200\n",
      "/home/sparrow/sparrow/data/sangfor/180312/dumped_result.txt 400270\n",
      "/home/sparrow/sparrow/data/sangfor/180313/dumped_result.txt 444164\n",
      "/home/sparrow/sparrow/data/sangfor/180314/dumped_result.txt 486715\n",
      "/home/sparrow/sparrow/data/sangfor/180315/dumped_result.txt 528351\n",
      "/home/sparrow/sparrow/data/sangfor/180318/dumped_result.txt 590172\n",
      "/home/sparrow/sparrow/data/sangfor/180319/dumped_result.txt 651913\n",
      "/home/sparrow/sparrow/data/sangfor/180320/dumped_result.txt 691585\n",
      "/home/sparrow/sparrow/data/sangfor/180321/dumped_result.txt 728972\n",
      "/home/sparrow/sparrow/data/sangfor/180322/dumped_result.txt 767933\n",
      "/home/sparrow/sparrow/data/sangfor/180323/dumped_result.txt 806841\n",
      "/home/sparrow/sparrow/data/sangfor/180325/dumped_result.txt 862731\n",
      "/home/sparrow/sparrow/data/sangfor/180326/dumped_result.txt 924053\n",
      "/home/sparrow/sparrow/data/sangfor/180327/dumped_result.txt 962631\n",
      "/home/sparrow/sparrow/data/sangfor/180328/dumped_result.txt 1000155\n",
      "/home/sparrow/sparrow/data/sangfor/180330/dumped_result.txt 1041233\n",
      "/home/sparrow/sparrow/data/sangfor/180401/dumped_result.txt 1098491\n",
      "/home/sparrow/sparrow/data/sangfor/180402/dumped_result.txt 1158757\n",
      "/home/sparrow/sparrow/data/sangfor/180410/dumped_result.txt 1214031\n",
      "/home/sparrow/sparrow/data/sangfor/180411/dumped_result.txt 1250895\n",
      "/home/sparrow/sparrow/data/sangfor/180412/dumped_result.txt 1287528\n",
      "/home/sparrow/sparrow/data/sangfor/180415/dumped_result.txt 1342453\n",
      "/home/sparrow/sparrow/data/sangfor/180416/dumped_result.txt 1397720\n",
      "/home/sparrow/sparrow/data/sangfor/180417/dumped_result.txt 1432855\n",
      "/home/sparrow/sparrow/data/sangfor/180418/dumped_result.txt 1466399\n",
      "/home/sparrow/sparrow/data/sangfor/180419/dumped_result.txt 1502002\n",
      "Total URL Count:\t1502002\n",
      "/home/sparrow/sparrow/data/sangfor/180301\n",
      "/home/sparrow/sparrow/data/sangfor/180302\n",
      "/home/sparrow/sparrow/data/sangfor/180306\n",
      "/home/sparrow/sparrow/data/sangfor/180307\n",
      "/home/sparrow/sparrow/data/sangfor/180311\n",
      "/home/sparrow/sparrow/data/sangfor/180312\n",
      "/home/sparrow/sparrow/data/sangfor/180313\n",
      "/home/sparrow/sparrow/data/sangfor/180314\n",
      "/home/sparrow/sparrow/data/sangfor/180315\n",
      "/home/sparrow/sparrow/data/sangfor/180318\n",
      "/home/sparrow/sparrow/data/sangfor/180319\n",
      "/home/sparrow/sparrow/data/sangfor/180320\n",
      "/home/sparrow/sparrow/data/sangfor/180321\n",
      "/home/sparrow/sparrow/data/sangfor/180322\n",
      "/home/sparrow/sparrow/data/sangfor/180323\n",
      "/home/sparrow/sparrow/data/sangfor/180325\n",
      "/home/sparrow/sparrow/data/sangfor/180326\n",
      "/home/sparrow/sparrow/data/sangfor/180327\n",
      "/home/sparrow/sparrow/data/sangfor/180328\n",
      "/home/sparrow/sparrow/data/sangfor/180330\n",
      "/home/sparrow/sparrow/data/sangfor/180401\n",
      "/home/sparrow/sparrow/data/sangfor/180402\n",
      "/home/sparrow/sparrow/data/sangfor/180410\n",
      "/home/sparrow/sparrow/data/sangfor/180411\n",
      "/home/sparrow/sparrow/data/sangfor/180412\n",
      "/home/sparrow/sparrow/data/sangfor/180415\n",
      "/home/sparrow/sparrow/data/sangfor/180416\n",
      "/home/sparrow/sparrow/data/sangfor/180417\n",
      "/home/sparrow/sparrow/data/sangfor/180418\n",
      "/home/sparrow/sparrow/data/sangfor/180419\n"
     ]
    }
   ],
   "source": [
    "file_list = [\"0301\",\"0302\",\"0306\",\"0307\",\"0311\",\"0312\",\"0313\",\"0314\",\"0315\",\"0318\",\"0319\",\n",
    "             \"0320\",\"0321\",\"0322\",\"0323\",\"0325\",\"0326\",\"0327\",\"0328\",\"0330\",\"0401\",\"0402\", \n",
    "             \"0410\",\"0411\",\"0412\",\"0415\",\"0416\",\"0417\",\"0418\",\"0419\"]\n",
    "total_url = get_total_sample(file_list)\n",
    "df_ma, df_ph = get_malicious(file_list)"
   ]
  },
  {
   "cell_type": "code",
   "execution_count": 8,
   "metadata": {},
   "outputs": [
    {
     "name": "stdout",
     "output_type": "stream",
     "text": [
      "Safe URL Count:\t1461039\n"
     ]
    }
   ],
   "source": [
    "safe_url = list(set(total_url) - set(df_ma.url) - set(df_ph.url))\n",
    "safe_url = [_.encode('utf-8') for _ in safe_url]\n",
    "df_safe = pd.DataFrame({'url': safe_url})\n",
    "print \"Safe URL Count:\\t%d\" %len(df_safe)\n",
    "df_safe.to_csv(\"/home/sparrow/sparrow/data/sangfor/safe_0419.csv\")"
   ]
  },
  {
   "cell_type": "code",
   "execution_count": 5,
   "metadata": {},
   "outputs": [
    {
     "name": "stdout",
     "output_type": "stream",
     "text": [
      "39798\n"
     ]
    }
   ],
   "source": [
    "df = covert_and_dump(df_ma)\n",
    "df_ma.to_csv(\"/home/sparrow/sparrow/data/sangfor/malware_all_0419.csv\")"
   ]
  },
  {
   "cell_type": "code",
   "execution_count": 19,
   "metadata": {},
   "outputs": [
    {
     "name": "stdout",
     "output_type": "stream",
     "text": [
      "/home/sparrow/sparrow/data/sangfor/180410\n",
      "/home/sparrow/sparrow/data/sangfor/180411\n",
      "/home/sparrow/sparrow/data/sangfor/180412\n",
      "/home/sparrow/sparrow/data/sangfor/180415\n",
      "/home/sparrow/sparrow/data/sangfor/180416\n"
     ]
    }
   ],
   "source": [
    "file_list = [\"0410\", \"0411\", \"0412\", \"0415\", \"0416\"]\n",
    "df = get_malware_data(file_list)\n",
    "df.to_csv(\"/home/sparrow/sparrow/data/sangfor/malware0416.csv\")"
   ]
  },
  {
   "cell_type": "markdown",
   "metadata": {},
   "source": [
    "# Get EDR data"
   ]
  },
  {
   "cell_type": "code",
   "execution_count": 12,
   "metadata": {},
   "outputs": [],
   "source": [
    "def get_malware_edr_data(file_list):\n",
    "    root_path = \"/home/sparrow/sparrow/data/sangfor/18\"\n",
    "    df_list = []\n",
    "    for i in file_list:\n",
    "        local_path = root_path + i\n",
    "        filepath = os.path.join(local_path ,'dumped_result.edr.csv')\n",
    "        df_list.append( pd.read_csv(filepath))\n",
    "        print local_path\n",
    "        \n",
    "    df = pd.concat(df_list, axis = 0)\n",
    "    return df"
   ]
  },
  {
   "cell_type": "code",
   "execution_count": 13,
   "metadata": {},
   "outputs": [],
   "source": [
    "file_list = [\"0401\", \"0402\", \"0410\", \"0411\", \"0412\", \"0415\", \"0416\", \"0417\", \"0418\", \"0419\"]"
   ]
  },
  {
   "cell_type": "code",
   "execution_count": 15,
   "metadata": {},
   "outputs": [
    {
     "name": "stdout",
     "output_type": "stream",
     "text": [
      "/home/sparrow/sparrow/data/sangfor/180401\n",
      "/home/sparrow/sparrow/data/sangfor/180402\n",
      "/home/sparrow/sparrow/data/sangfor/180410\n",
      "/home/sparrow/sparrow/data/sangfor/180411\n",
      "/home/sparrow/sparrow/data/sangfor/180412\n",
      "/home/sparrow/sparrow/data/sangfor/180415\n",
      "/home/sparrow/sparrow/data/sangfor/180416\n",
      "/home/sparrow/sparrow/data/sangfor/180417\n",
      "/home/sparrow/sparrow/data/sangfor/180418\n",
      "/home/sparrow/sparrow/data/sangfor/180419\n"
     ]
    }
   ],
   "source": [
    "df = get_malware_edr_data(file_list)"
   ]
  },
  {
   "cell_type": "markdown",
   "metadata": {},
   "source": [
    "# Virus Total data"
   ]
  },
  {
   "cell_type": "code",
   "execution_count": 11,
   "metadata": {},
   "outputs": [],
   "source": [
    "def read_data(date):\n",
    "    file_list = os.listdir(\"../../data/VirusTotalnew/{date}/\".format(date = date))\n",
    "    file_num = len(file_list)\n",
    "    df_list = []\n",
    "    for i in range(file_num):\n",
    "        try:\n",
    "            df_list.append(pd.read_csv(\"../../data/VirusTotalnew/{date}/vt-{date}-{i}.csv\".format(date = date, i = i)))\n",
    "            if i %2000 == 0:\n",
    "                print(\"loading ../../data/VirusTotalnew/{date}/vt-{date}-{i}.csv\".format(date = date, i = i))\n",
    "        except Exception as e:\n",
    "            logging.error(\"%s\" %str(e))\n",
    "    df = pd.concat(df_list)\n",
    "    return df\n",
    "\n",
    "\n",
    "def make_malicious_file(date):\n",
    "    assert isinstance(date, list)\n",
    "    df_list = []\n",
    "    for i in date:\n",
    "        df_list.append(read_data(i))\n",
    "    df = pd.concat(df_list)\n",
    "    return df\n",
    "    \n",
    "def get_data_list():\n",
    "    curadspath = os.path.abspath(\"../../data/VirusTotalnew\")\n",
    "    file_list = os.listdir(curadspath)\n",
    "    return [_ for _ in file_list if _.isdigit()]"
   ]
  },
  {
   "cell_type": "code",
   "execution_count": 12,
   "metadata": {},
   "outputs": [
    {
     "name": "stdout",
     "output_type": "stream",
     "text": [
      "loading ../../data/VirusTotalnew/20180413/vt-20180413-0.csv\n",
      "loading ../../data/VirusTotalnew/20180413/vt-20180413-2000.csv\n",
      "loading ../../data/VirusTotalnew/20180419/vt-20180419-0.csv\n",
      "loading ../../data/VirusTotalnew/20180419/vt-20180419-2000.csv\n",
      "loading ../../data/VirusTotalnew/20180419/vt-20180419-4000.csv\n",
      "loading ../../data/VirusTotalnew/20180414/vt-20180414-0.csv\n",
      "loading ../../data/VirusTotalnew/20180414/vt-20180414-2000.csv\n",
      "loading ../../data/VirusTotalnew/20180417/vt-20180417-0.csv\n",
      "loading ../../data/VirusTotalnew/20180417/vt-20180417-2000.csv\n",
      "loading ../../data/VirusTotalnew/20180417/vt-20180417-4000.csv\n",
      "loading ../../data/VirusTotalnew/20180424/vt-20180424-0.csv\n",
      "loading ../../data/VirusTotalnew/20180424/vt-20180424-2000.csv\n",
      "loading ../../data/VirusTotalnew/20180423/vt-20180423-0.csv\n",
      "loading ../../data/VirusTotalnew/20180423/vt-20180423-2000.csv\n",
      "loading ../../data/VirusTotalnew/20180412/vt-20180412-0.csv\n",
      "loading ../../data/VirusTotalnew/20180412/vt-20180412-2000.csv\n",
      "loading ../../data/VirusTotalnew/20180412/vt-20180412-4000.csv\n",
      "loading ../../data/VirusTotalnew/20180416/vt-20180416-0.csv\n",
      "loading ../../data/VirusTotalnew/20180416/vt-20180416-2000.csv\n",
      "loading ../../data/VirusTotalnew/20180416/vt-20180416-4000.csv\n",
      "loading ../../data/VirusTotalnew/20180420/vt-20180420-0.csv\n",
      "loading ../../data/VirusTotalnew/20180420/vt-20180420-2000.csv\n",
      "loading ../../data/VirusTotalnew/20180420/vt-20180420-4000.csv\n",
      "loading ../../data/VirusTotalnew/20180418/vt-20180418-0.csv\n",
      "loading ../../data/VirusTotalnew/20180418/vt-20180418-2000.csv\n",
      "loading ../../data/VirusTotalnew/20180411/vt-20180411-0.csv\n",
      "loading ../../data/VirusTotalnew/20180411/vt-20180411-2000.csv\n"
     ]
    },
    {
     "name": "stderr",
     "output_type": "stream",
     "text": [
      "ERROR:root:File ../../data/VirusTotalnew/20180411/vt-20180411-2231.csv does not exist\n"
     ]
    },
    {
     "name": "stdout",
     "output_type": "stream",
     "text": [
      "loading ../../data/VirusTotalnew/20180421/vt-20180421-0.csv\n",
      "loading ../../data/VirusTotalnew/20180421/vt-20180421-2000.csv\n",
      "loading ../../data/VirusTotalnew/20180421/vt-20180421-4000.csv\n"
     ]
    }
   ],
   "source": [
    "date_list = get_data_list()\n",
    "df = make_malicious_file(date_list)"
   ]
  },
  {
   "cell_type": "code",
   "execution_count": 14,
   "metadata": {},
   "outputs": [],
   "source": [
    "df = df.drop_duplicates(\"url\")"
   ]
  },
  {
   "cell_type": "code",
   "execution_count": 3,
   "metadata": {},
   "outputs": [
    {
     "name": "stderr",
     "output_type": "stream",
     "text": [
      "/home/sparrow/anaconda2/lib/python2.7/site-packages/IPython/core/interactiveshell.py:2714: DtypeWarning: Columns (1) have mixed types. Specify dtype option on import or set low_memory=False.\n",
      "  interactivity=interactivity, compiler=compiler, result=result)\n"
     ]
    }
   ],
   "source": [
    "df = pd.read_csv(\"/home/sparrow/sparrow/data/VirusTotalnew/malicious/20180424.csv\")"
   ]
  },
  {
   "cell_type": "code",
   "execution_count": 9,
   "metadata": {},
   "outputs": [],
   "source": [
    "df = df.loc[df.positives>0]"
   ]
  },
  {
   "cell_type": "code",
   "execution_count": 14,
   "metadata": {},
   "outputs": [
    {
     "data": {
      "text/plain": [
       "Index([u'Unnamed: 0', u'positives', u'timestamp', u'total', u'url'], dtype='object')"
      ]
     },
     "execution_count": 14,
     "metadata": {},
     "output_type": "execute_result"
    }
   ],
   "source": [
    "df.columns"
   ]
  },
  {
   "cell_type": "code",
   "execution_count": 19,
   "metadata": {},
   "outputs": [],
   "source": [
    "df.to_csv(\"/home/sparrow/sparrow/data/VirusTotalnew/malicious/20180424-ma.csv\", index = False)"
   ]
  },
  {
   "cell_type": "code",
   "execution_count": 37,
   "metadata": {},
   "outputs": [
    {
     "name": "stderr",
     "output_type": "stream",
     "text": [
      "/home/sparrow/anaconda2/lib/python2.7/site-packages/IPython/core/interactiveshell.py:2714: DtypeWarning: Columns (0) have mixed types. Specify dtype option on import or set low_memory=False.\n",
      "  interactivity=interactivity, compiler=compiler, result=result)\n"
     ]
    }
   ],
   "source": [
    "df = pd.read_csv(\"/home/sparrow/sparrow/data/VirusTotalnew/malicious/20180424-ma.csv\")"
   ]
  },
  {
   "cell_type": "code",
   "execution_count": 40,
   "metadata": {},
   "outputs": [],
   "source": [
    "df = df.loc[df.positives>3]"
   ]
  },
  {
   "cell_type": "code",
   "execution_count": 21,
   "metadata": {},
   "outputs": [],
   "source": [
    "df = df.set_index(\"url\")"
   ]
  },
  {
   "cell_type": "code",
   "execution_count": 32,
   "metadata": {},
   "outputs": [
    {
     "name": "stdout",
     "output_type": "stream",
     "text": [
      "nan\n"
     ]
    }
   ],
   "source": [
    "for i in list(df.index):\n",
    "    try:\n",
    "        if \"asset.qingshu520.com\" in i:\n",
    "            print i\n",
    "    except:\n",
    "        print i"
   ]
  },
  {
   "cell_type": "code",
   "execution_count": 33,
   "metadata": {},
   "outputs": [
    {
     "name": "stderr",
     "output_type": "stream",
     "text": [
      "/home/sparrow/anaconda2/lib/python2.7/site-packages/IPython/core/interactiveshell.py:2714: DtypeWarning: Columns (6,8,9) have mixed types. Specify dtype option on import or set low_memory=False.\n",
      "  interactivity=interactivity, compiler=compiler, result=result)\n"
     ]
    }
   ],
   "source": [
    "df = pd.read_csv(\"/home/sparrow/sparrow/data/sangfor/malware_all_0419.csv\")"
   ]
  },
  {
   "cell_type": "code",
   "execution_count": 36,
   "metadata": {
    "scrolled": true
   },
   "outputs": [
    {
     "name": "stdout",
     "output_type": "stream",
     "text": [
      "http://tu.dxcnd.cn/ggjc/update/20150331/fe1daa45fad2eade4f3b39194119d91d-2.db?auth_ver=2&appkey=4665fd2c6b0922a551e8ae74&nonce=1523242843426&lc=77qHTv4VtmRiXYtd&s=607b7a0cb66b4568fc449d7d49471b58\n",
      "http://tu.dxcnd.cn\n",
      "http://tu.dxcnd.cn/ggjc/update/20170927/8d36eba69ae16e63ab7717d5a79350d1-201709270.db\n",
      "http://tu.dxcnd.cn/ggjc/update/20180327/10693454a770239c97385ddf28d7c40b-1803279990.db?auth_ver=2&appkey=50c82132bb394901f151ad96&nonce=1523254631674&model=T7&signmd5=608291140&vendor=CUBE&locale=en_US&pkg=cn.opda.a.phonoalbumshoushou&tk=UX5tr5IpcPXpC3cGrlflYA%3D%3D&vn=9.10.0&h=1824&w=1200&v=3911&ntt=WIFI&ie=862823021013547&lc=rZkSaTZAYNuzw7gP&dpi=320&sdk=19&s=e7f19d7de6b41917d03756ba1d944826\n",
      "http://tu.dxcnd.cn/ggjc/update/20180327/10693454a770239c97385ddf28d7c40b-1803279990.db?auth_ver=2&appkey=50c82132bb394901f151ad96&nonce=1523217619513&tk=1B8piqDgcb0mPX256cBdRQ%3D%3D&sdk=22&dpi=320&vn=8.2.4.1&locale=zh_CN&ie=861270038093727&op=46000&h=1184&w=720&lc=farFVQdu0Lc27V4I&ntt=WIFI&v=3044&signmd5=608291140&is=460000951443944&pkg=com.dianxinos.optimizer.channel&vendor=HUAWEI&model=HUAWEI+TAG-AL00&s=9114e8641301bb794f15d40603f85804\n",
      "http://tu.dxcnd.cn\n",
      "http://tu.dxcnd.cn/ggjc/update/20170927/8d36eba69ae16e63ab7717d5a79350d1-201709270.db\n",
      "http://tu.dxcnd.cn\n",
      "http://tu.dxcnd.cn\n",
      "http://tu.dxcnd.cn/ggjc/update/20180414/ca1137b18e81003041a02009a8c7c1b9-1804149990.db?auth_ver=2&appkey=50c82132bb394901f151ad96&nonce=1523711404952&tk=rnGoMH8qTu6tAeseESzQGQ%3D%3D&sdk=23&dpi=480&vn=8.9.5&locale=zh_CN&ie=357092068489190&op=46000&h=1920&w=1080&lc=ofjYhQbJeo7ayxkl&ntt=WIFI&v=3428&signmd5=608291140&is=460026340147875&pkg=cn.opda.a.phonoalbumshoushou&vendor=samsung&model=SM-A7000&s=cd63cb58f15de1f75ce45e925ade46fb\n",
      "http://tu.dxcnd.cn/ggjc/update/20180414/ca1137b18e81003041a02009a8c7c1b9-1804149990.db?auth_ver=2&appkey=50c82132bb394901f151ad96&nonce=1523698741723&model=SM-G7108&signmd5=608291140&vendor=samsung&locale=zh_CN&pkg=cn.opda.a.phonoalbumshoushou&tk=FcUEpKOgFB55Hyyj%2BwEPCQ%3D%3D&vn=8.10.0&h=1280&w=720&v=3439&ntt=WIFI&ie=359627053589435&lc=KNMbLBf6IOjv67ba&dpi=320&sdk=18&s=fd25dee48d72ae7411d411e7b3309db1\n",
      "http://tu.dxcnd.cn/ggjc/update/20180414/ca1137b18e81003041a02009a8c7c1b9-1804149990.db?auth_ver=2&appkey=50c82132bb394901f151ad96&nonce=1523770573338&tk=4VlkXHhkwwRQEVTJiIpeQA%3D%3D&sdk=22&dpi=320&vn=9.6.0&locale=zh_CN&ie=861142035679396&op=46000&h=1184&w=720&lc=1SFQznDM1WpbEIYW&ntt=WIFI&v=3786&signmd5=608291140&is=460023587954508&pkg=cn.opda.a.phonoalbumshoushou&vendor=HUAWEI&model=SCL-TL00&s=729fbef27a68824d53dbcf364fa1259b\n",
      "http://tu.dxcnd.cn/ggjc/update/20180414/ca1137b18e81003041a02009a8c7c1b9-1804149990.db?auth_ver=2&appkey=50c82132bb394901f151ad96&nonce=1523722308249&tk=5XxOFnP%2F60RYiLPt0IqtbQ%3D%3D&sdk=25&dpi=320&vn=9.10.0&locale=zh_CN&ie=865354032260510&op=46000&h=1280&w=720&ntt=WIFI&lc=QQ4HUc05lKgVqbQe&v=3911&signmd5=608291140&is=460020301665496&pkg=cn.opda.a.phonoalbumshoushou&vendor=Xiaomi&model=Redmi+4X&s=b662d0e9ad7d037767d35415fc09eba3\n",
      "http://tu.dxcnd.cn/ggjc/update/20180414/ca1137b18e81003041a02009a8c7c1b9-1804149990.db?auth_ver=2&appkey=50c82132bb394901f151ad96&nonce=1523780361936&tk=F2MX7TAqaGimcqWUJRNSkQ%3D%3D&sdk=22&dpi=320&vn=9.7.1&locale=zh_CN&ie=868092021750532&op=46000&h=1184&w=720&lc=0TqMNU0897RpTajA&ntt=WIFI&v=3843&signmd5=608291140&is=460077239027391&pkg=cn.opda.a.phonoalbumshoushou&vendor=HUAWEI&model=HUAWEI+TIT-TL00&s=d24e38e6607e2d5f12cbc96d9e6aafa5\n",
      "http://tu.dxcnd.cn/ggjc/update/20151127/7672b8ff8aa64ae89d886be1700d0f00-47.db?auth_ver=2&appkey=50c82132bb394901f151ad96&nonce=1523768338786&tk=cxOG%2BUIx%2FTRp0nmzi2niyw%3D%3D&sdk=22&dpi=320&vn=6.4.7&locale=zh_CN&ie=860777032245658&op=46000&h=1280&w=720&ntt=WIFI&lc=cXKJW0DfdwJlTNwW&v=6470&signmd5=127321156&is=460023836423130&pkg=cn.goapk.market&vendor=GIONEE&model=F100&sdk_api=5&sdk_ver=1.4.0&s=fc8a62c7cfda12f5cf0b47ae46348557\n",
      "http://tu.dxcnd.cn/ggjc/update/20151127/7672b8ff8aa64ae89d886be1700d0f00-47.db?auth_ver=2&appkey=50c82132bb394901f151ad96&nonce=1523779999919&tk=Sjt%2FH7vB74ML07zJK2fd4w%3D%3D&sdk=22&dpi=480&vn=6.4.7&locale=zh_CN&h=1920&w=1080&ntt=WIFI&lc=cXKJW0DfdwJlTNwW&v=6470&signmd5=127321156&pkg=cn.goapk.market&vendor=vivo&model=vivo+X7&sdk_api=5&sdk_ver=1.4.0&s=086a2f6bdc139351f166170debb7e1c9\n",
      "http://tu.dxcnd.cn/ggjc/update/20180414/ca1137b18e81003041a02009a8c7c1b9-1804149990.db?auth_ver=2&appkey=50c82132bb394901f151ad96&nonce=1523746675096&tk=S%2BEwglJwZ63AA7P9ylVzUg%3D%3D&sdk=22&dpi=480&vn=9.10.0&locale=zh_CN&ie=868475020064841&op=46001&h=1776&w=1080&lc=mjJLk4SDSbElx8uO&ntt=WIFI&v=3911&signmd5=608291140&is=460016156103904&pkg=cn.opda.a.phonoalbumshoushou&vendor=SANTIN&model=SANTIN+N3&s=dafdf48801dbbe24bf57928a34fca40b\n",
      "http://tu.dxcnd.cn/ggjc/update/20180414/ca1137b18e81003041a02009a8c7c1b9-1804149990.db?auth_ver=2&appkey=50c82132bb394901f151ad96&nonce=1523801950899&is=460030725384823&model=CHM-CL00&op=46003&signmd5=608291140&vendor=HUAWEI&locale=zh_CN&pkg=cn.opda.a.phonoalbumshoushou&tk=aIJ3dijp2AdlfHrZp6%2BvzA%3D%3D&vn=9.10.0&h=1280&w=720&v=3911&ntt=WIFI&ie=A0000055D76CA1&lc=FPFNQrLZCnF1uoUS&dpi=320&sdk=19&s=caf1185aaa226c5b17a4976d3ba53b8b\n",
      "http://tu.dxcnd.cn/ggjc/update/20180414/ca1137b18e81003041a02009a8c7c1b9-1804149990.db?auth_ver=2&appkey=50c82132bb394901f151ad96&nonce=1523764812708&is=460010563610446&model=SM-G9092&op=46001&signmd5=608291140&vendor=samsung&locale=zh_CN&pkg=cn.opda.a.phonoalbumshoushou&tk=gTxPCR3jcNYtfg1PDqf4MA%3D%3D&vn=9.6.0&h=800&w=480&v=3786&ntt=WIFI&ie=359439051297213&lc=8qflv9fCxujhynqA&dpi=240&sdk=18&s=74fb3d4da38667e00afc4df2ecb486d5\n",
      "http://tu.dxcnd.cn\n",
      "http://tu.dxcnd.cn/ggjc/update/20180414/ca1137b18e81003041a02009a8c7c1b9-1804149990.db?auth_ver=2&appkey=50c82132bb394901f151ad96&nonce=1523773726754&tk=PNSxIDABw2816P4%2B0p9oEg%3D%3D&sdk=23&dpi=320&vn=9.9.0&locale=zh_CN&ie=864288033912953&op=46011&h=1280&w=720&lc=pEiyYE09f8wm99J5&ntt=WIFI&v=3897&signmd5=608291140&is=460110758711967&pkg=cn.opda.a.phonoalbumshoushou&vendor=vivo&model=vivo+Y67&s=67e10994de59f8fa891fea4f478af198\n",
      "http://tu.dxcnd.cn/ggjc/update/20180414/ca1137b18e81003041a02009a8c7c1b9-1804149990.db?auth_ver=2&appkey=50c82132bb394901f151ad96&nonce=1523742546085&tk=XMOY3fzX1CPitrN6M5Br2Q%3D%3D&sdk=23&dpi=420&vn=8.10.0&locale=zh_CN&ie=863473030049832&op=46000&h=1920&w=1080&lc=ktOVSThVy5jXevMH&ntt=WIFI&v=3439&signmd5=608291140&is=460021128169303&pkg=cn.opda.a.phonoalbumshoushou&vendor=Coolpad&model=C105-6&s=35b452f02818b23879008e1145880b68\n",
      "http://tu.dxcnd.cn/ggjc/update/20180414/ca1137b18e81003041a02009a8c7c1b9-1804149990.db?auth_ver=2&appkey=50c82132bb394901f151ad96&nonce=1523850757737&tk=o4hkh7HvEYJSZlgqqHJwVQ%3D%3D&sdk=24&dpi=480&vn=9.10.0&locale=zh_CN&ie=867307031097166&op=46000&h=1920&w=1080&ntt=WIFI&lc=QQ4HUc05lKgVqbQe&v=3911&signmd5=608291140&is=460007630576420&pkg=cn.opda.a.phonoalbumshoushou&vendor=Xiaomi&model=Redmi+Note+4X&s=8fe64b0bef1fe22db9ccd349c2b1b9d8\n",
      "http://tu.dxcnd.cn\n",
      "http://tu.dxcnd.cn/ggjc/update/20180414/ca1137b18e81003041a02009a8c7c1b9-1804149990.db?auth_ver=2&appkey=50c82132bb394901f151ad96&nonce=1523873359450&tk=bTD7yORNdMxDmq%2FqdDaUFA%3D%3D&sdk=22&dpi=320&vn=9.10.0&locale=zh_CN&ie=008600250914818&op=46000&h=1184&w=720&lc=o73bipGO6jgBGoAh&ntt=WIFI&v=3911&signmd5=608291140&is=460028747776525&pkg=cn.opda.a.phonoalbumshoushou&vendor=Coolpad&model=Coolpad+E570&s=e33021acc15d48ef72bb588bf5fcfe16\n",
      "http://tu.dxcnd.cn/ggjc/update/20180414/ca1137b18e81003041a02009a8c7c1b9-1804149990.db?auth_ver=2&appkey=50c82132bb394901f151ad96&nonce=1523921733791&tk=zTjITMcBZZPNnwWR%2BUIS0g%3D%3D&sdk=22&dpi=320&vn=9.6.0&locale=zh_CN&ie=861181030934133&op=46000&h=1280&w=720&lc=pWM2qW5S0eRYj4vT&ntt=WIFI&v=3786&signmd5=608291140&is=460003016186627&pkg=cn.opda.a.phonoalbumshoushou&vendor=alps&model=lephone+F5W&s=6bc6401be23db227323db49b313b4e58\n",
      "http://tu.dxcnd.cn/ggjc/update/20170927/8d36eba69ae16e63ab7717d5a79350d1-201709270.db\n",
      "http://tu.dxcnd.cn/ggjc/update/20150521/c6c6b4c46b335f43ced820d9166a87bd-201505190.db?auth_ver=2&appkey=50c82132bb394901f151ad96&nonce=1523971213868&tk=nFQi3tcVbSDi9vNq1L2Yuw%3D%3D&sdk=21&dpi=480&vn=7.0.0.5&locale=zh_CN&ie=860410030521660&op=46000&h=1920&w=1080&ntt=WIFI&lc=0xKzoJAxt8rXPMVZ&v=1583&signmd5=1239669288&is=460026780326142&pkg=com.dianxinos.optimizer.channel&vendor=Xiaomi&model=Redmi+Note+3&sdk_api=5&sdk_ver=1.4.0&s=9e01a2b5e2d661716584da96f6e19b2c\n",
      "http://tu.dxcnd.cn\n",
      "http://tu.dxcnd.cn/ggjc/update/20180414/ca1137b18e81003041a02009a8c7c1b9-1804149990.db?auth_ver=2&appkey=50c82132bb394901f151ad96&nonce=1523940071642&tk=bxPm9jiwkkgP7Gi5auF0VQ%3D%3D&sdk=24&dpi=480&vn=9.10.0&locale=zh_CN_%23Hans&ie=865411034896772&op=46000&h=1812&w=1080&ntt=WIFI&lc=FPFNQrLZCnF1uoUS&v=3911&signmd5=608291140&is=460078552019993&pkg=cn.opda.a.phonoalbumshoushou&vendor=HUAWEI&model=PRA-AL00X&s=df1636cba57d78ab995a997c2820d543\n",
      "http://tu.dxcnd.cn/ggjc/update/20180414/ca1137b18e81003041a02009a8c7c1b9-1804149990.db?auth_ver=2&appkey=50c82132bb394901f151ad96&nonce=1523997204195&is=460021316882371&model=Coolpad+8297&op=46000&signmd5=608291140&vendor=Coolpad&locale=zh_CN&pkg=com.dianxinos.optimizer.channel&tk=jb4m%2Fzg%2B9%2Fnw%2Bna%2FvSppUg%3D%3D&vn=8.3.0.13&h=1280&w=720&v=3044&ntt=WIFI&ie=865453020051657&lc=qOAXaXTlmP0giklV&dpi=320&sdk=19&s=dc9665897bc04d3c688d73a9c319cea9\n",
      "http://tu.dxcnd.cn/ggjc/update/20151127/7672b8ff8aa64ae89d886be1700d0f00-47.db?auth_ver=2&appkey=50c82132bb394901f151ad96&nonce=1524037948087&tk=owNow0jl5LhhrF%2BuzDIxUw%3D%3D&sdk=25&dpi=480&vn=6.4.5&locale=zh_CN&ie=866621031159417&op=46000&h=1920&w=1080&ntt=WIFI&lc=cXKJW0DfdwJlTNwW&v=6450&signmd5=127321156&is=460077121010802&pkg=cn.goapk.market&vendor=vivo&model=vivo+X9s&sdk_api=5&sdk_ver=1.4.0&s=642bb33310a28276a9dc553a436385f6\n",
      "http://tu.dxcnd.cn\n",
      "http://tu.dxcnd.cn/ggjc/update/20180414/ca1137b18e81003041a02009a8c7c1b9-1804149990.db?auth_ver=2&appkey=50c82132bb394901f151ad96&nonce=1524033866304&tk=yKQJ0XL1BRI1z8JvBch%2BOA%3D%3D&sdk=24&dpi=480&vn=9.5.1&locale=zh_CN_%23Hans&ie=868338037353484&op=46001&h=2040&w=1080&lc=H79fSoqoePQzJ86W&ntt=LTE&v=3757&signmd5=608291140&is=460018005624184&pkg=cn.opda.a.phonoalbumshoushou&vendor=HUAWEI&model=BND-AL10&s=165a8f64d829dc5061b041bcdcb5c034\n"
     ]
    }
   ],
   "source": [
    "for i in list(df.url):\n",
    "    try:\n",
    "        if \"tu.dxcnd.cn\" in i:\n",
    "            print i\n",
    "    except:\n",
    "        print i"
   ]
  }
 ],
 "metadata": {
  "kernelspec": {
   "display_name": "Python 2",
   "language": "python",
   "name": "python2"
  },
  "language_info": {
   "codemirror_mode": {
    "name": "ipython",
    "version": 2
   },
   "file_extension": ".py",
   "mimetype": "text/x-python",
   "name": "python",
   "nbconvert_exporter": "python",
   "pygments_lexer": "ipython2",
   "version": "2.7.14"
  }
 },
 "nbformat": 4,
 "nbformat_minor": 2
}
