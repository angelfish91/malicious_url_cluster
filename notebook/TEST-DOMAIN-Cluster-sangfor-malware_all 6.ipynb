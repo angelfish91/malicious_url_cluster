{
 "cells": [
  {
   "cell_type": "code",
   "execution_count": 1,
   "metadata": {},
   "outputs": [],
   "source": [
    "import os\n",
    "import sys\n",
    "import logging\n",
    "import numpy as np\n",
    "import pandas as pd\n",
    "import urlparse\n",
    "\n",
    "\n",
    "os.sys.path.append(\"/home/sparrow/sparrow/malicious_url_cluster\")\n",
    "from logger import logger \n",
    "from config import cfg\n",
    "\n",
    "\n",
    "cfg.N_CLUSTER_RATION = 200\n",
    "\n",
    "cfg.EDIT_DISTANCE_THRESH_LONG = 0.3\n",
    "cfg.EDIT_DISTANCE_THRESH_SHORT = 0.3\n",
    "cfg.LONG_URL_THRESH = 100\n",
    "cfg.SHORT_URL_THRESH = 4\n",
    "\n",
    "cfg.MIN_SUBSTRING_SIZE = 4\n",
    "cfg.SINGLE_REGEX_SIZE = 4\n",
    "cfg.TOTAL_REGEX_SIZE = 4\n",
    "cfg.SINGLE_REGEX_SIZE_RATIO = 0.2\n",
    "cfg.TOTAL_REGEX_SIZE_RATIO = 0.2\n",
    "\n",
    "cfg.DOMAIN_CLUSTER_SIZE_THRESH = 3\n",
    "\n",
    "from file_io import load_urls, dump_urls\n",
    "from preprocess import make_ip_url_map\n",
    "from vectorize import make_vectorize\n",
    "from clustering import make_ip_cluster, make_string_distance_cluster\n",
    "from regex_url import url_regex_extract, url_regex_check, url_regex_publish\n",
    "from regex_domain import domain_regex_extract, domain_regex_check\n",
    "import preprocess\n",
    "import vectorize\n",
    "import clustering\n",
    "import regex_url\n",
    "import urlnormalize\n",
    "import regex_domain"
   ]
  },
  {
   "cell_type": "code",
   "execution_count": 2,
   "metadata": {},
   "outputs": [
    {
     "name": "stderr",
     "output_type": "stream",
     "text": [
      "2018-04-20 09:43:56 file_io.py [line:52] DEBUG\tURLs Count:\t33397\n"
     ]
    }
   ],
   "source": [
    "urls = load_urls(\"../../data/sangfor/malware_all_0402.csv\", csv = True)\n",
    "urls = list(set(urls))"
   ]
  },
  {
   "cell_type": "code",
   "execution_count": 3,
   "metadata": {},
   "outputs": [
    {
     "name": "stdout",
     "output_type": "stream",
     "text": [
      "12689\n",
      "19526\n"
     ]
    }
   ],
   "source": [
    "url_domain, url_path = preprocess.make_url_split(urls)\n",
    "print len(url_domain)\n",
    "print len(url_path)\n",
    "urls = list(url_domain)"
   ]
  },
  {
   "cell_type": "code",
   "execution_count": 4,
   "metadata": {},
   "outputs": [
    {
     "name": "stderr",
     "output_type": "stream",
     "text": [
      "2018-04-20 09:44:09 vectorize.py [line:77] DEBUG\tvectorization complete! data shape:\t(12689, 128)\n"
     ]
    }
   ],
   "source": [
    "df_vector = make_vectorize(urls, domain = True, path = False, param = False, dump = False)"
   ]
  },
  {
   "cell_type": "code",
   "execution_count": 5,
   "metadata": {},
   "outputs": [
    {
     "name": "stderr",
     "output_type": "stream",
     "text": [
      "2018-04-20 09:44:13 clustering.py [line:224] DEBUG\tBegin to make k-means cluster, data_size: 12689 n_clusters: 6\n",
      "2018-04-20 09:44:15 clustering.py [line:242] DEBUG\tCalinski-Harabasz Score for\t2 Cluster K-means\t2326.9663966790863\n",
      "2018-04-20 09:44:16 clustering.py [line:242] DEBUG\tCalinski-Harabasz Score for\t3 Cluster K-means\t2337.652081224745\n",
      "2018-04-20 09:44:18 clustering.py [line:242] DEBUG\tCalinski-Harabasz Score for\t4 Cluster K-means\t1877.9951414518\n",
      "2018-04-20 09:44:21 clustering.py [line:242] DEBUG\tCalinski-Harabasz Score for\t5 Cluster K-means\t1589.1334148568262\n",
      "2018-04-20 09:44:21 clustering.py [line:245] DEBUG\toptimal n_cluster\t3\n",
      "2018-04-20 09:44:22 clustering.py [line:263] DEBUG\tk-means cluster done!\n"
     ]
    }
   ],
   "source": [
    "cc_dict = clustering.make_kmeans_cluster(df_vector,cluster_num = None, dump = False)\n",
    "cc_list = [cc_dict[_] for _ in cc_dict]"
   ]
  },
  {
   "cell_type": "code",
   "execution_count": 6,
   "metadata": {
    "scrolled": true
   },
   "outputs": [
    {
     "name": "stdout",
     "output_type": "stream",
     "text": [
      "index 0 0/5989\n",
      "index 0 0/4554\n",
      "index 0 0/2146\n",
      "index 100 100/4554\n",
      "index 200 200/4554\n",
      "index 200 200/5989\n",
      "index 500 500/4554\n",
      "index 600 600/4554\n",
      "index 300 300/5989\n",
      "index 800 800/4554\n",
      "index 900 900/4554\n",
      "index 400 400/5989\n",
      "index 1200 1200/4554\n",
      "index 600 600/5989\n",
      "index 1600 1600/4554\n",
      "index 1900 1900/4554\n",
      "index 2000 2000/4554\n",
      "index 700 700/5989\n",
      "index 2300 2300/4554\n",
      "index 800 800/5989\n",
      "index 3600 3600/4554\n",
      "index 3900 3900/4554\n",
      "index 4000 4000/4554\n",
      "index 1000 1000/5989\n",
      "index 1200 1200/5989\n",
      "index 1400 1400/5989\n",
      "index 1700 1700/5989\n",
      "index 1800 1800/5989\n",
      "index 1900 1900/5989\n",
      "index 2000 2000/5989\n",
      "index 2100 2100/5989\n",
      "index 2600 2600/5989\n",
      "index 2800 2800/5989\n",
      "index 3100 3100/5989\n",
      "index 3200 3200/5989\n",
      "index 3400 3400/5989\n",
      "index 3600 3600/5989\n",
      "index 3800 3800/5989\n",
      "index 3900 3900/5989\n",
      "index 4100 4100/5989\n",
      "index 4200 4200/5989\n",
      "index 4300 4300/5989\n",
      "index 4400 4400/5989\n",
      "index 4800 4800/5989\n",
      "index 4900 4900/5989\n",
      "index 5200 5200/5989\n",
      "index 5600 5600/5989\n"
     ]
    },
    {
     "name": "stderr",
     "output_type": "stream",
     "text": [
      "2018-04-20 09:45:19 clustering.py [line:109] DEBUG\tstring distance time cost:\t15.503821\n"
     ]
    }
   ],
   "source": [
    "clustering.make_string_distance_cluster(data = cc_list, \n",
    "                            metric = \"distance\",  \n",
    "                            file_path = \"../../data/EXP_sangfor_malware6/cluster_distance.json\", )"
   ]
  },
  {
   "cell_type": "code",
   "execution_count": 8,
   "metadata": {
    "scrolled": true
   },
   "outputs": [
    {
     "name": "stderr",
     "output_type": "stream",
     "text": [
      "2018-04-20 10:02:44 file_io.py [line:172] DEBUG\tCluster Data has been loaded\t../../data/EXP_sangfor_malware6/cluster_distance.json\n",
      "2018-04-20 10:02:44 regex_domain.py [line:319] DEBUG\ttotal cluster num:\t5387\n",
      "2018-04-20 10:02:44 regex_domain.py [line:321] DEBUG\tbig cluster:\t482\n",
      "2018-04-20 10:02:44 regex_domain.py [line:323] DEBUG\tsmall cluster:\t1033\n",
      "2018-04-20 10:02:44 regex_domain.py [line:324] DEBUG\tsingle one:\t3872\n",
      "2018-04-20 10:02:44 regex_domain.py [line:325] DEBUG\tcluster size detail:\tCounter({1: 3872, 2: 656, 3: 229, 4: 148, 5: 105, 6: 55, 8: 41, 7: 38, 10: 26, 9: 25, 11: 15, 13: 15, 12: 13, 17: 10, 24: 7, 25: 7, 35: 7, 15: 6, 20: 6, 23: 6, 14: 5, 19: 5, 28: 5, 29: 5, 16: 4, 18: 4, 21: 4, 27: 4, 37: 4, 58: 3, 22: 2, 33: 2, 39: 2, 40: 2, 44: 2, 47: 2, 48: 2, 53: 2, 60: 2, 63: 2, 64: 2, 261: 1, 30: 1, 34: 1, 36: 1, 38: 1, 42: 1, 299: 1, 45: 1, 46: 1, 55: 1, 56: 1, 31: 1, 61: 1, 75: 1, 76: 1, 205: 1, 77: 1, 82: 1, 84: 1, 86: 1, 88: 1, 95: 1, 96: 1, 98: 1, 59: 1, 101: 1, 103: 1, 1897: 1, 107: 1, 43: 1, 114: 1, 119: 1, 122: 1, 123: 1, 127: 1})\n",
      "2018-04-20 10:02:44 regex_domain.py [line:298] DEBUG\tdefaultdict(<type 'list'>, {0: [u'com'], 1: [u'9xiazaiqi'], 2: [u'url'], 3: ['\\\\d{4,5}']})\n",
      "2018-04-20 10:02:44 regex_domain.py [line:299] DEBUG\t^\\d{4,5}\\.url\\.9xiazaiqi\\.com$\n",
      "2018-04-20 10:02:44 regex_domain.py [line:298] DEBUG\tdefaultdict(<type 'list'>, {0: [u'com'], 1: [u'gongnou', u'cangpie'], 2: [u'xc'], 3: ['\\\\d{4,5}']})\n",
      "2018-04-20 10:02:44 regex_domain.py [line:299] DEBUG\t^\\d{4,5}\\.xc\\.(:?gongnou|cangpie)\\.com$\n",
      "2018-04-20 10:02:45 regex_domain.py [line:298] DEBUG\tdefaultdict(<type 'list'>, {0: [u'com'], 1: [u'xiald'], 2: ['jsapi\\\\d{0,5}']})\n",
      "2018-04-20 10:02:45 regex_domain.py [line:299] DEBUG\t^jsapi\\d{0,5}\\.xiald\\.com$\n",
      "2018-04-20 10:02:45 regex_domain.py [line:298] DEBUG\tdefaultdict(<type 'list'>, {0: [u'com'], 1: [u'246546'], 2: [u'url'], 3: ['\\\\d{5,8}']})\n",
      "2018-04-20 10:02:45 regex_domain.py [line:299] DEBUG\t^\\d{5,8}\\.url\\.246546\\.com$\n",
      "2018-04-20 10:02:45 regex_domain.py [line:298] DEBUG\tdefaultdict(<type 'list'>, {0: [u'com'], 1: [u'zyytcz'], 2: ['\\\\w{2,3}']})\n",
      "2018-04-20 10:02:45 regex_domain.py [line:299] DEBUG\t^\\w{2,3}\\.zyytcz\\.com$\n",
      "2018-04-20 10:02:45 regex_domain.py [line:298] DEBUG\tdefaultdict(<type 'list'>, {0: [u'com'], 1: [u'222bz'], 2: [u'url'], 3: ['\\\\d{5}']})\n",
      "2018-04-20 10:02:45 regex_domain.py [line:299] DEBUG\t^\\d{5}\\.url\\.222bz\\.com$\n",
      "2018-04-20 10:02:45 regex_domain.py [line:298] DEBUG\tdefaultdict(<type 'list'>, {0: [u'com'], 1: [u'uuddu'], 2: [u'favo'], 3: [u'replace'], 4: ['\\\\d{4}']})\n",
      "2018-04-20 10:02:45 regex_domain.py [line:299] DEBUG\t^\\d{4}\\.replace\\.favo\\.uuddu\\.com$\n",
      "2018-04-20 10:02:45 regex_domain.py [line:298] DEBUG\tdefaultdict(<type 'list'>, {0: [u'com'], 1: [u'xzn56', u'xzm56'], 2: ['down1\\\\d{4}']})\n",
      "2018-04-20 10:02:45 regex_domain.py [line:299] DEBUG\t^down1\\d{4}\\.(:?xzn56|xzm56)\\.com$\n",
      "2018-04-20 10:02:45 regex_domain.py [line:298] DEBUG\tdefaultdict(<type 'list'>, {0: [u'com'], 1: [u'yzzzn'], 2: ['down1\\\\d{4,6}']})\n",
      "2018-04-20 10:02:45 regex_domain.py [line:299] DEBUG\t^down1\\d{4,6}\\.yzzzn\\.com$\n",
      "2018-04-20 10:02:45 regex_domain.py [line:298] DEBUG\tdefaultdict(<type 'list'>, {0: [u'com'], 1: [u'oumaxite6'], 2: ['\\\\w{2,5}']})\n",
      "2018-04-20 10:02:45 regex_domain.py [line:299] DEBUG\t^\\w{2,5}\\.oumaxite6\\.com$\n",
      "2018-04-20 10:02:45 regex_domain.py [line:298] DEBUG\tdefaultdict(<type 'list'>, {0: [u'xyz'], 1: [u'yingbinshifu'], 2: ['[A-Za-z]{8}']})\n",
      "2018-04-20 10:02:45 regex_domain.py [line:299] DEBUG\t^[A-Za-z]{8}\\.yingbinshifu\\.xyz$\n",
      "2018-04-20 10:02:45 regex_domain.py [line:298] DEBUG\tdefaultdict(<type 'list'>, {0: [u'com'], 1: [u'gongnou', u'cangpie'], 2: [u'xc'], 3: ['19\\\\d{1,3}']})\n",
      "2018-04-20 10:02:45 regex_domain.py [line:299] DEBUG\t^19\\d{1,3}\\.xc\\.(:?gongnou|cangpie)\\.com$\n",
      "2018-04-20 10:02:45 regex_domain.py [line:298] DEBUG\tdefaultdict(<type 'list'>, {0: [u'pw'], 1: [u'2018zdfb2'], 2: ['\\\\w{1,5}']})\n",
      "2018-04-20 10:02:45 regex_domain.py [line:299] DEBUG\t^\\w{1,5}\\.2018zdfb2\\.pw$\n",
      "2018-04-20 10:02:45 regex_domain.py [line:298] DEBUG\tdefaultdict(<type 'list'>, {0: [u'com'], 1: [u'52zsoft'], 2: ['\\\\w{3,8}']})\n",
      "2018-04-20 10:02:45 regex_domain.py [line:299] DEBUG\t^\\w{3,8}\\.52zsoft\\.com$\n",
      "2018-04-20 10:02:45 regex_domain.py [line:298] DEBUG\tdefaultdict(<type 'list'>, {0: [u'com'], 1: [u'dwonxiazai'], 2: ['\\\\w{6,8}']})\n",
      "2018-04-20 10:02:45 regex_domain.py [line:299] DEBUG\t^\\w{6,8}\\.dwonxiazai\\.com$\n",
      "2018-04-20 10:02:45 regex_domain.py [line:298] DEBUG\tdefaultdict(<type 'list'>, {0: [u'com'], 1: [u'renheqk'], 2: ['\\\\w{2,4}']})\n",
      "2018-04-20 10:02:45 regex_domain.py [line:299] DEBUG\t^\\w{2,4}\\.renheqk\\.com$\n",
      "2018-04-20 10:02:45 regex_domain.py [line:298] DEBUG\tdefaultdict(<type 'list'>, {0: [u'xyz'], 1: [u'yingbinshifu'], 2: ['[A-Za-z]{8}']})\n",
      "2018-04-20 10:02:45 regex_domain.py [line:299] DEBUG\t^[A-Za-z]{8}\\.yingbinshifu\\.xyz$\n",
      "2018-04-20 10:02:45 regex_domain.py [line:298] DEBUG\tdefaultdict(<type 'list'>, {0: [u'pw'], 1: [u'2018zdfal1'], 2: ['\\\\w{3,5}']})\n",
      "2018-04-20 10:02:45 regex_domain.py [line:299] DEBUG\t^\\w{3,5}\\.2018zdfal1\\.pw$\n",
      "2018-04-20 10:02:45 regex_domain.py [line:298] DEBUG\tdefaultdict(<type 'list'>, {0: [u'com'], 1: [u'dwonxiazai'], 2: ['\\\\w{6,9}']})\n",
      "2018-04-20 10:02:45 regex_domain.py [line:299] DEBUG\t^\\w{6,9}\\.dwonxiazai\\.com$\n",
      "2018-04-20 10:02:45 regex_domain.py [line:298] DEBUG\tdefaultdict(<type 'list'>, {0: [u'com'], 1: [u'xzm56', u'tkg5'], 2: ['down1\\\\d{4}']})\n",
      "2018-04-20 10:02:45 regex_domain.py [line:299] DEBUG\t^down1\\d{4}\\.(:?xzm56|tkg5)\\.com$\n",
      "2018-04-20 10:02:45 regex_domain.py [line:298] DEBUG\tdefaultdict(<type 'list'>, {0: [u'com'], 1: [u'zgjjmsw'], 2: ['[A-Za-z]{5,12}']})\n",
      "2018-04-20 10:02:45 regex_domain.py [line:299] DEBUG\t^[A-Za-z]{5,12}\\.zgjjmsw\\.com$\n",
      "2018-04-20 10:02:45 regex_domain.py [line:298] DEBUG\tdefaultdict(<type 'list'>, {0: [u'com'], 1: [u'zgjjmsw'], 2: ['[A-Za-z]{5,7}']})\n",
      "2018-04-20 10:02:45 regex_domain.py [line:299] DEBUG\t^[A-Za-z]{5,7}\\.zgjjmsw\\.com$\n",
      "2018-04-20 10:02:45 regex_domain.py [line:298] DEBUG\tdefaultdict(<type 'list'>, {0: [u'cn'], 1: [u'com'], 2: [u'toug'], 3: ['[A-Za-z]{4,8}']})\n",
      "2018-04-20 10:02:45 regex_domain.py [line:299] DEBUG\t^[A-Za-z]{4,8}\\.toug\\.com\\.cn$\n",
      "2018-04-20 10:02:45 regex_domain.py [line:298] DEBUG\tdefaultdict(<type 'list'>, {0: [u'xyz'], 1: [u'yingbinshifu'], 2: ['[A-Za-z]{8}']})\n",
      "2018-04-20 10:02:45 regex_domain.py [line:299] DEBUG\t^[A-Za-z]{8}\\.yingbinshifu\\.xyz$\n",
      "2018-04-20 10:02:45 regex_domain.py [line:298] DEBUG\tdefaultdict(<type 'list'>, {0: [u'cn'], 1: [u'chinayizhe'], 2: ['\\\\w{2,4}']})\n",
      "2018-04-20 10:02:45 regex_domain.py [line:299] DEBUG\t^\\w{2,4}\\.chinayizhe\\.cn$\n",
      "2018-04-20 10:02:45 regex_domain.py [line:298] DEBUG\tdefaultdict(<type 'list'>, {0: [u'cn'], 1: [u'com'], 2: [u'toug'], 3: ['[A-Za-z]{2,6}']})\n",
      "2018-04-20 10:02:45 regex_domain.py [line:299] DEBUG\t^[A-Za-z]{2,6}\\.toug\\.com\\.cn$\n",
      "2018-04-20 10:02:45 regex_domain.py [line:298] DEBUG\tdefaultdict(<type 'list'>, {0: [u'com'], 1: [u'uuddu'], 2: [u'favo'], 3: [u'new'], 4: ['\\\\d{4}']})\n",
      "2018-04-20 10:02:45 regex_domain.py [line:299] DEBUG\t^\\d{4}\\.new\\.favo\\.uuddu\\.com$\n",
      "2018-04-20 10:02:45 regex_domain.py [line:298] DEBUG\tdefaultdict(<type 'list'>, {0: [u'com'], 1: [u'syasn'], 2: ['\\\\w{1,2}']})\n",
      "2018-04-20 10:02:45 regex_domain.py [line:299] DEBUG\t^\\w{1,2}\\.syasn\\.com$\n",
      "2018-04-20 10:02:45 regex_domain.py [line:298] DEBUG\tdefaultdict(<type 'list'>, {0: [u'cn'], 1: [u'com'], 2: [u'toug'], 3: ['[A-Za-z]{4,6}']})\n",
      "2018-04-20 10:02:45 regex_domain.py [line:299] DEBUG\t^[A-Za-z]{4,6}\\.toug\\.com\\.cn$\n",
      "2018-04-20 10:02:45 regex_domain.py [line:298] DEBUG\tdefaultdict(<type 'list'>, {0: [u'cn'], 1: [u'com'], 2: [u'toug'], 3: ['[A-Za-z]{4,8}']})\n",
      "2018-04-20 10:02:45 regex_domain.py [line:299] DEBUG\t^[A-Za-z]{4,8}\\.toug\\.com\\.cn$\n",
      "2018-04-20 10:02:45 regex_domain.py [line:298] DEBUG\tdefaultdict(<type 'list'>, {0: [u'cn'], 1: [u'chinayizhe'], 2: ['\\\\w{2,6}']})\n",
      "2018-04-20 10:02:45 regex_domain.py [line:299] DEBUG\t^\\w{2,6}\\.chinayizhe\\.cn$\n",
      "2018-04-20 10:02:45 regex_domain.py [line:298] DEBUG\tdefaultdict(<type 'list'>, {0: [u'com'], 1: [u'www-34422', u'www-31222', u'www-24222', u'www-905222']})\n",
      "2018-04-20 10:02:45 regex_domain.py [line:299] DEBUG\t^(:?www-34422|www-31222|www-24222|www-905222)\\.com$\n",
      "2018-04-20 10:02:45 regex_domain.py [line:298] DEBUG\tdefaultdict(<type 'list'>, {0: [u'cn'], 1: [u'com'], 2: ['[A-Za-z]{4,6}'], 3: [u'www']})\n"
     ]
    },
    {
     "name": "stderr",
     "output_type": "stream",
     "text": [
      "2018-04-20 10:02:45 regex_domain.py [line:299] DEBUG\t^www\\.[A-Za-z]{4,6}\\.com\\.cn$\n",
      "2018-04-20 10:02:45 regex_domain.py [line:298] DEBUG\tdefaultdict(<type 'list'>, {0: [u'com'], 1: [u'www-98770', u'www79700', u'www-07773', u'www-48080']})\n",
      "2018-04-20 10:02:45 regex_domain.py [line:299] DEBUG\t^(:?www-98770|www79700|www-07773|www-48080)\\.com$\n",
      "2018-04-20 10:02:45 regex_domain.py [line:298] DEBUG\tdefaultdict(<type 'list'>, {0: [u'com'], 1: [u'7wkw'], 2: [u'url'], 3: ['\\\\d{5}']})\n",
      "2018-04-20 10:02:45 regex_domain.py [line:299] DEBUG\t^\\d{5}\\.url\\.7wkw\\.com$\n",
      "2018-04-20 10:02:45 regex_domain.py [line:298] DEBUG\tdefaultdict(<type 'list'>, {0: [u'cn'], 1: [u'gov'], 2: ['[A-Za-z]{3,6}'], 3: [u'www']})\n",
      "2018-04-20 10:02:45 regex_domain.py [line:299] DEBUG\t^www\\.[A-Za-z]{3,6}\\.gov\\.cn$\n",
      "2018-04-20 10:02:45 regex_domain.py [line:298] DEBUG\tdefaultdict(<type 'list'>, {0: [u'cn'], 1: [u'com'], 2: ['\\\\w{2,5}'], 3: [u'www']})\n",
      "2018-04-20 10:02:45 regex_domain.py [line:299] DEBUG\t^www\\.\\w{2,5}\\.com\\.cn$\n",
      "2018-04-20 10:02:45 regex_domain.py [line:298] DEBUG\tdefaultdict(<type 'list'>, {0: [u'com'], 1: [u'xdown4'], 2: ['down050\\\\d{5}']})\n",
      "2018-04-20 10:02:45 regex_domain.py [line:299] DEBUG\t^down050\\d{5}\\.xdown4\\.com$\n",
      "2018-04-20 10:02:45 regex_domain.py [line:298] DEBUG\tdefaultdict(<type 'list'>, {0: [u'com'], 1: [u'xzn56', u'xzm56'], 2: ['down\\\\d{5,8}']})\n",
      "2018-04-20 10:02:45 regex_domain.py [line:299] DEBUG\t^down\\d{5,8}\\.(:?xzn56|xzm56)\\.com$\n",
      "2018-04-20 10:02:45 regex_domain.py [line:298] DEBUG\tdefaultdict(<type 'list'>, {0: [u'com'], 1: [u'xzn56'], 2: ['down\\\\d{5,8}']})\n",
      "2018-04-20 10:02:45 regex_domain.py [line:299] DEBUG\t^down\\d{5,8}\\.xzn56\\.com$\n",
      "2018-04-20 10:02:45 regex_domain.py [line:298] DEBUG\tdefaultdict(<type 'list'>, {0: [u'com'], 1: [u'xzn56', u'xzm56'], 2: ['down[^\\\\.]{5,6}']})\n",
      "2018-04-20 10:02:45 regex_domain.py [line:299] DEBUG\t^down[^\\.]{5,6}\\.(:?xzn56|xzm56)\\.com$\n",
      "2018-04-20 10:02:45 regex_domain.py [line:298] DEBUG\tdefaultdict(<type 'list'>, {0: [u'com'], 1: [u'xiazaidown', u'xdown4'], 2: ['down0506\\\\d{4}']})\n",
      "2018-04-20 10:02:45 regex_domain.py [line:299] DEBUG\t^down0506\\d{4}\\.(:?xiazaidown|xdown4)\\.com$\n",
      "2018-04-20 10:02:45 regex_domain.py [line:298] DEBUG\tdefaultdict(<type 'list'>, {0: [u'com'], 1: [u'downyouxi'], 2: ['\\\\w{4,6}']})\n",
      "2018-04-20 10:02:45 regex_domain.py [line:299] DEBUG\t^\\w{4,6}\\.downyouxi\\.com$\n",
      "2018-04-20 10:02:45 regex_domain.py [line:298] DEBUG\tdefaultdict(<type 'list'>, {0: [u'com'], 1: [u'xzn56', u'wtn5'], 2: ['down19\\\\d{3}']})\n",
      "2018-04-20 10:02:45 regex_domain.py [line:299] DEBUG\t^down19\\d{3}\\.(:?xzn56|wtn5)\\.com$\n",
      "2018-04-20 10:02:45 regex_domain.py [line:338] DEBUG\textract regex count:\t41\n",
      "2018-04-20 10:02:45 regex_domain.py [line:342] DEBUG\textract regex count:\t36\t(after deduplicate)\n",
      "2018-04-20 10:02:45 regex_domain.py [line:343] DEBUG\textract regex time cost:\t0.274681\n",
      "2018-04-20 10:02:45 file_io.py [line:207] DEBUG\tOLD DATA FIND! REMOVING\t../../data/EXP_sangfor_malware6/regex_raw.txt\n",
      "2018-04-20 10:02:45 file_io.py [line:212] DEBUG\tRegex has been dump\t../../data/EXP_sangfor_malware6/regex_raw.txt\n"
     ]
    }
   ],
   "source": [
    "regex_list = domain_regex_extract(input_file_path = \"../../data/EXP_sangfor_malware6/cluster_distance.json\",\n",
    "                                 output_file_path = \"../../data/EXP_sangfor_malware6/regex_raw.txt\",\n",
    "                                 cluster_size_thresh=10)"
   ]
  },
  {
   "cell_type": "code",
   "execution_count": 9,
   "metadata": {
    "scrolled": true
   },
   "outputs": [
    {
     "name": "stderr",
     "output_type": "stream",
     "text": [
      "2018-04-20 10:02:54 file_io.py [line:191] DEBUG\tRegex Data has been loaded\t../../data/EXP_sangfor_malware6/regex_raw.txt\n",
      "2018-04-20 10:02:56 file_io.py [line:231] DEBUG\tTest Data has been loaded\t../../data/sangfor/safe.csv\n",
      "2018-04-20 10:02:56 file_io.py [line:231] DEBUG\tTest Data has been loaded\t../../data/sangfor/malware_all_0402.csv\n"
     ]
    },
    {
     "name": "stdout",
     "output_type": "stream",
     "text": [
      "batch index 0\tsample index 0\tFP(url) 8\tFP(domain) 4\tTP(url) 54\tTP(domain) 28\t^\\w{2,4}\\.renheqk\\.com$\n",
      "batch index 0\tsample index 1\tFP(url) 2\tFP(domain) 2\tTP(url) 57\tTP(domain) 55\t^\\w{3,5}\\.2018zdfal1\\.pw$\n",
      "batch index 1\tsample index 0\tFP(url) 26\tFP(domain) 20\tTP(url) 873\tTP(domain) 260\t^\\d{4,5}\\.url\\.9xiazaiqi\\.com$\n",
      "batch index 0\tsample index 2\tFP(url) 156\tFP(domain) 121\tTP(url) 1726\tTP(domain) 954\t^down0506\\d{4}\\.(:?xiazaidown|xdown4)\\.com$\n",
      "batch index 1\tsample index 1\tFP(url) 0\tFP(domain) 0\tTP(url) 33\tTP(domain) 11\t^\\d{4}\\.new\\.favo\\.uuddu\\.com$\n",
      "batch index 0\tsample index 3\tFP(url) 10\tFP(domain) 10\tTP(url) 216\tTP(domain) 166\t^down\\d{5,8}\\.xzn56\\.com$\n",
      "batch index 1\tsample index 2\tFP(url) 4894\tFP(domain) 656\tTP(url) 411\tTP(domain) 118\t^19\\d{1,3}\\.xc\\.(:?gongnou|cangpie)\\.com$\n",
      "batch index 2\tsample index 0\tFP(url) 0\tFP(domain) 0\tTP(url) 149\tTP(domain) 28\t^[A-Za-z]{5,12}\\.zgjjmsw\\.com$\n",
      "batch index 1\tsample index 3\tFP(url) 6\tFP(domain) 3\tTP(url) 42\tTP(domain) 34\t^\\w{1,5}\\.2018zdfb2\\.pw$\n",
      "batch index 2\tsample index 1\tFP(url) 59\tFP(domain) 19\tTP(url) 37\tTP(domain) 28\t^\\w{2,5}\\.oumaxite6\\.com$\n",
      "batch index 2\tsample index 2\tFP(url) 5385\tFP(domain) 1868\tTP(url) 29\tTP(domain) 27\t^www\\.[A-Za-z]{4,6}\\.com\\.cn$\n",
      "batch index 3\tsample index 0\tFP(url) 11\tFP(domain) 11\tTP(url) 309\tTP(domain) 210\t^down1\\d{4}\\.(:?xzn56|xzm56)\\.com$\n",
      "batch index 2\tsample index 3\tFP(url) 41\tFP(domain) 34\tTP(url) 1202\tTP(domain) 297\t^\\d{5,8}\\.url\\.246546\\.com$\n",
      "batch index 3\tsample index 1\tFP(url) 5\tFP(domain) 5\tTP(url) 163\tTP(domain) 113\t^down1\\d{4}\\.(:?xzm56|tkg5)\\.com$\n",
      "batch index 3\tsample index 2\tFP(url) 286\tFP(domain) 169\tTP(url) 398\tTP(domain) 204\t^jsapi\\d{0,5}\\.xiald\\.com$\n",
      "batch index 4\tsample index 0\tFP(url) 5\tFP(domain) 5\tTP(url) 33\tTP(domain) 28\t^\\w{4,6}\\.downyouxi\\.com$\n",
      "batch index 3\tsample index 3\tFP(url) 4968\tFP(domain) 690\tTP(url) 487\tTP(domain) 121\t^\\d{4,5}\\.xc\\.(:?gongnou|cangpie)\\.com$\n",
      "batch index 4\tsample index 1\tFP(url) 8\tFP(domain) 5\tTP(url) 20\tTP(domain) 13\t^\\w{2,6}\\.chinayizhe\\.cn$\n",
      "batch index 4\tsample index 2\tFP(url) 196\tFP(domain) 158\tTP(url) 3014\tTP(domain) 1897\t^down050\\d{5}\\.xdown4\\.com$\n",
      "batch index 5\tsample index 0\tFP(url) 1\tFP(domain) 1\tTP(url) 28\tTP(domain) 17\t^\\w{3,8}\\.52zsoft\\.com$\n",
      "batch index 4\tsample index 3\tFP(url) 149\tFP(domain) 90\tTP(url) 243\tTP(domain) 97\t^\\d{5}\\.url\\.222bz\\.com$\n",
      "batch index 5\tsample index 1\tFP(url) 0\tFP(domain) 0\tTP(url) 34\tTP(domain) 10\t^\\w{2,3}\\.zyytcz\\.com$\n",
      "batch index 5\tsample index 2\tFP(url) 0\tFP(domain) 0\tTP(url) 23\tTP(domain) 23\t^down1\\d{4,6}\\.yzzzn\\.com$\n",
      "batch index 6\tsample index 0\tFP(url) 0\tFP(domain) 0\tTP(url) 78\tTP(domain) 53\t^\\d{5}\\.url\\.7wkw\\.com$\n",
      "batch index 5\tsample index 3\tFP(url) 1\tFP(domain) 1\tTP(url) 95\tTP(domain) 53\t^\\d{4}\\.replace\\.favo\\.uuddu\\.com$\n",
      "batch index 6\tsample index 1\tFP(url) 15\tFP(domain) 15\tTP(url) 361\tTP(domain) 261\t^down\\d{5,8}\\.(:?xzn56|xzm56)\\.com$\n",
      "batch index 6\tsample index 2\tFP(url) 1\tFP(domain) 1\tTP(url) 46\tTP(domain) 43\t^[A-Za-z]{2,8}\\.toug\\.com\\.cn$\n",
      "batch index 7\tsample index 0\tFP(url) 4342\tFP(domain) 1486\tTP(url) 21\tTP(domain) 20\t^www\\.\\w{2,5}\\.com\\.cn$\n",
      "batch index 6\tsample index 3\tFP(url) 1\tFP(domain) 1\tTP(url) 48\tTP(domain) 26\t^\\w{6,9}\\.dwonxiazai\\.com$\n",
      "batch index 7\tsample index 1\tFP(url) 6\tFP(domain) 6\tTP(url) 147\tTP(domain) 114\t^down19\\d{3}\\.(:?xzn56|wtn5)\\.com$\n",
      "batch index 7\tsample index 2\tFP(url) 0\tFP(domain) 0\tTP(url) 5\tTP(domain) 4\t^(:?www-34422|www-31222|www-24222|www-905222)\\.com$\n",
      "batch index 7\tsample index 3\tFP(url) 0\tFP(domain) 0\tTP(url) 118\tTP(domain) 10\t^\\w{1,2}\\.syasn\\.com$\n",
      "batch index 7\tsample index 4\tFP(url) 0\tFP(domain) 0\tTP(url) 62\tTP(domain) 31\t^[A-Za-z]{8}\\.yingbinshifu\\.xyz$\n",
      "batch index 7\tsample index 5\tFP(url) 30579\tFP(domain) 2481\tTP(url) 598\tTP(domain) 31\t^www\\.[A-Za-z]{3,6}\\.gov\\.cn$\n",
      "batch index 7\tsample index 6\tFP(url) 11\tFP(domain) 11\tTP(url) 312\tTP(domain) 213\t^down[^\\.]{5,6}\\.(:?xzn56|xzm56)\\.com$\n",
      "batch index 7\tsample index 7\tFP(url) 2\tFP(domain) 1\tTP(url) 4\tTP(domain) 4\t^(:?www-98770|www79700|www-07773|www-48080)\\.com$\n"
     ]
    },
    {
     "name": "stderr",
     "output_type": "stream",
     "text": [
      "2018-04-20 10:03:55 file_io.py [line:249] DEBUG\tOLD DATA FIND! REMOVING\t../../data/EXP_sangfor_malware6/regex_result.txt\n",
      "2018-04-20 10:03:55 file_io.py [line:255] DEBUG\tCheck Result has been dump\t../../data/EXP_sangfor_malware6/regex_result.txt\n"
     ]
    }
   ],
   "source": [
    "domain_regex_check(input_file_path      = \"../../data/EXP_sangfor_malware6/regex_raw.txt\", \n",
    "            test_benign_file_path    = \"../../data/sangfor/safe.csv\",\n",
    "            test_malicious_file_path = \"../../data/sangfor/malware_all_0402.csv\",\n",
    "            result_file_path         = \"../../data/EXP_sangfor_malware6/regex_result.txt\", \n",
    "            n_jobs = 8)"
   ]
  },
  {
   "cell_type": "code",
   "execution_count": 2,
   "metadata": {},
   "outputs": [
    {
     "name": "stderr",
     "output_type": "stream",
     "text": [
      "2018-04-20 19:33:24 file_io.py [line:276] DEBUG\tcheck Data has been loaded\t../../data/EXP_sangfor_malware6/regex_result.txt\n",
      "2018-04-20 19:33:24 regex_domain.py [line:456] DEBUG\tregular expression publish\t31\n",
      "2018-04-20 19:33:24 file_io.py [line:207] DEBUG\tOLD DATA FIND! REMOVING\t../../data/EXP_sangfor_malware6/regex_publish.txt\n",
      "2018-04-20 19:33:24 file_io.py [line:212] DEBUG\tRegex has been dump\t../../data/EXP_sangfor_malware6/regex_publish.txt\n"
     ]
    },
    {
     "name": "stdout",
     "output_type": "stream",
     "text": [
      "23\n"
     ]
    },
    {
     "data": {
      "text/html": [
       "<div>\n",
       "<style scoped>\n",
       "    .dataframe tbody tr th:only-of-type {\n",
       "        vertical-align: middle;\n",
       "    }\n",
       "\n",
       "    .dataframe tbody tr th {\n",
       "        vertical-align: top;\n",
       "    }\n",
       "\n",
       "    .dataframe thead th {\n",
       "        text-align: right;\n",
       "    }\n",
       "</style>\n",
       "<table border=\"1\" class=\"dataframe\">\n",
       "  <thead>\n",
       "    <tr style=\"text-align: right;\">\n",
       "      <th></th>\n",
       "      <th>fp</th>\n",
       "      <th>regex</th>\n",
       "      <th>tp</th>\n",
       "      <th>score</th>\n",
       "      <th>ratio</th>\n",
       "    </tr>\n",
       "  </thead>\n",
       "  <tbody>\n",
       "    <tr>\n",
       "      <th>0</th>\n",
       "      <td>8</td>\n",
       "      <td>^\\w{2,4}\\.renheqk\\.com$</td>\n",
       "      <td>54</td>\n",
       "      <td>0.714286</td>\n",
       "      <td>0.148306</td>\n",
       "    </tr>\n",
       "    <tr>\n",
       "      <th>1</th>\n",
       "      <td>2</td>\n",
       "      <td>^\\w{3,5}\\.2018zdfal1\\.pw$</td>\n",
       "      <td>57</td>\n",
       "      <td>0.705882</td>\n",
       "      <td>0.035257</td>\n",
       "    </tr>\n",
       "    <tr>\n",
       "      <th>2</th>\n",
       "      <td>156</td>\n",
       "      <td>^down0506\\d{4}\\.(:?xiazaidown|xdown4)\\.com$</td>\n",
       "      <td>1726</td>\n",
       "      <td>0.882353</td>\n",
       "      <td>0.090388</td>\n",
       "    </tr>\n",
       "    <tr>\n",
       "      <th>3</th>\n",
       "      <td>10</td>\n",
       "      <td>^down\\d{5,8}\\.xzn56\\.com$</td>\n",
       "      <td>216</td>\n",
       "      <td>0.600000</td>\n",
       "      <td>0.046340</td>\n",
       "    </tr>\n",
       "    <tr>\n",
       "      <th>4</th>\n",
       "      <td>26</td>\n",
       "      <td>^\\d{4,5}\\.url\\.9xiazaiqi\\.com$</td>\n",
       "      <td>873</td>\n",
       "      <td>0.750000</td>\n",
       "      <td>0.029793</td>\n",
       "    </tr>\n",
       "    <tr>\n",
       "      <th>6</th>\n",
       "      <td>4894</td>\n",
       "      <td>^19\\d{1,3}\\.xc\\.(:?gongnou|cangpie)\\.com$</td>\n",
       "      <td>411</td>\n",
       "      <td>0.888889</td>\n",
       "      <td>11.907277</td>\n",
       "    </tr>\n",
       "    <tr>\n",
       "      <th>7</th>\n",
       "      <td>6</td>\n",
       "      <td>^\\w{1,5}\\.2018zdfb2\\.pw$</td>\n",
       "      <td>42</td>\n",
       "      <td>0.687500</td>\n",
       "      <td>0.143061</td>\n",
       "    </tr>\n",
       "    <tr>\n",
       "      <th>9</th>\n",
       "      <td>59</td>\n",
       "      <td>^\\w{2,5}\\.oumaxite6\\.com$</td>\n",
       "      <td>37</td>\n",
       "      <td>0.705882</td>\n",
       "      <td>1.594434</td>\n",
       "    </tr>\n",
       "    <tr>\n",
       "      <th>11</th>\n",
       "      <td>41</td>\n",
       "      <td>^\\d{5,8}\\.url\\.246546\\.com$</td>\n",
       "      <td>1202</td>\n",
       "      <td>0.600000</td>\n",
       "      <td>0.034118</td>\n",
       "    </tr>\n",
       "    <tr>\n",
       "      <th>12</th>\n",
       "      <td>11</td>\n",
       "      <td>^down1\\d{4}\\.(:?xzn56|xzm56)\\.com$</td>\n",
       "      <td>309</td>\n",
       "      <td>0.840000</td>\n",
       "      <td>0.035630</td>\n",
       "    </tr>\n",
       "    <tr>\n",
       "      <th>13</th>\n",
       "      <td>5</td>\n",
       "      <td>^down1\\d{4}\\.(:?xzm56|tkg5)\\.com$</td>\n",
       "      <td>163</td>\n",
       "      <td>0.833333</td>\n",
       "      <td>0.030734</td>\n",
       "    </tr>\n",
       "    <tr>\n",
       "      <th>14</th>\n",
       "      <td>286</td>\n",
       "      <td>^jsapi\\d{0,5}\\.xiald\\.com$</td>\n",
       "      <td>398</td>\n",
       "      <td>0.722222</td>\n",
       "      <td>0.718600</td>\n",
       "    </tr>\n",
       "    <tr>\n",
       "      <th>15</th>\n",
       "      <td>4968</td>\n",
       "      <td>^\\d{4,5}\\.xc\\.(:?gongnou|cangpie)\\.com$</td>\n",
       "      <td>487</td>\n",
       "      <td>0.814815</td>\n",
       "      <td>10.201043</td>\n",
       "    </tr>\n",
       "    <tr>\n",
       "      <th>16</th>\n",
       "      <td>5</td>\n",
       "      <td>^\\w{4,6}\\.downyouxi\\.com$</td>\n",
       "      <td>33</td>\n",
       "      <td>0.666667</td>\n",
       "      <td>0.151772</td>\n",
       "    </tr>\n",
       "    <tr>\n",
       "      <th>17</th>\n",
       "      <td>8</td>\n",
       "      <td>^\\w{2,6}\\.chinayizhe\\.cn$</td>\n",
       "      <td>20</td>\n",
       "      <td>0.666667</td>\n",
       "      <td>0.400300</td>\n",
       "    </tr>\n",
       "    <tr>\n",
       "      <th>18</th>\n",
       "      <td>196</td>\n",
       "      <td>^down050\\d{5}\\.xdown4\\.com$</td>\n",
       "      <td>3014</td>\n",
       "      <td>0.761905</td>\n",
       "      <td>0.065033</td>\n",
       "    </tr>\n",
       "    <tr>\n",
       "      <th>19</th>\n",
       "      <td>149</td>\n",
       "      <td>^\\d{5}\\.url\\.222bz\\.com$</td>\n",
       "      <td>243</td>\n",
       "      <td>0.687500</td>\n",
       "      <td>0.613185</td>\n",
       "    </tr>\n",
       "    <tr>\n",
       "      <th>20</th>\n",
       "      <td>1</td>\n",
       "      <td>^\\w{3,8}\\.52zsoft\\.com$</td>\n",
       "      <td>28</td>\n",
       "      <td>0.555556</td>\n",
       "      <td>0.036059</td>\n",
       "    </tr>\n",
       "    <tr>\n",
       "      <th>23</th>\n",
       "      <td>1</td>\n",
       "      <td>^\\d{4}\\.replace\\.favo\\.uuddu\\.com$</td>\n",
       "      <td>95</td>\n",
       "      <td>0.826087</td>\n",
       "      <td>0.010630</td>\n",
       "    </tr>\n",
       "    <tr>\n",
       "      <th>25</th>\n",
       "      <td>15</td>\n",
       "      <td>^down\\d{5,8}\\.(:?xzn56|xzm56)\\.com$</td>\n",
       "      <td>361</td>\n",
       "      <td>0.714286</td>\n",
       "      <td>0.041578</td>\n",
       "    </tr>\n",
       "    <tr>\n",
       "      <th>27</th>\n",
       "      <td>1</td>\n",
       "      <td>^\\w{6,9}\\.dwonxiazai\\.com$</td>\n",
       "      <td>48</td>\n",
       "      <td>0.590909</td>\n",
       "      <td>0.021037</td>\n",
       "    </tr>\n",
       "    <tr>\n",
       "      <th>29</th>\n",
       "      <td>6</td>\n",
       "      <td>^down19\\d{3}\\.(:?xzn56|wtn5)\\.com$</td>\n",
       "      <td>147</td>\n",
       "      <td>0.875000</td>\n",
       "      <td>0.040882</td>\n",
       "    </tr>\n",
       "    <tr>\n",
       "      <th>34</th>\n",
       "      <td>11</td>\n",
       "      <td>^down[^\\.]{5,6}\\.(:?xzn56|xzm56)\\.com$</td>\n",
       "      <td>312</td>\n",
       "      <td>0.750000</td>\n",
       "      <td>0.035287</td>\n",
       "    </tr>\n",
       "  </tbody>\n",
       "</table>\n",
       "</div>"
      ],
      "text/plain": [
       "      fp                                        regex    tp     score  \\\n",
       "0      8                      ^\\w{2,4}\\.renheqk\\.com$    54  0.714286   \n",
       "1      2                    ^\\w{3,5}\\.2018zdfal1\\.pw$    57  0.705882   \n",
       "2    156  ^down0506\\d{4}\\.(:?xiazaidown|xdown4)\\.com$  1726  0.882353   \n",
       "3     10                    ^down\\d{5,8}\\.xzn56\\.com$   216  0.600000   \n",
       "4     26               ^\\d{4,5}\\.url\\.9xiazaiqi\\.com$   873  0.750000   \n",
       "6   4894    ^19\\d{1,3}\\.xc\\.(:?gongnou|cangpie)\\.com$   411  0.888889   \n",
       "7      6                     ^\\w{1,5}\\.2018zdfb2\\.pw$    42  0.687500   \n",
       "9     59                    ^\\w{2,5}\\.oumaxite6\\.com$    37  0.705882   \n",
       "11    41                  ^\\d{5,8}\\.url\\.246546\\.com$  1202  0.600000   \n",
       "12    11           ^down1\\d{4}\\.(:?xzn56|xzm56)\\.com$   309  0.840000   \n",
       "13     5            ^down1\\d{4}\\.(:?xzm56|tkg5)\\.com$   163  0.833333   \n",
       "14   286                   ^jsapi\\d{0,5}\\.xiald\\.com$   398  0.722222   \n",
       "15  4968      ^\\d{4,5}\\.xc\\.(:?gongnou|cangpie)\\.com$   487  0.814815   \n",
       "16     5                    ^\\w{4,6}\\.downyouxi\\.com$    33  0.666667   \n",
       "17     8                    ^\\w{2,6}\\.chinayizhe\\.cn$    20  0.666667   \n",
       "18   196                  ^down050\\d{5}\\.xdown4\\.com$  3014  0.761905   \n",
       "19   149                     ^\\d{5}\\.url\\.222bz\\.com$   243  0.687500   \n",
       "20     1                      ^\\w{3,8}\\.52zsoft\\.com$    28  0.555556   \n",
       "23     1           ^\\d{4}\\.replace\\.favo\\.uuddu\\.com$    95  0.826087   \n",
       "25    15          ^down\\d{5,8}\\.(:?xzn56|xzm56)\\.com$   361  0.714286   \n",
       "27     1                   ^\\w{6,9}\\.dwonxiazai\\.com$    48  0.590909   \n",
       "29     6           ^down19\\d{3}\\.(:?xzn56|wtn5)\\.com$   147  0.875000   \n",
       "34    11       ^down[^\\.]{5,6}\\.(:?xzn56|xzm56)\\.com$   312  0.750000   \n",
       "\n",
       "        ratio  \n",
       "0    0.148306  \n",
       "1    0.035257  \n",
       "2    0.090388  \n",
       "3    0.046340  \n",
       "4    0.029793  \n",
       "6   11.907277  \n",
       "7    0.143061  \n",
       "9    1.594434  \n",
       "11   0.034118  \n",
       "12   0.035630  \n",
       "13   0.030734  \n",
       "14   0.718600  \n",
       "15  10.201043  \n",
       "16   0.151772  \n",
       "17   0.400300  \n",
       "18   0.065033  \n",
       "19   0.613185  \n",
       "20   0.036059  \n",
       "23   0.010630  \n",
       "25   0.041578  \n",
       "27   0.021037  \n",
       "29   0.040882  \n",
       "34   0.035287  "
      ]
     },
     "execution_count": 2,
     "metadata": {},
     "output_type": "execute_result"
    }
   ],
   "source": [
    "df = regex_domain.domain_regex_publish(\"../../data/EXP_sangfor_malware6/regex_result.txt\",\n",
    "                                  \"../../data/EXP_sangfor_malware6/regex_publish.txt\",\n",
    "                                  publish_score_thresh = 0.4,\n",
    "                                  publish_ratio = 40,\n",
    "                                  publish_fp_thresh = 5000,\n",
    "                                  publish_tp_thresh = 5)\n",
    "df=df.loc[df.fp>0]\n",
    "print(len(df))\n",
    "df"
   ]
  },
  {
   "cell_type": "code",
   "execution_count": 17,
   "metadata": {},
   "outputs": [
    {
     "name": "stderr",
     "output_type": "stream",
     "text": [
      "2018-04-20 10:12:35 file_io.py [line:207] DEBUG\tOLD DATA FIND! REMOVING\t../../data/EXP_sangfor_malware6/regex_publish.txt\n",
      "2018-04-20 10:12:35 file_io.py [line:212] DEBUG\tRegex has been dump\t../../data/EXP_sangfor_malware6/regex_publish.txt\n"
     ]
    }
   ],
   "source": [
    "import file_io\n",
    "file_io._dump_regex_list(list(df.regex), \"../../data/EXP_sangfor_malware6/regex_publish.txt\")"
   ]
  },
  {
   "cell_type": "code",
   "execution_count": 18,
   "metadata": {
    "scrolled": true
   },
   "outputs": [
    {
     "name": "stderr",
     "output_type": "stream",
     "text": [
      "2018-04-20 10:12:36 file_io.py [line:191] DEBUG\tRegex Data has been loaded\t../../data/EXP_sangfor_malware6/regex_publish.txt\n",
      "2018-04-20 10:12:38 file_io.py [line:231] DEBUG\tTest Data has been loaded\t../../data/sangfor/safe.csv\n"
     ]
    },
    {
     "name": "stdout",
     "output_type": "stream",
     "text": [
      "batch index 0\tsample index 0\thit domain 4\t^\\w{2,4}\\.renheqk\\.com$\n",
      "batch index 0\tsample index 1\thit domain 2\t^\\w{3,5}\\.2018zdfal1\\.pw$\n",
      "batch index 0\tsample index 2\thit domain 121\t^down0506\\d{4}\\.(:?xiazaidown|xdown4)\\.com$\n",
      "batch index 1\tsample index 0\thit domain 10\t^down\\d{5,8}\\.xzn56\\.com$\n",
      "batch index 1\tsample index 1\thit domain 20\t^\\d{4,5}\\.url\\.9xiazaiqi\\.com$\n",
      "batch index 1\tsample index 2\thit domain 656\t^19\\d{1,3}\\.xc\\.(:?gongnou|cangpie)\\.com$\n",
      "batch index 2\tsample index 0\thit domain 3\t^\\w{1,5}\\.2018zdfb2\\.pw$\n",
      "batch index 2\tsample index 1\thit domain 19\t^\\w{2,5}\\.oumaxite6\\.com$\n",
      "batch index 2\tsample index 2\thit domain 34\t^\\d{5,8}\\.url\\.246546\\.com$\n",
      "batch index 3\tsample index 0\thit domain 11\t^down1\\d{4}\\.(:?xzn56|xzm56)\\.com$\n",
      "batch index 3\tsample index 1\thit domain 5\t^down1\\d{4}\\.(:?xzm56|tkg5)\\.com$\n",
      "batch index 3\tsample index 2\thit domain 169\t^jsapi\\d{0,5}\\.xiald\\.com$\n",
      "batch index 4\tsample index 0\thit domain 690\t^\\d{4,5}\\.xc\\.(:?gongnou|cangpie)\\.com$\n",
      "batch index 4\tsample index 1\thit domain 5\t^\\w{4,6}\\.downyouxi\\.com$\n",
      "batch index 4\tsample index 2\thit domain 5\t^\\w{2,6}\\.chinayizhe\\.cn$\n",
      "batch index 5\tsample index 0\thit domain 158\t^down050\\d{5}\\.xdown4\\.com$\n",
      "batch index 5\tsample index 1\thit domain 90\t^\\d{5}\\.url\\.222bz\\.com$\n",
      "batch index 5\tsample index 2\thit domain 1\t^\\w{3,8}\\.52zsoft\\.com$\n",
      "batch index 6\tsample index 0\thit domain 1\t^\\d{4}\\.replace\\.favo\\.uuddu\\.com$\n",
      "batch index 6\tsample index 1\thit domain 15\t^down\\d{5,8}\\.(:?xzn56|xzm56)\\.com$\n",
      "batch index 6\tsample index 2\thit domain 1\t^\\w{6,9}\\.dwonxiazai\\.com$\n",
      "batch index 7\tsample index 0\thit domain 6\t^down19\\d{3}\\.(:?xzn56|wtn5)\\.com$\n",
      "batch index 7\tsample index 1\thit domain 11\t^down[^\\.]{5,6}\\.(:?xzn56|xzm56)\\.com$\n",
      "batch index 7\tsample index 2\thit domain 1\t^(:?www-98770|www79700|www-07773|www-48080)\\.com$\n"
     ]
    }
   ],
   "source": [
    "predict_malicious, predict_dict, predict_dict_detail = regex_domain.malicious_domain_predict(\n",
    "                      input_file_path = \"../../data/sangfor/safe.csv\",\n",
    "                      regex_file_path = \"../../data/EXP_sangfor_malware6/regex_publish.txt\")"
   ]
  },
  {
   "cell_type": "code",
   "execution_count": 26,
   "metadata": {},
   "outputs": [
    {
     "data": {
      "text/plain": [
       "['js.chinayizhe.cn',\n",
       " 'svip.chinayizhe.cn',\n",
       " 'smyz.chinayizhe.cn',\n",
       " 'bpy.chinayizhe.cn',\n",
       " 'chao88.chinayizhe.cn']"
      ]
     },
     "execution_count": 26,
     "metadata": {},
     "output_type": "execute_result"
    }
   ],
   "source": [
    "predict_dict[\"^\\w{2,6}\\.chinayizhe\\.cn$\"]"
   ]
  },
  {
   "cell_type": "code",
   "execution_count": 28,
   "metadata": {},
   "outputs": [
    {
     "data": {
      "text/plain": [
       "5776"
      ]
     },
     "execution_count": 28,
     "metadata": {},
     "output_type": "execute_result"
    }
   ],
   "source": [
    "len(set(predict_malicious))"
   ]
  },
  {
   "cell_type": "code",
   "execution_count": 13,
   "metadata": {
    "scrolled": true
   },
   "outputs": [
    {
     "data": {
      "text/plain": [
       "['http://19473.url.9xiazaiqi.com/xiaz/AdobeAcrobatXIPro11.0.23%E7%AE%80%E4%BD%93%E4%B8%AD%E6%96%87%E6%B3%A8%E5%86%8C%E7%89%88@136_20165.exe',\n",
       " 'http://19045.url.9xiazaiqi.com',\n",
       " 'http://19066.url.9xiazaiqi.com',\n",
       " 'http://19479.url.9xiazaiqi.com/xiaz/%E5%92%8C%E5%B9%B3%E9%A5%AD%E5%BA%97DVD%E7%89%88%E7%94%B5%E8%A7%86%E5%89%A7@721_2.exe',\n",
       " 'http://19479.url.9xiazaiqi.com/xiaz/%E5%8F%8D%E6%81%90%E7%B2%BE%E8%8B%B1cs1.6%E4%B8%AD%E6%96%87%E7%89%88%E5%AE%98%E6%96%B9%E4%B8%8B%E8%BD%BD@443_394.exe',\n",
       " 'http://19068.url.9xiazaiqi.com/favicon.ico',\n",
       " 'http://19071.url.9xiazaiqi.com/xiaz/AdobeCameraRawv10.2%E7%AE%80%E4%BD%93%E4%B8%AD%E6%96%87%E7%89%88@317_24435.exe',\n",
       " 'http://19071.url.9xiazaiqi.com/favicon.ico',\n",
       " 'http://19067.url.9xiazaiqi.com',\n",
       " 'http://19475.url.9xiazaiqi.com/xiaz/%E5%B0%8F%E6%81%A9%E7%88%B1%E7%94%B5%E8%84%91%E7%89%88v6.2.4.8%E5%AE%98%E7%BD%91PC%E7%89%88@135_43213.exe',\n",
       " 'http://19475.url.9xiazaiqi.com/xiaz/Pathway_Builder_Tool%E9%80%9A%E8%B7%AF%E4%BD%9C%E5%9B%BE%E8%BD%AF%E4%BB%B62.0%E7%BB%BF%E8%89%B2%E7%89%88%E4%B8%8B%E8%BD%BD@465_2.exe',\n",
       " 'http://19204.xc.gongnou.com/xiaz/%E5%B0%91%E9%BE%99%E4%BC%A0%E5%A5%87@505_2.exe',\n",
       " 'http://19569.xc.cangpie.com/xiaz/%E7%99%BD%E8%9B%87%E5%89%8D%E4%BC%A0%E9%AB%98%E6%B8%85_%E7%99%BE%E5%BA%A6%E4%BA%91%E7%BD%91%E7%9B%98_%E5%9C%A8%E7%BA%BF%E8%A7%82%E7%9C%8B_%E8%BF%85%E9%9B%B7%E4%B8%8B%E8%BD%BD@439_2.exe',\n",
       " 'http://19569.xc.cangpie.com/favicon.ico',\n",
       " 'http://19569.xc.cangpie.com/xiaz/%E4%BD%B3%E8%83%BDCanonL11121e%E9%A9%B1%E5%8A%A8%E4%B8%8B%E8%BD%BD@383_1467.exe',\n",
       " 'http://19569.xc.cangpie.com/xiaz/MicrosoftPowerpoint201616.0PPT2016%E5%85%8D%E8%B4%B9%E5%AE%8C%E6%95%B4%E7%89%88@284_145079.exe',\n",
       " 'http://19569.xc.cangpie.com',\n",
       " 'http://19650.xc.cangpie.com',\n",
       " 'http://19650.xc.cangpie.com/xiaz/%E5%BE%AE%E5%93%A8%E7%94%B5%E8%84%91%E7%89%883.02%E5%AE%98%E6%96%B9windows%E7%89%88@284_164458.exe',\n",
       " 'http://19650.xc.cangpie.com/down/MicrosoftVisio2016%E4%B8%93%E4%B8%9A%E7%89%88(64%E4%BD%8D)@158_188229.exe',\n",
       " 'http://19650.xc.cangpie.com/down/NavicatforPostgreSQL12.0.11.0%E5%AE%98%E6%96%B9%E6%AD%A3%E5%BC%8F%E7%89%88@158_67204.exe',\n",
       " 'http://19650.xc.cangpie.com/xiaz/%E6%A0%BC%E6%9E%97%E7%AC%AC%E4%B8%80%E5%AD%A3%E5%85%A8%E9%9B%86_%E7%99%BE%E5%BA%A6%E4%BA%91%E7%BD%91%E7%9B%98_%E5%9C%A8%E7%BA%BF%E8%A7%82%E7%9C%8B_%E8%BF%85%E9%9B%B7%E4%B8%8B%E8%BD%BD@439_2.exe',\n",
       " 'http://19650.xc.cangpie.com/xiaz/office2007%E5%AE%98%E6%96%B9%E4%B8%8B%E8%BD%BD%E5%85%8D%E8%B4%B9%E5%AE%8C%E6%95%B4%E7%89%88@394_2.exe',\n",
       " 'http://19650.xc.cangpie.com/xiaz/FILE-Postman%E4%B8%8B%E8%BD%BD@592_60.exe',\n",
       " 'http://19725.xc.gongnou.com',\n",
       " 'http://19524.xc.cangpie.com/xiaz/PC%E8%8D%92%E9%87%8E%E8%A1%8C%E5%8A%A8%E4%BC%81%E9%B9%85%E8%BE%85%E5%8A%A924%E5%8F%B7%E4%BE%9D%E6%97%A7%E7%A8%B3%E5%AE%9A@754_2.exe',\n",
       " 'http://19524.xc.cangpie.com/xiaz/%E4%B8%89%E5%9B%BD%E7%BE%A4%E8%8B%B1%E4%BC%A02%E5%8D%95%E6%9C%BA%E7%89%88@182_21523.exe',\n",
       " 'http://19524.xc.cangpie.com/xiaz/%E6%BD%9C%E4%BC%8F4%E9%94%81%E5%91%BD%E4%BA%A1%E7%81%B5%E4%B8%AD%E6%96%87%E5%AD%97%E5%B9%95@560_381075.exe',\n",
       " 'http://19524.xc.cangpie.com',\n",
       " 'http://19524.xc.cangpie.com/down/dnfbase.dll%E6%96%87%E4%BB%B6@190_182258.exe',\n",
       " 'http://19483.xc.gongnou.com/xiaz/AdobePhotoshopCC2017v18.0.0%E4%B8%AD%E6%96%87/%E8%8B%B1%E6%96%87%E7%A0%B4%E8%A7%A3%E7%89%88(%E9%99%84%E6%B3%A8%E5%86%8C%E6%9C%BA)64%E4%BD%8D@696_507645.exe',\n",
       " 'http://19483.xc.gongnou.com',\n",
       " 'http://19285.xc.gongnou.com/xiaz/003@684_2.exe',\n",
       " 'http://19285.xc.gongnou.com/down/%E8%85%BE%E8%AE%AF%E5%AE%89%E5%8D%93%E6%A8%A1%E6%8B%9F%E5%99%A8@133_58027.exe',\n",
       " 'http://19285.xc.gongnou.com',\n",
       " 'http://19285.xc.gongnou.com/xiaz/Autocad2014%E7%A0%B4%E8%A7%A3%E7%89%88%E7%AE%80%E4%BD%93%E4%B8%AD%E6%96%87%E7%89%88%EF%BC%8832%2F64%E4%BD%8D%EF%BC%89@284_77748.exe',\n",
       " 'http://19285.xc.gongnou.com/xiaz/CanonLBP6018@311_11433.exe',\n",
       " 'http://19285.xc.gongnou.com/xiaz/%E7%99%BE%E5%BA%A6%E7%BD%91%E7%9B%98@584_2.exe',\n",
       " 'http://19285.xc.gongnou.com/xiaz/ug%20nx10.0%20win64%E6%AD%A3%E5%BC%8F%E7%89%88%20%E4%B8%AD%E6%96%87%E7%89%88@381_55667.exe',\n",
       " 'http://19285.xc.gongnou.com/xiaz/%E5%8F%8D%E6%81%90%E7%B2%BE%E8%8B%B11.6@382_4476.exe',\n",
       " 'http://19285.xc.gongnou.com/xiaz/%E8%80%81%E7%8E%8B%E7%9A%84%E9%82%BB%E5%B1%85%E6%98%AF%E4%BA%BA%E5%A6%BB%E6%B1%89%E5%8C%96%E7%89%881.0@368_308076.exe',\n",
       " 'http://19285.xc.gongnou.com/xiaz/%E5%AF%8C%E5%A3%AB%E6%96%BD%E4%B9%90DocuPrintP228db@311_17205.exe',\n",
       " 'http://19285.xc.gongnou.com/xiaz/%CC%C6%C8%CB%BD%D6%CC%BD%B0%B82@395_2.exe',\n",
       " 'http://19285.xc.gongnou.com/xiaz/003.rar@684_2.exe',\n",
       " 'http://19285.xc.gongnou.com/xiaz/OM@684_2.exe',\n",
       " 'http://19285.xc.gongnou.com/xiaz/%E8%80%81%E7%94%B7%E5%AD%A9@407_2.exe',\n",
       " 'http://19285.xc.gongnou.com/down/Pr2018%E7%A0%B4%E8%A7%A3%E7%89%8864%E4%BD%8D%E5%85%8D%E8%B4%B9%E4%B8%AD%E6%96%87%E7%89%88@158_347913.exe',\n",
       " 'http://19285.xc.gongnou.com/xiaz/Unnatural%E7%99%BE%E5%BA%A6%E4%BA%91%E4%B8%8B%E8%BD%BD@407_2.exe',\n",
       " 'http://19285.xc.gongnou.com/xiaz/%E5%92%AA%E5%92%95%E8%A7%86%E9%A2%91%E7%A0%B4%E8%A7%A3%E7%89%884.0.0.6@159_68489.exe',\n",
       " 'http://19285.xc.gongnou.com/xiaz/%E7%94%B5%E5%BD%B1%E5%8F%A4%E5%A2%93%E4%B8%BD%E5%BD%B1%EF%BC%9A%E6%BA%90%E8%B5%B7%E4%B9%8B%E6%88%981080P%E4%B8%AD%E6%96%87%E5%AD%97%E5%B9%95%E4%B8%8B%E8%BD%BD_%E7%94%B5%E5%BD%B1%E5%8F%A4%E5%A2%93%E4%B8%BD%E5%BD%B1%EF%BC%9A%E6%BA%90%E8%B5%B7%E4%B9%8B%E6%88%98%E5%9B%BD%E8%AF%AD%E4%B8%AD%E5%AD%97%E8%B5%84%E6%BA%90%E5%85%8D%E8%B4%B9%E4%B8%8B%E8%BD%BD@1241_2.exe',\n",
       " 'http://19285.xc.gongnou.com/xiaz/cdrx6%E7%A0%B4%E8%A7%A3%E7%89%8832/64%E4%BD%8D%E5%AE%98%E6%96%B9%E5%85%8D%E8%B4%B9%E7%89%88@240_100504.exe',\n",
       " 'http://19285.xc.gongnou.com/xiaz/%E8%B0%B7%E6%AD%8C%E8%AE%BF%E9%97%AE%E5%8A%A9%E6%89%8B2.2.5%E6%9C%80%E6%96%B0%E5%85%8D%E8%B4%B9%E7%89%88@159_148425.exe',\n",
       " 'http://19285.xc.gongnou.com/xiaz/%E5%8E%89%E5%AE%B3%E4%BA%86%EF%BC%8C%E6%88%91%E7%9A%84%E5%9B%BD%E7%94%B5%E5%BD%B1%E4%B8%8B%E8%BD%BD@773_2.exe',\n",
       " 'http://19285.xc.gongnou.com/xiaz/XMind8Update6%E5%AE%98%E6%96%B9%E4%B8%AD%E6%96%87%E5%AE%89%E8%A3%85%E7%89%88@696_589403.exe',\n",
       " 'http://19285.xc.gongnou.com/xiaz/%E5%94%90%E4%BA%BA%E8%A1%97%E6%8E%A2%E6%A1%882@395_2.exe',\n",
       " 'http://19285.xc.gongnou.com/xiaz/WebStormEAP2016.3%E5%AE%98%E6%96%B9%E5%AE%89%E8%A3%85%E7%89%88JavaScript%E5%BC%80%E5%8F%91%E5%B7%A5%E5%85%B7@696_507325.exe',\n",
       " 'http://19285.xc.gongnou.com/down/Microsoftvisio2010%E5%AE%98%E6%96%B9%E7%AE%80%E4%BD%93%E4%B8%AD%E6%96%87%E7%89%88@158_77328.exe',\n",
       " 'http://19285.xc.gongnou.com/xiaz/PhotoShopCS6%E6%97%A0%E9%9C%80%E5%BA%8F%E5%88%97%E5%8F%B7%E7%A0%B4%E8%A7%A3%E7%89%88@240_39089.exe',\n",
       " 'http://19285.xc.gongnou.com/favicon.ico',\n",
       " 'http://19285.xc.gongnou.com/xiaz/%E5%8F%8D%E6%81%90%E7%B2%BE%E8%8B%B11.6@382_38013.exe',\n",
       " 'http://19597.xc.cangpie.com/xiaz/%E4%B8%8D%E8%A6%81%E5%92%8C%E9%99%8C%E7%94%9F%E4%BA%BA%E8%AF%B4%E8%AF%9D%E5%85%A8%E9%9B%86_%E7%99%BE%E5%BA%A6%E4%BA%91%E7%BD%91%E7%9B%98_%E5%9C%A8%E7%BA%BF%E8%A7%82%E7%9C%8B_%E8%BF%85%E9%9B%B7%E4%B8%8B%E8%BD%BD@439_2.exe',\n",
       " 'http://19597.xc.cangpie.com',\n",
       " 'http://19597.xc.cangpie.com/down/%C2%B3%B4%F3%CA%A6%C2%CC%C9%AB%B0%E6@133_3811.exe',\n",
       " 'http://19597.xc.cangpie.com/xiaz/windows%20powershell%204.0%20%E5%AE%98%E6%96%B9%E5%AE%89%E8%A3%85%E7%89%88@156_580136.exe',\n",
       " 'http://19531.xc.cangpie.com/xiaz/%E7%8E%AF%E5%A4%AA%E5%B9%B3%E6%B4%8B2%EF%BC%9A%E9%9B%B7%E9%9C%86%E5%86%8D%E8%B5%B7%E9%AB%98%E6%B8%85_%E7%99%BE%E5%BA%A6%E4%BA%91%E7%BD%91%E7%9B%98_%E5%9C%A8%E7%BA%BF%E8%A7%82%E7%9C%8B_%E8%BF%85%E9%9B%B7%E4%B8%8B%E8%BD%BD@439_2.exe',\n",
       " 'http://19531.xc.cangpie.com/favicon.ico',\n",
       " 'http://19531.xc.cangpie.com',\n",
       " 'http://19531.xc.cangpie.com/xiaz/%E8%99%9A%E6%8B%9F%E5%85%89%E9%A9%B1%E7%BB%BF%E8%89%B2%E7%89%88%E4%B8%8B%E8%BD%BD@168_69457.exe',\n",
       " 'http://19531.xc.cangpie.com/xiaz/%E7%BB%9D%E5%9C%B0%E6%B1%82%E7%94%9F%EF%BC%9A%E5%A4%A7%E9%80%83%E6%9D%80%E5%AE%98%E6%96%B9%E4%B8%AD%E6%96%87%E7%89%88[%E6%AD%A3%E7%89%88%E5%88%86%E6%B5%81]%E4%B8%8B%E8%BD%BD@723_10104675.exe',\n",
       " 'http://19269.xc.cangpie.com',\n",
       " 'http://19622.xc.gongnou.com',\n",
       " 'http://19622.xc.gongnou.com/xiaz/mfc140u.dll@156_429777.exe',\n",
       " 'http://19598.xc.cangpie.com/down/AdobeIllustratorCC2016%E7%AE%80%E4%BD%93%E4%B8%AD%E6%96%87%E7%B2%BE%E7%AE%80%E7%89%88@158_221425.exe',\n",
       " 'http://19598.xc.cangpie.com/xiaz/java%20JDK1.9%20API%20%E4%B8%AD%E6%96%87%E5%8F%82%E8%80%83%E6%96%87%E6%A1%A3+%E5%8E%9F%E7%89%88%E6%96%87%E6%A1%A3%20%E9%AB%98%E6%B8%85%E5%AE%8C%E6%95%B4%E7%89%88%20CHM@156_575482.exe',\n",
       " 'http://19598.xc.cangpie.com/xiaz/%E5%8F%8D%E6%81%90%E7%B2%BE%E8%8B%B11.6@382_4476.exe',\n",
       " 'http://19598.xc.cangpie.com',\n",
       " 'http://19647.xc.gongnou.com/down/AutoCAD2007%E6%B3%A8%E5%86%8C%E6%9C%BA%E7%AE%80%E4%BD%93%E4%B8%AD%E6%96%87%E7%89%88%EF%BC%8864%E4%BD%8D/32%E4%BD%8D%EF%BC%89@158_308358.exe',\n",
       " 'http://19647.xc.gongnou.com/down/AutoCAD2019%E4%B8%AD%E6%96%87%E7%A0%B4%E8%A7%A3%E7%89%88%E5%90%AB%E6%B3%A8%E5%86%8C%E6%9C%BA@158_409275.exe',\n",
       " 'http://19647.xc.gongnou.com/down/AMTEmu%EF%BC%88Adobe%E6%8E%88%E6%9D%83%E5%B7%A5%E5%85%B7%EF%BC%890.9.3%E4%B8%AD%E6%96%87%E7%BB%BF%E8%89%B2%E7%89%88@158_164672.exe',\n",
       " 'http://19647.xc.gongnou.com/xiaz/%E6%94%B9%E5%9B%BE%E5%AE%9D@34_288233.exe',\n",
       " 'http://19647.xc.gongnou.com/down/%E7%99%BE%E8%AF%8D%E6%96%A9PC%E7%89%886.2.4%E5%AE%98%E6%96%B9%E6%9C%80%E6%96%B0%E7%89%88@158_77545.exe',\n",
       " 'http://19647.xc.gongnou.com/xiaz/%E5%94%90%E4%BA%BA03.29A%E6%80%AA%E7%89%A9%E5%85%A8%E5%B1%8F.rar-%E8%93%9D%E5%A5%8F%E4%BA%91@676_2966127.exe',\n",
       " 'http://19647.xc.gongnou.com/xiaz/%E4%B8%9C%E8%8A%9De-STUDIO2507@311_14706.exe',\n",
       " 'http://19647.xc.gongnou.com/xiaz/%E7%94%9F%E6%AD%BB%E7%8B%99%E5%87%BB%E6%97%A0%E6%95%8C%E8%BE%85%E5%8A%A9%E9%80%8F%E8%A7%86+%E8%87%AA%E5%8A%A8%E5%BC%80%E6%9E%AA+%E8%87%AA%E7%9E%84+%E6%AD%A6%E5%99%A8%E4%BF%AE%E6%94%B91.2-%E5%92%95%E5%92%95%E7%8C%AA%E4%B8%8B%E8%BD%BD%E7%AB%99@163_255381.exe',\n",
       " 'http://19647.xc.gongnou.com/xiaz/3dmax2012@278_27413.exe',\n",
       " 'http://19647.xc.gongnou.com/xiaz/%E7%BA%A2%E6%B5%B7%E8%A1%8C%E5%8A%A8@407_2.exe',\n",
       " 'http://19647.xc.gongnou.com/favicon.ico',\n",
       " 'http://19647.xc.gongnou.com/xiaz/amtemu@212_287023.exe',\n",
       " 'http://19647.xc.gongnou.com/down/msxml@134_22731.exe',\n",
       " 'http://19647.xc.gongnou.com/xiaz/Office2010@418_24189.exe',\n",
       " 'http://19647.xc.gongnou.com/xiaz/%E3%80%8A%E7%A5%96%E5%AE%97%E5%8D%81%E4%B9%9D%E4%BB%A3%E3%80%8B%E5%85%A8%E9%9B%86@777_2.exe',\n",
       " 'http://19647.xc.gongnou.com/xiaz/HPLaserJet1020Plus@311_3240.exe',\n",
       " 'http://19647.xc.gongnou.com/xiaz/%E7%8E%AF%E5%A4%AA%E5%B9%B3%E6%B4%8B2@407_2.exe',\n",
       " 'http://19520.xc.cangpie.com',\n",
       " 'http://19239.xc.gongnou.com/xiaz/%E6%88%91%E7%9A%84%E4%B8%96%E7%95%8C1.7.4%E7%89%88%E4%B8%8B%E8%BD%BD@422_2.exe',\n",
       " 'http://19239.xc.gongnou.com/xiaz/%E4%BA%AC%E7%93%B7KyoceraCS3501i%E9%A9%B1%E5%8A%A8%E4%B8%8B%E8%BD%BD@383_12235.exe',\n",
       " 'http://19239.xc.gongnou.com/xiaz/%E4%BE%A0%E7%9B%97%E7%8C%8E%E8%BD%A6%E7%BD%AA%E6%81%B6%E9%83%BD%E5%B8%82%E4%B8%8B%E8%BD%BD@441_56354.exe',\n",
       " 'http://19239.xc.gongnou.com/down/Chrome%E6%B5%8F%E8%A7%88%E5%99%A8XP%E7%89%8840.0.2214.91%E5%AE%98%E6%96%B9XP%E7%89%88%E6%9C%AC%EF%BC%8832%E4%BD%8D%EF%BC%89@158_76134.exe',\n",
       " 'http://19239.xc.gongnou.com/xiaz/%E5%8A%A0%E3%80%81%E5%87%8F%E6%B3%95%E7%9A%84%E6%84%8F%E4%B9%89%E5%92%8C%E5%90%84%E9%83%A8%E5%88%86%E9%97%B4%E7%9A%84%E5%85%B3%E7%B3%BB@622_2.exe',\n",
       " 'http://19239.xc.gongnou.com/down/%E8%8D%92%E9%87%8E%E8%A1%8C%E5%8A%A8PC%E7%89%88%E8%BE%85%E5%8A%A9%E5%B7%A5%E5%85%B71.4%E7%BB%BF%E8%89%B2%E7%89%88@158_378904.exe']"
      ]
     },
     "execution_count": 13,
     "metadata": {},
     "output_type": "execute_result"
    }
   ],
   "source": [
    "predict_malicious[:100]"
   ]
  },
  {
   "cell_type": "code",
   "execution_count": 13,
   "metadata": {},
   "outputs": [
    {
     "name": "stderr",
     "output_type": "stream",
     "text": [
      "2018-04-19 20:23:32 file_io.py [line:191] DEBUG\tRegex Data has been loaded\t../../data/EXP_sangfor_malware5/regex_raw.txt\n",
      "2018-04-19 20:23:33 file_io.py [line:231] DEBUG\tTest Data has been loaded\t../../data/sangfor/safe0416.csv\n"
     ]
    },
    {
     "name": "stdout",
     "output_type": "stream",
     "text": [
      "batch index 0\tsample index 0\thit domain 0\t^19\\d{3}\\.url\\.9xiazaiqi\\.com$\n",
      "batch index 1\tsample index 0\thit domain 45\t^19\\d{3}\\.xc\\.(:?gongnou|cangpie)\\.com$\n",
      "batch index 2\tsample index 0\thit domain 0\t^19361\\.url\\.(:?246546|tudown|7wkw)\\.com$\n",
      "batch index 3\tsample index 0\thit domain 4\t^19\\d{3}\\.url\\.246546\\.com$\n",
      "batch index 4\tsample index 0\thit domain 0\t^\\d{5}\\.url\\.7wkw\\.com$\n",
      "batch index 5\tsample index 0\thit domain 62\t^\\d{5}\\.xc\\.(:?gongnou|cangpie)\\.com$\n",
      "batch index 6\tsample index 0\thit domain 0\t^down050\\d{5}\\.xdown4\\.com$\n",
      "batch index 7\tsample index 0\thit domain 25\t^\\d{5}\\.url\\.222bz\\.com$\n"
     ]
    }
   ],
   "source": [
    "predict_malicious, predict_dict, predict_dict_detail = regex_domain.malicious_domain_predict(\n",
    "                      input_file_path = \"../../data/sangfor/safe0416.csv\",\n",
    "                      regex_file_path = \"../../data/EXP_sangfor_malware5/regex_raw.txt\")"
   ]
  },
  {
   "cell_type": "code",
   "execution_count": 16,
   "metadata": {},
   "outputs": [
    {
     "data": {
      "text/plain": [
       "157"
      ]
     },
     "execution_count": 16,
     "metadata": {},
     "output_type": "execute_result"
    }
   ],
   "source": [
    "len(set(predict_malicious))"
   ]
  },
  {
   "cell_type": "code",
   "execution_count": 17,
   "metadata": {},
   "outputs": [
    {
     "data": {
      "text/plain": [
       "['http://19870.xc.gongnou.com/down/word2010@134_9982.exe',\n",
       " 'http://20025.xc.gongnou.com/xiaz/%E8%BF%9D%E5%91%BD,%E8%BF%9D%E5%91%BD%E7%94%B5%E5%BD%B1,%E8%BF%9D%E5%91%BD%E5%9C%A8%E7%BA%BF%E8%A7%82%E7%9C%8B,%E8%BF%9D%E5%91%BD%E5%85%8D%E8%B4%B9%E8%A7%82%E7%9C%8B,%E8%BF%9D%E5%91%BD%E9%AB%98%E6%B8%85%E5%AE%8C%E6%95%B4%E7%89%88,%E8%BF%9D%E5%91%BD%E4%B8%8B%E8%BD%BD@688_2.exe',\n",
       " 'http://20029.xc.gongnou.com/xiaz/%E7%BA%A2%E6%B5%B7%E8%A1%8C%E5%8A%A8,%E7%BA%A2%E6%B5%B7%E8%A1%8C%E5%8A%A8%E7%94%B5%E5%BD%B1,%E7%BA%A2%E6%B5%B7%E8%A1%8C%E5%8A%A8%E5%9C%A8%E7%BA%BF%E8%A7%82%E7%9C%8B,%E7%BA%A2%E6%B5%B7%E8%A1%8C%E5%8A%A8%E5%85%8D%E8%B4%B9%E8%A7%82%E7%9C%8B,%E7%BA%A2%E6%B5%B7%E8%A1%8C%E5%8A%A8%E9%AB%98%E6%B8%85%E5%AE%8C%E6%95%B4%E7%89%88,%E7%BA%A2%E6%B5%B7%E8%A1%8C%E5%8A%A8%E4%B8%8B%E8%BD%BD@688_2.exe',\n",
       " 'http://19916.xc.gongnou.com/xiaz/%E7%BA%A2%E6%B5%B7%E8%A1%8C%E5%8A%A8,%E7%BA%A2%E6%B5%B7%E8%A1%8C%E5%8A%A8%E7%94%B5%E5%BD%B1,%E7%BA%A2%E6%B5%B7%E8%A1%8C%E5%8A%A8%E5%9C%A8%E7%BA%BF%E8%A7%82%E7%9C%8B,%E7%BA%A2%E6%B5%B7%E8%A1%8C%E5%8A%A8%E5%85%8D%E8%B4%B9%E8%A7%82%E7%9C%8B,%E7%BA%A2%E6%B5%B7%E8%A1%8C%E5%8A%A8%E9%AB%98%E6%B8%85%E5%AE%8C%E6%95%B4%E7%89%88,%E7%BA%A2%E6%B5%B7%E8%A1%8C%E5%8A%A8%E4%B8%8B%E8%BD%BD@688_2.exe',\n",
       " 'http://19930.xc.cangpie.com/xiaz/%E6%B4%9B%E5%85%8B%E7%8E%8B%E5%9B%BD%E8%BE%85%E5%8A%A9%E4%B8%8B%E8%BD%BD%7C%E6%B4%9B%E5%85%8B%E7%8E%8B%E5%9B%BD%E6%9D%B1%E5%93%A5%E8%BE%85%E5%8A%A9@244_6213.exe',\n",
       " 'http://19800.xc.gongnou.com/xiaz/BD%E9%AB%98%E6%B8%85@616_2.exe',\n",
       " 'http://19909.xc.gongnou.com',\n",
       " 'http://19953.xc.cangpie.com/xiaz/ASP.NET%20MVC%205%20%E7%BD%91%E7%AB%99%E5%BC%80%E5%8F%91%E4%B9%8B%E7%BE%8E%20%E5%AE%8C%E6%95%B4pdf%E6%89%AB%E6%8F%8F%E7%89%88%5B128MB%5D@156_552869.exe',\n",
       " 'http://19913.xc.gongnou.com/xiaz/%E7%99%BE%E5%BA%A6%E7%BD%91%E7%9B%98@584_2.exe',\n",
       " 'http://14614.xc.gongnou.com/down/Adobe%20Flash%20Player%E7%8B%AC%E7%AB%8B%E6%92%AD%E6%94%BE%E5%99%A8@626_3875.exe',\n",
       " 'http://19963.url.222bz.com/xiaz/SuperScan%E6%B1%89%E5%8C%96%E7%89%88@373_11499.exe',\n",
       " 'http://19951.xc.gongnou.com/xiaz/%E6%83%85%E4%BA%8B2%EF%BC%9A%E6%9C%8B%E5%8F%8B%E7%9A%84%E7%BB%A7%E6%AF%8D,%E6%83%85%E4%BA%8B2%EF%BC%9A%E6%9C%8B%E5%8F%8B%E7%9A%84%E7%BB%A7%E6%AF%8D%E7%94%B5%E5%BD%B1,%E6%83%85%E4%BA%8B2%EF%BC%9A%E6%9C%8B%E5%8F%8B%E7%9A%84%E7%BB%A7%E6%AF%8D%E5%9C%A8%E7%BA%BF%E8%A7%82%E7%9C%8B,%E6%83%85%E4%BA%8B2%EF%BC%9A%E6%9C%8B%E5%8F%8B%E7%9A%84%E7%BB%A7%E6%AF%8D%E5%85%8D%E8%B4%B9%E8%A7%82%E7%9C%8B,%E6%83%85%E4%BA%8B2%EF%BC%9A%E6%9C%8B%E5%8F%8B%E7%9A%84%E7%BB%A7%E6%AF%8D%E9%AB%98%E6%B8%85%E5%AE%8C%E6%95%B4%E7%89%88,%E6%83%85%E4%BA%8B2%EF%BC%9A%E6%9C%8B%E5%8F%8B%E7%9A%84%E7%BB%A7%E6%AF%8D%E4%B8%8B%E8%BD%BD@688_2.exe',\n",
       " 'http://14614.xc.gongnou.com/down/%E9%A3%9E%E7%A7%8BFeiQ2013@626_4168.exe',\n",
       " 'http://20053.xc.gongnou.com/xiaz/%CF%C9%BD%A3%C6%E6%CF%C0%B4%AB%D6%AE%CB%AB%BD%A3%B4%AB%CB%B5%CF%C2%D4%D8@441_43883.exe',\n",
       " 'http://19915.xc.gongnou.com',\n",
       " 'http://19910.xc.gongnou.com/xiaz/HPDeskjet1010@311_14979.exe',\n",
       " 'http://17822.xc.gongnou.com/xiaz/%E3%80%8A%E7%BA%A2%E8%89%B2%E8%AD%A6%E6%88%922%E5%85%B1%E5%92%8C%E5%9B%BD%E4%B9%8B%E8%BE%892%E3%80%8B%E4%B8%AD%E6%96%87%E7%89%88%E4%B8%8B%E8%BD%BD-%E5%8D%95%E6%9C%BA%E6%B8%B8%E6%88%8F-52pk%E6%B8%B8%E6%88%8F%E4%B8%8B%E8%BD%BD%E4%B8%AD%E5%BF%83@322_15127.exe',\n",
       " 'http://19908.xc.gongnou.com',\n",
       " 'http://19846.xc.gongnou.com/xiaz/%E5%90%8E%E5%AE%AB%E7%94%84%E5%AC%9B%E4%BC%A0bt%E7%A7%8D%E5%AD%90%E4%B8%8B%E8%BD%BD%5B%E5%9B%BD%E8%AF%AD76%E9%9B%86%5D%5BDVD-RMVB%5D@481_2.exe',\n",
       " 'http://19745.xc.cangpie.com/xiaz/%3F%3F%3F%3F@271_119879.exe',\n",
       " 'http://20060.xc.gongnou.com/xiaz/%E7%BA%A2%E6%B5%B7%E8%A1%8C%E5%8A%A8,%E7%BA%A2%E6%B5%B7%E8%A1%8C%E5%8A%A8%E7%94%B5%E5%BD%B1,%E7%BA%A2%E6%B5%B7%E8%A1%8C%E5%8A%A8%E5%9C%A8%E7%BA%BF%E8%A7%82%E7%9C%8B,%E7%BA%A2%E6%B5%B7%E8%A1%8C%E5%8A%A8%E5%85%8D%E8%B4%B9%E8%A7%82%E7%9C%8B,%E7%BA%A2%E6%B5%B7%E8%A1%8C%E5%8A%A8%E9%AB%98%E6%B8%85%E5%AE%8C%E6%95%B4%E7%89%88,%E7%BA%A2%E6%B5%B7%E8%A1%8C%E5%8A%A8%E4%B8%8B%E8%BD%BD@688_2.exe',\n",
       " 'http://19913.xc.gongnou.com/xiaz/%E7%BA%A2%E6%B5%B7%E8%A1%8C%E5%8A%A8,%E7%BA%A2%E6%B5%B7%E8%A1%8C%E5%8A%A8%E7%94%B5%E5%BD%B1,%E7%BA%A2%E6%B5%B7%E8%A1%8C%E5%8A%A8%E5%9C%A8%E7%BA%BF%E8%A7%82%E7%9C%8B,%E7%BA%A2%E6%B5%B7%E8%A1%8C%E5%8A%A8%E5%85%8D%E8%B4%B9%E8%A7%82%E7%9C%8B,%E7%BA%A2%E6%B5%B7%E8%A1%8C%E5%8A%A8%E9%AB%98%E6%B8%85%E5%AE%8C%E6%95%B4%E7%89%88,%E7%BA%A2%E6%B5%B7%E8%A1%8C%E5%8A%A8%E4%B8%8B%E8%BD%BD@688_2.exe',\n",
       " 'http://19907.xc.gongnou.com/favicon.ico',\n",
       " 'http://19914.xc.gongnou.com/xiaz/%E7%BA%A2%E6%B5%B7%E8%A1%8C%E5%8A%A8%E9%AB%98%E6%B8%85%E5%AE%8C%E6%95%B4%E7%89%88%E5%85%8D%E8%B4%B9%E5%9C%A8%E7%BA%BF%E8%A7%82%E7%9C%8B_%E7%BA%A2%E6%B5%B7%E8%A1%8C%E5%8A%A8ts%E6%8A%A2%E5%85%88%E6%B8%85%E6%99%B0%E7%89%88%E4%B8%AD%E5%AD%97MP4%E4%B8%8B%E8%BD%BD@1241_2.exe',\n",
       " 'http://20052.xc.gongnou.com/xiaz/%E8%8A%B1%E9%A3%9E%E6%BB%A1%E5%9F%8E%E6%98%A5,%E8%8A%B1%E9%A3%9E%E6%BB%A1%E5%9F%8E%E6%98%A5%E7%94%B5%E5%BD%B1,%E8%8A%B1%E9%A3%9E%E6%BB%A1%E5%9F%8E%E6%98%A5%E5%9C%A8%E7%BA%BF%E8%A7%82%E7%9C%8B,%E8%8A%B1%E9%A3%9E%E6%BB%A1%E5%9F%8E%E6%98%A5%E5%85%8D%E8%B4%B9%E8%A7%82%E7%9C%8B,%E8%8A%B1%E9%A3%9E%E6%BB%A1%E5%9F%8E%E6%98%A5%E9%AB%98%E6%B8%85%E5%AE%8C%E6%95%B4%E7%89%88,%E8%8A%B1%E9%A3%9E%E6%BB%A1%E5%9F%8E%E6%98%A5%E4%B8%8B%E8%BD%BD@688_2.exe',\n",
       " 'http://19953.url.222bz.com/xiaz/XLLEX.DLL@373_98349.exe',\n",
       " 'http://19958.xc.gongnou.com/xiaz/%E7%BA%A2%E6%B5%B7%E8%A1%8C%E5%8A%A8,%E7%BA%A2%E6%B5%B7%E8%A1%8C%E5%8A%A8%E7%94%B5%E5%BD%B1,%E7%BA%A2%E6%B5%B7%E8%A1%8C%E5%8A%A8%E5%9C%A8%E7%BA%BF%E8%A7%82%E7%9C%8B,%E7%BA%A2%E6%B5%B7%E8%A1%8C%E5%8A%A8%E5%85%8D%E8%B4%B9%E8%A7%82%E7%9C%8B,%E7%BA%A2%E6%B5%B7%E8%A1%8C%E5%8A%A8%E9%AB%98%E6%B8%85%E5%AE%8C%E6%95%B4%E7%89%88,%E7%BA%A2%E6%B5%B7%E8%A1%8C%E5%8A%A8%E4%B8%8B%E8%BD%BD@688_2.exe',\n",
       " 'http://19911.xc.gongnou.com/xiaz/%E7%BA%A2%E6%B5%B7%E8%A1%8C%E5%8A%A8%E7%94%B5%E5%BD%B1%E5%85%A8%E9%9B%86%E7%99%BE%E5%BA%A6%E4%BA%91%E7%BD%91%E7%9B%98@407_2.exe',\n",
       " 'http://18568.url.222bz.com/xiaz/%E8%99%9A%E6%8B%9F%E8%BF%BD%E8%B8%AA%E8%80%85(%E5%B0%BE%E8%A1%8C4)%E6%B1%89%E5%8C%96%E5%AE%8C%E7%BE%8E%E7%A1%AC%E7%9B%98%E7%89%88%EF%BC%88%E5%AE%8C%E7%BE%8E%E5%85%8DDVD-%E9%99%84%E5%85%A8CG%E6%A1%A3-%E8%A7%A3%E7%A0%81%E8%A1%A5%E4%B8%81-%E6%94%BB%E7%95%A5%EF%BC%89@486_208732.exe',\n",
       " 'http://20053.xc.gongnou.com/xiaz/%E7%BA%A2%E6%B5%B7%E8%A1%8C%E5%8A%A8,%E7%BA%A2%E6%B5%B7%E8%A1%8C%E5%8A%A8%E7%94%B5%E5%BD%B1,%E7%BA%A2%E6%B5%B7%E8%A1%8C%E5%8A%A8%E5%9C%A8%E7%BA%BF%E8%A7%82%E7%9C%8B,%E7%BA%A2%E6%B5%B7%E8%A1%8C%E5%8A%A8%E5%85%8D%E8%B4%B9%E8%A7%82%E7%9C%8B,%E7%BA%A2%E6%B5%B7%E8%A1%8C%E5%8A%A8%E9%AB%98%E6%B8%85%E5%AE%8C%E6%95%B4%E7%89%88,%E7%BA%A2%E6%B5%B7%E8%A1%8C%E5%8A%A8%E4%B8%8B%E8%BD%BD@688_2.exe',\n",
       " 'http://19810.xc.gongnou.com/xiaz/%E6%9C%A8%E5%85%B0%E5%A6%88%E5%A6%88%E5%85%A8%E9%9B%86_%E7%99%BE%E5%BA%A6%E4%BA%91%E7%BD%91%E7%9B%98_%E5%9C%A8%E7%BA%BF%E8%A7%82%E7%9C%8B_%E8%BF%85%E9%9B%B7%E4%B8%8B%E8%BD%BD@439_2.exe',\n",
       " 'http://19908.xc.gongnou.com/xiaz/%E7%BA%A2%E6%B5%B7%E8%A1%8C%E5%8A%A8,%E7%BA%A2%E6%B5%B7%E8%A1%8C%E5%8A%A8%E7%94%B5%E5%BD%B1,%E7%BA%A2%E6%B5%B7%E8%A1%8C%E5%8A%A8%E5%9C%A8%E7%BA%BF%E8%A7%82%E7%9C%8B,%E7%BA%A2%E6%B5%B7%E8%A1%8C%E5%8A%A8%E5%85%8D%E8%B4%B9%E8%A7%82%E7%9C%8B,%E7%BA%A2%E6%B5%B7%E8%A1%8C%E5%8A%A8%E9%AB%98%E6%B8%85%E5%AE%8C%E6%95%B4%E7%89%88,%E7%BA%A2%E6%B5%B7%E8%A1%8C%E5%8A%A8%E4%B8%8B%E8%BD%BD@688_2.exe',\n",
       " 'http://14614.xc.gongnou.com/down/PDF%E5%90%88%E5%B9%B6%E8%BD%AF%E4%BB%B6%20PDFBinder%20V1.1@626_8224.exe',\n",
       " 'http://20031.url.222bz.com/xiaz/%E4%B8%89%E5%9B%BD%E6%88%98%E8%AE%B0%E8%B6%85%E7%BA%A7%E6%95%B4%E5%90%88%E7%89%88@212_22004.exe',\n",
       " 'http://19893.xc.gongnou.com/xiaz/iphoneIDjiesuo-v4.0@248_116802.exe',\n",
       " 'http://19911.xc.gongnou.com/xiaz/%CE%D2%C3%C7%B4%F3%BC%D2%CC%F8%C6%F0%C0%B4@622_2.exe',\n",
       " 'http://19913.xc.gongnou.com/xiaz/%E7%BA%A2%E8%89%B2%E8%AD%A6%E6%88%922%EF%BC%9A%E5%85%B1%E5%92%8C%E5%9B%BD%E4%B9%8B%E8%BE%89@382_5459.exe',\n",
       " 'http://19912.xc.gongnou.com/xiaz/Win10%E6%BF%80%E6%B4%BB%E5%B7%A5%E5%85%B7@418_79567.exe',\n",
       " 'http://14614.xc.gongnou.com/down/%CC%DA%D1%B6TIM@626_3420.exe',\n",
       " 'http://19906.xc.gongnou.com/xiaz/%E7%BA%A2%E6%B5%B7%E8%A1%8C%E5%8A%A8%E7%99%BE%E5%BA%A6%E4%BA%91@407_2.exe',\n",
       " 'http://14614.xc.gongnou.com/down/%E5%B1%8F%E5%B9%95%E5%BD%95%E5%83%8F%E4%B8%93%E5%AE%B6%202017@626_4645.exe',\n",
       " 'http://20028.xc.gongnou.com/xiaz/%E5%AF%BB%E6%A2%A6%E7%8E%AF%E6%B8%B8%E8%AE%B0,%E5%AF%BB%E6%A2%A6%E7%8E%AF%E6%B8%B8%E8%AE%B0%E7%94%B5%E5%BD%B1,%E5%AF%BB%E6%A2%A6%E7%8E%AF%E6%B8%B8%E8%AE%B0%E5%9C%A8%E7%BA%BF%E8%A7%82%E7%9C%8B,%E5%AF%BB%E6%A2%A6%E7%8E%AF%E6%B8%B8%E8%AE%B0%E5%85%8D%E8%B4%B9%E8%A7%82%E7%9C%8B,%E5%AF%BB%E6%A2%A6%E7%8E%AF%E6%B8%B8%E8%AE%B0%E9%AB%98%E6%B8%85%E5%AE%8C%E6%95%B4%E7%89%88,%E5%AF%BB%E6%A2%A6%E7%8E%AF%E6%B8%B8%E8%AE%B0%E4%B8%8B%E8%BD%BD@688_2.exe',\n",
       " 'http://19933.url.222bz.com/xiaz/%E8%B1%AA%E6%9D%B0%E8%B6%85%E7%BA%A7%E8%A7%A3%E9%9C%B83500@373_41.exe',\n",
       " 'http://19957.url.222bz.com/xiaz/HP%BB%DD%C6%D5LaserJetM1005MFP%B6%E0%B9%A6%C4%DC%D2%BB%CC%E5%BB%FA%BC%B4%B2%E5%BC%B4%D3%C3%C7%FD%B6%AF20070507%B0%E6ForWinXP-64@719_107550.exe',\n",
       " 'http://14614.xc.gongnou.com/down/AutoCAD%202016%2064%E4%BD%8D@626_3210.exe',\n",
       " 'http://19930.url.222bz.com/xiaz/%E4%B8%87%E8%83%BD%E6%97%A0%E7%BA%BF%E7%BD%91%E5%8D%A1%E9%A9%B1%E5%8A%A8forwin764bitv2018.01.24.1733@719_271552.exe',\n",
       " 'http://19966.xc.cangpie.com/xiaz/%E5%8E%89%E5%AE%B3%E4%BA%86%EF%BC%8C%E6%88%91%E7%9A%84%E5%9B%BD%E5%AE%8C%E6%95%B4%E7%89%88%E4%B8%8B%E8%BD%BD1080p%E9%AB%98%E6%B8%85bt%E7%A7%8D%E5%AD%90%E8%B5%84%E6%BA%90%E5%85%B1%E4%BA%AB%7C%E5%8E%89%E5%AE%B3%E4%BA%86%EF%BC%8C%E6%88%91%E7%9A%84%E5%9B%BD%E7%94%B5%E5%BD%B1%E8%BF%85%E9%9B%B7%E4%B8%8B%E8%BD%BD%E9%AB%98%E6%B8%85%E5%AE%8C%E6%95%B4%E7%89%88@518_2.exe',\n",
       " 'http://20048.xc.gongnou.com/xiaz/AutoCAD2010%E3%80%9032%E4%BD%8D%2B64%E4%BD%8D%E3%80%91%E7%AE%80%E4%BD%93%E4%B8%AD%E6%96%87%E7%A0%B4%E8%A7%A3%E7%89%88@86_63430.exe',\n",
       " 'http://14614.xc.gongnou.com/down/%E4%BC%9A%E5%A3%B0%E4%BC%9A%E5%BD%B1X10%2064%E4%BD%8D@626_3289.exe',\n",
       " 'http://20025.xc.gongnou.com/xiaz/%E6%91%87%E6%91%87%E6%99%83%E6%99%83%E7%9A%84%E4%BA%BA%E9%97%B4,%E6%91%87%E6%91%87%E6%99%83%E6%99%83%E7%9A%84%E4%BA%BA%E9%97%B4%E7%94%B5%E5%BD%B1,%E6%91%87%E6%91%87%E6%99%83%E6%99%83%E7%9A%84%E4%BA%BA%E9%97%B4%E5%9C%A8%E7%BA%BF%E8%A7%82%E7%9C%8B,%E6%91%87%E6%91%87%E6%99%83%E6%99%83%E7%9A%84%E4%BA%BA%E9%97%B4%E5%85%8D%E8%B4%B9%E8%A7%82%E7%9C%8B,%E6%91%87%E6%91%87%E6%99%83%E6%99%83%E7%9A%84%E4%BA%BA%E9%97%B4%E9%AB%98%E6%B8%85%E5%AE%8C%E6%95%B4%E7%89%88,%E6%91%87%E6%91%87%E6%99%83%E6%99%83%E7%9A%84%E4%BA%BA%E9%97%B4%E4%B8%8B%E8%BD%BD@688_2.exe',\n",
       " 'http://19954.url.222bz.com/xiaz/Lenovo%EF%BC%88%E8%81%94%E6%83%B3%EF%BC%89IdeaPadS400TouchAtherosBluetooth%E8%93%9D%E7%89%99%E9%A9%B1%E5%8A%A87.4.0.135%E9%80%82%E7%94%A8%E4%BA%8EWindows7@719_218143.exe',\n",
       " 'http://19929.url.222bz.com/xiaz/Canon%E4%BD%B3%E8%83%BDLBP-2900%E6%BF%80%E5%85%89%E6%89%93%E5%8D%B0%E6%9C%BA%E9%A9%B1%E5%8A%A8R1.14V3.10%E7%89%88ForWin2003-64/Vista-64/2008-64/Win7-64@719_102373.exe',\n",
       " 'http://19935.xc.gongnou.com/xiaz/%E6%96%B9%E6%AD%A3%E5%85%B0%E4%BA%AD%E9%BB%91%E5%AD%97%E4%BD%93%E5%85%A8%E9%9B%86(%E5%90%ABGBK%E7%89%88%E5%8F%8A%E7%B4%A2%E5%B0%BC%E5%85%B0%E4%BA%AD,%E5%B0%8F%E7%B1%B3%E5%85%B0%E4%BA%AD%E5%AD%97%E4%BD%93)_%E4%BA%BF%E5%93%81%E7%B2%BE%E5%93%81%E5%AD%97%E4%BD%93%E4%B8%8B%E8%BD%BD@1247_2.exe',\n",
       " 'http://19764.xc.gongnou.com/xiaz/dreamweavercs6@248_80439.exe',\n",
       " 'http://19915.xc.gongnou.com/xiaz/%E7%8C%8E%E8%B1%BA%E7%8B%BC%E5%85%A8%E9%9B%86@407_2.exe',\n",
       " 'http://19937.url.222bz.com/xiaz/%E6%88%91%E7%B3%BB%E6%B8%A3%E6%B8%A3%E8%BE%89%E8%AF%AD%E9%9F%B3%E5%8C%85@212_322355.exe',\n",
       " 'http://19929.xc.gongnou.com/xiaz/%E7%88%B1%E7%9A%84%E7%81%AB%E8%8A%B1,%E7%88%B1%E7%9A%84%E7%81%AB%E8%8A%B1%E7%94%B5%E5%BD%B1,%E7%88%B1%E7%9A%84%E7%81%AB%E8%8A%B1%E5%9C%A8%E7%BA%BF%E8%A7%82%E7%9C%8B,%E7%88%B1%E7%9A%84%E7%81%AB%E8%8A%B1%E5%85%8D%E8%B4%B9%E8%A7%82%E7%9C%8B,%E7%88%B1%E7%9A%84%E7%81%AB%E8%8A%B1%E9%AB%98%E6%B8%85%E5%AE%8C%E6%95%B4%E7%89%88,%E7%88%B1%E7%9A%84%E7%81%AB%E8%8A%B1%E4%B8%8B%E8%BD%BD@688_2.exe',\n",
       " 'http://19910.xc.gongnou.com/xiaz/%E7%99%BE%E5%BA%A6%E7%BD%91%E7%9B%98@584_2.exe',\n",
       " 'http://20052.xc.gongnou.com/xiaz/%E5%87%BA%E8%BD%A8%E7%9A%84%E5%A5%B3%E4%BA%BA,%E5%87%BA%E8%BD%A8%E7%9A%84%E5%A5%B3%E4%BA%BA%E7%94%B5%E5%BD%B1,%E5%87%BA%E8%BD%A8%E7%9A%84%E5%A5%B3%E4%BA%BA%E5%9C%A8%E7%BA%BF%E8%A7%82%E7%9C%8B,%E5%87%BA%E8%BD%A8%E7%9A%84%E5%A5%B3%E4%BA%BA%E5%85%8D%E8%B4%B9%E8%A7%82%E7%9C%8B,%E5%87%BA%E8%BD%A8%E7%9A%84%E5%A5%B3%E4%BA%BA%E9%AB%98%E6%B8%85%E5%AE%8C%E6%95%B4%E7%89%88,%E5%87%BA%E8%BD%A8%E7%9A%84%E5%A5%B3%E4%BA%BA%E4%B8%8B%E8%BD%BD@688_2.exe',\n",
       " 'http://14614.xc.gongnou.com/down/QQ%E8%BD%BB%E8%81%8A%E7%89%88%207.9@626_3529.exe',\n",
       " 'http://19954.url.222bz.com/xiaz/%E8%80%81%E6%9D%BF%E9%94%AE-%E6%97%A0%E5%BF%A7%E9%9A%90%E8%97%8F@373_72248.exe',\n",
       " 'http://14614.xc.gongnou.com/down/%E6%8B%B3%E7%9A%8797@626_7972.exe',\n",
       " 'http://19952.xc.gongnou.com/xiaz/%E6%B4%9B%E5%85%8B%E7%8E%8B%E5%9B%BD%E8%BE%85%E5%8A%A9%7C%E6%B4%9B%E5%85%8B%E7%8E%8B%E5%9B%BD%E9%AD%94%E9%AC%BC%E6%8C%82%E6%9C%BA%E5%8A%A9%E6%89%8Bv1.0.6.0%E4%B8%8B%E8%BD%BD@244_10916.exe',\n",
       " 'http://19910.xc.gongnou.com',\n",
       " 'http://20057.xc.gongnou.com/xiaz/%E7%BA%A2%E6%B5%B7%E8%A1%8C%E5%8A%A8,%E7%BA%A2%E6%B5%B7%E8%A1%8C%E5%8A%A8%E7%94%B5%E5%BD%B1,%E7%BA%A2%E6%B5%B7%E8%A1%8C%E5%8A%A8%E5%9C%A8%E7%BA%BF%E8%A7%82%E7%9C%8B,%E7%BA%A2%E6%B5%B7%E8%A1%8C%E5%8A%A8%E5%85%8D%E8%B4%B9%E8%A7%82%E7%9C%8B,%E7%BA%A2%E6%B5%B7%E8%A1%8C%E5%8A%A8%E9%AB%98%E6%B8%85%E5%AE%8C%E6%95%B4%E7%89%88,%E7%BA%A2%E6%B5%B7%E8%A1%8C%E5%8A%A8%E4%B8%8B%E8%BD%BD@688_2.exe',\n",
       " 'http://19938.url.222bz.com/xiaz/Proteus8.6@212_222574.exe',\n",
       " 'http://19906.xc.gongnou.com/favicon.ico',\n",
       " 'http://19846.xc.gongnou.com/xiaz/%BA%F3%B9%AC%D5%E7%8B%D6%B4%ABbt%D6%D6%D7%D3%CF%C2%D4%D8%5B%B9%FA%D3%EF76%BC%AF%5D%5BDVD-RMVB%5D@481_2.exe',\n",
       " 'http://14614.xc.gongnou.com/down/Steam%203.55.92.67@626_4815.exe',\n",
       " 'http://19906.xc.gongnou.com',\n",
       " 'http://14614.xc.gongnou.com/down/%E8%8D%92%E5%B2%9B%E6%B1%82%E7%94%9F@626_7826.exe',\n",
       " 'http://19745.xc.cangpie.com/xiaz/%3F%3F%3F%3F%3F%3F%3F%3F%3F%3F%3F%3F%3F%3F%3F%3F%3F%3F%3F@271_119879.exe',\n",
       " 'http://19933.url.222bz.com/xiaz/%E9%A3%9E%E4%BF%A12016@373_1755.exe',\n",
       " 'http://19909.xc.gongnou.com/xiaz/%E7%99%BE%E5%BA%A6%E7%BD%91%E7%9B%98@584_2.exe',\n",
       " 'http://19910.xc.gongnou.com/xiaz/Office2010@418_24189.exe',\n",
       " 'http://19906.xc.gongnou.com/xiaz/abbyyfinereader12%E7%A0%B4%E8%A7%A3%E8%A1%A5%E4%B8%8112.0%E7%BB%BF%E8%89%B2%E7%89%88@368_237900.exe',\n",
       " 'http://19930.url.222bz.com',\n",
       " 'http://19799.xc.cangpie.com/xiaz/%3F%3F%3F%3F%A1%A4%3F%3F%3F%3F%3F%3F%3F%3F%3F%3F%3F%3F%3F%3F@345_21524.exe',\n",
       " 'http://19934.xc.gongnou.com/xiaz/%3F2%3F%3F@382_5459.exe',\n",
       " 'http://19906.xc.gongnou.com/down/%E5%A4%A9%E6%AD%A3%E5%BB%BA%E7%AD%912015%E5%85%8D%E8%B4%B9%E7%89%88@133_36805.exe',\n",
       " 'http://19906.xc.gongnou.com/xiaz/%E7%99%BE%E5%BA%A6%E7%BD%91%E7%9B%98@584_2.exe',\n",
       " 'http://20042.url.222bz.com/xiaz/VLCMediaPlayer%E5%AE%98%E6%96%B9%E4%B8%AD%E6%96%87%E7%89%88@373_27541.exe',\n",
       " 'http://19910.xc.gongnou.com/favicon.ico',\n",
       " 'http://19936.xc.gongnou.com/xiaz/%E5%AD%A6%E7%94%9F%E7%9A%84%E5%A6%88%E5%A6%88,%E5%AD%A6%E7%94%9F%E7%9A%84%E5%A6%88%E5%A6%88%E7%94%B5%E5%BD%B1,%E5%AD%A6%E7%94%9F%E7%9A%84%E5%A6%88%E5%A6%88%E5%9C%A8%E7%BA%BF%E8%A7%82%E7%9C%8B,%E5%AD%A6%E7%94%9F%E7%9A%84%E5%A6%88%E5%A6%88%E5%85%8D%E8%B4%B9%E8%A7%82%E7%9C%8B,%E5%AD%A6%E7%94%9F%E7%9A%84%E5%A6%88%E5%A6%88%E9%AB%98%E6%B8%85%E5%AE%8C%E6%95%B4%E7%89%88,%E5%AD%A6%E7%94%9F%E7%9A%84%E5%A6%88%E5%A6%88%E4%B8%8B%E8%BD%BD@688_2.exe',\n",
       " 'http://20053.xc.gongnou.com/xiaz/%E6%9D%80%E6%89%8B%EF%BC%9A%E4%BB%A3%E5%8F%B7472,%E6%9D%80%E6%89%8B%EF%BC%9A%E4%BB%A3%E5%8F%B7472%E7%94%B5%E5%BD%B1,%E6%9D%80%E6%89%8B%EF%BC%9A%E4%BB%A3%E5%8F%B7472%E5%9C%A8%E7%BA%BF%E8%A7%82%E7%9C%8B,%E6%9D%80%E6%89%8B%EF%BC%9A%E4%BB%A3%E5%8F%B7472%E5%85%8D%E8%B4%B9%E8%A7%82%E7%9C%8B,%E6%9D%80%E6%89%8B%EF%BC%9A%E4%BB%A3%E5%8F%B7472%E9%AB%98%E6%B8%85%E5%AE%8C%E6%95%B4%E7%89%88,%E6%9D%80%E6%89%8B%EF%BC%9A%E4%BB%A3%E5%8F%B7472%E4%B8%8B%E8%BD%BD@688_2.exe',\n",
       " 'http://14614.xc.gongnou.com/down/Skype%207.40@626_4781.exe',\n",
       " 'http://19911.xc.gongnou.com',\n",
       " 'http://20030.xc.gongnou.com/xiaz/%E7%BA%A2%E6%B5%B7%E8%A1%8C%E5%8A%A8,%E7%BA%A2%E6%B5%B7%E8%A1%8C%E5%8A%A8%E7%94%B5%E5%BD%B1,%E7%BA%A2%E6%B5%B7%E8%A1%8C%E5%8A%A8%E5%9C%A8%E7%BA%BF%E8%A7%82%E7%9C%8B,%E7%BA%A2%E6%B5%B7%E8%A1%8C%E5%8A%A8%E5%85%8D%E8%B4%B9%E8%A7%82%E7%9C%8B,%E7%BA%A2%E6%B5%B7%E8%A1%8C%E5%8A%A8%E9%AB%98%E6%B8%85%E5%AE%8C%E6%95%B4%E7%89%88,%E7%BA%A2%E6%B5%B7%E8%A1%8C%E5%8A%A8%E4%B8%8B%E8%BD%BD@688_2.exe',\n",
       " 'http://19934.url.222bz.com/xiaz/HP%E6%83%A0%E6%99%AELaserJet1010%E6%BF%80%E5%85%89%E6%89%93%E5%8D%B0%E6%9C%BA%E6%9C%80%E6%96%B0%E9%A9%B1%E5%8A%A85.60.1604.0%E4%B8%AD%E6%96%87%E7%89%88ForWin98SE/ME/2000/XP@719_87552.exe',\n",
       " 'http://20063.xc.gongnou.com/xiaz/%E7%BA%A2%E6%B5%B7%E8%A1%8C%E5%8A%A8,%E7%BA%A2%E6%B5%B7%E8%A1%8C%E5%8A%A8%E7%94%B5%E5%BD%B1,%E7%BA%A2%E6%B5%B7%E8%A1%8C%E5%8A%A8%E5%9C%A8%E7%BA%BF%E8%A7%82%E7%9C%8B,%E7%BA%A2%E6%B5%B7%E8%A1%8C%E5%8A%A8%E5%85%8D%E8%B4%B9%E8%A7%82%E7%9C%8B,%E7%BA%A2%E6%B5%B7%E8%A1%8C%E5%8A%A8%E9%AB%98%E6%B8%85%E5%AE%8C%E6%95%B4%E7%89%88,%E7%BA%A2%E6%B5%B7%E8%A1%8C%E5%8A%A8%E4%B8%8B%E8%BD%BD@688_2.exe',\n",
       " 'http://20038.xc.gongnou.com/xiaz/%E5%9B%BD%E5%AE%B6%E8%A1%8C%E5%8A%A8,%E5%9B%BD%E5%AE%B6%E8%A1%8C%E5%8A%A8%E7%94%B5%E8%A7%86%E5%89%A7,%E5%9B%BD%E5%AE%B6%E8%A1%8C%E5%8A%A8%E5%9C%A8%E7%BA%BF%E8%A7%82%E7%9C%8B,%E5%9B%BD%E5%AE%B6%E8%A1%8C%E5%8A%A8%E5%85%A8%E9%9B%86,%E5%9B%BD%E5%AE%B6%E8%A1%8C%E5%8A%A8%E4%B8%8B%E8%BD%BD@688_2.exe',\n",
       " 'http://19953.xc.gongnou.com/xiaz/%E7%B2%BE%E9%80%9AASP.NET%20MVC%205%20%E5%AE%8C%E6%95%B4%E7%89%88%20(%5B%E7%BE%8E%5DAdam%20Freeman)%20%E4%B8%AD%E6%96%87pdf%E6%89%AB%E6%8F%8F%E7%89%88%5B117MB%5D@156_538338.exe',\n",
       " 'http://19867.xc.gongnou.com/xiaz/Win10%BC%A4%BB%EE%B9%A4%BE%DF@394_2.exe',\n",
       " 'http://19137.url.246546.com/xiaz/%E8%9D%99%E8%9D%A0%E4%BE%A0%E5%A4%A7%E6%88%98%E6%80%A5%E5%86%BB%E4%BA%BA,%E8%9D%99%E8%9D%A0%E4%BE%A0%E5%A4%A7%E6%88%98%E6%80%A5%E5%86%BB%E4%BA%BA%E7%94%B5%E5%BD%B1,%E8%9D%99%E8%9D%A0%E4%BE%A0%E5%A4%A7%E6%88%98%E6%80%A5%E5%86%BB%E4%BA%BA%E5%9C%A8%E7%BA%BF%E8%A7%82%E7%9C%8B,%E8%9D%99%E8%9D%A0%E4%BE%A0%E5%A4%A7%E6%88%98%E6%80%A5%E5%86%BB%E4%BA%BA%E5%85%8D%E8%B4%B9%E8%A7%82%E7%9C%8B,%E8%9D%99%E8%9D%A0%E4%BE%A0%E5%A4%A7%E6%88%98%E6%80%A5%E5%86%BB%E4%BA%BA%E9%AB%98%E6%B8%85%E5%AE%',\n",
       " 'http://19790.xc.gongnou.com/down/%E8%85%BE%E8%AE%AF%E5%AE%89%E5%8D%93%E6%A8%A1%E6%8B%9F%E5%99%A8@133_58027.exe',\n",
       " 'http://14614.xc.gongnou.com/down/%E5%BF%AB%E5%90%A7%E6%88%91%E7%9A%84%E4%B8%96%E7%95%8C%E7%9B%92%E5%AD%90%203.1.1.871@626_4391.exe',\n",
       " 'http://19909.xc.gongnou.com/xiaz/%E8%89%AF%E6%B3%95%E7%94%B5%E8%84%91%E7%89%88%E4%B8%8B%E8%BD%BD@305_333245.exe',\n",
       " 'http://19955.xc.gongnou.com/xiaz/%E5%AD%A6%E8%AD%A6%E5%87%BA%E6%9B%B4,%E5%AD%A6%E8%AD%A6%E5%87%BA%E6%9B%B4%E6%B8%AF%E5%89%A7,%E5%AD%A6%E8%AD%A6%E5%87%BA%E6%9B%B4%E5%9C%A8%E7%BA%BF%E8%A7%82%E7%9C%8B,%E5%AD%A6%E8%AD%A6%E5%87%BA%E6%9B%B4%E5%85%A8%E9%9B%86,%E5%AD%A6%E8%AD%A6%E5%87%BA%E6%9B%B4%E4%B8%8B%E8%BD%BD@688_2.exe',\n",
       " 'http://19246.xc.gongnou.com/down/%E4%B8%89%E5%9B%BD%E7%BE%A4%E8%8B%B1%E4%BC%A03%E4%B8%8B%E8%BD%BD@591_2.exe',\n",
       " 'http://14614.xc.gongnou.com/down/Audacity%E9%9F%B3%E9%A2%91%E7%BC%96%E8%BE%91%202.2@626_3869.exe',\n",
       " 'http://19911.xc.gongnou.com/favicon.ico',\n",
       " 'http://19189.url.222bz.com/xiaz/AtherosAR3011Bluetooth%E8%93%9D%E7%89%99%E9%A9%B1%E5%8A%A87.1.0.18%E7%89%88%E9%80%82%E7%94%A8%E4%BA%8EWindows7@719_221283.exe',\n",
       " 'http://14614.xc.gongnou.com/down/QQ%E6%8B%BC%E9%9F%B3%E8%BE%93%E5%85%A5%E6%B3%95%205.6@626_4682.exe',\n",
       " 'http://19799.xc.cangpie.com/xiaz/%3F%A1%A4%3F%3F@345_21524.exe',\n",
       " 'http://20037.xc.gongnou.com/xiaz/%E5%94%90%E4%BA%BA%E8%A1%97%E6%8E%A2%E6%A1%882,%E5%94%90%E4%BA%BA%E8%A1%97%E6%8E%A2%E6%A1%882%E7%94%B5%E5%BD%B1,%E5%94%90%E4%BA%BA%E8%A1%97%E6%8E%A2%E6%A1%882%E5%9C%A8%E7%BA%BF%E8%A7%82%E7%9C%8B,%E5%94%90%E4%BA%BA%E8%A1%97%E6%8E%A2%E6%A1%882%E5%85%8D%E8%B4%B9%E8%A7%82%E7%9C%8B,%E5%94%90%E4%BA%BA%E8%A1%97%E6%8E%A2%E6%A1%882%E9%AB%98%E6%B8%85%E5%AE%8C%E6%95%B4%E7%89%88,%E5%94%90%E4%BA%BA%E8%A1%97%E6%8E%A2%E6%A1%882%E4%B8%8B%E8%BD%BD@688_2.exe',\n",
       " 'http://19743.url.246546.com/xiaz/17zkkj_zzfxt_013,17%E5%B9%B4%E6%B3%A8%E5%86%8C%E4%BC%9A%E8%AE%A1%E7%99%BE%E5%BA%A6%E4%BA%91%E4%B8%8B%E8%BD%BD%E8%B5%84%E6%BA%90-%E7%BD%91%E7%9B%98007@554_2.exe',\n",
       " 'http://19930.xc.gongnou.com/xiaz/%E6%B4%9B%E5%85%8B%E7%8E%8B%E5%9B%BD%E8%BE%85%E5%8A%A9%7C%E6%B4%9B%E5%85%8B%E7%8E%8B%E5%9B%BD%E9%AD%94%E9%AC%BC%E6%8C%82%E6%9C%BA%E5%8A%A9%E6%89%8Bv1.0.6.0%E4%B8%8B%E8%BD%BD@244_10916.exe',\n",
       " 'http://14614.xc.gongnou.com/down/PotPlayer@626_3873.exe',\n",
       " 'http://19912.xc.gongnou.com',\n",
       " 'http://19856.xc.gongnou.com/xiaz/%E5%A4%B4%E5%8F%B7%E7%8E%A9%E5%AE%B6@407_2.exe',\n",
       " 'http://18617.url.222bz.com/xiaz/%E6%AC%B2%E6%9C%9B%E4%B9%8B%E8%A1%804%E5%AE%8C%E6%95%B4%E7%89%88@486_208976.exe',\n",
       " 'http://19696.url.222bz.com/xiaz/%E4%B8%87%E8%83%BD%E6%97%A0%E7%BA%BF%E7%BD%91%E5%8D%A1%E9%A9%B1%E5%8A%A8%E4%B8%87%E8%83%BDWiFi%E9%A9%B1%E5%8A%A8forwin732bitv2017.11.15.955@719_224395.exe',\n",
       " 'http://19725.xc.gongnou.com/xiaz/WOLINJU3@684_2.exe',\n",
       " 'http://19936.url.222bz.com/xiaz/%E4%B8%87%E8%83%BD%E8%93%9D%E7%89%99%E9%A9%B1%E5%8A%A8forwin1032bitv2018.01.24.1733@719_271477.exe',\n",
       " 'http://19958.url.222bz.com/xiaz/HP%E6%83%A0%E6%99%AELaserJetM1005MFP%E5%A4%9A%E5%8A%9F%E8%83%BD%E4%B8%80%E4%BD%93%E6%9C%BA%E9%A9%B1%E5%8A%A820060913%E7%89%88ForWin2000/XP@719_107478.exe',\n",
       " 'http://19932.url.222bz.com/xiaz/IntelUSB3.0%E9%A9%B1%E5%8A%A8eXtensible%EF%BC%88%E8%8B%B1%E7%89%B9%E5%B0%94%EF%BC%89forWin7/832/64%E4%BD%8D@373_132445.exe',\n",
       " 'http://14614.xc.gongnou.com/down/iTools%E8%8B%B9%E6%9E%9C%E7%AE%A1%E7%90%86%E5%B7%A5%E5%85%B7@626_3854.exe',\n",
       " 'http://19931.url.222bz.com/xiaz/%E4%BD%B3%E8%83%BDColorNetworkScanGear%E6%89%AB%E6%8F%8F%E4%BB%AA%E9%A9%B1%E5%8A%A8@373_141200.exe',\n",
       " 'http://19904.xc.gongnou.com/xiaz/%E7%BA%A2%E6%B5%B7%E8%A1%8C%E5%8A%A8%E7%94%B5%E5%BD%B1%E5%85%A8%E9%9B%86%E7%99%BE%E5%BA%A6%E4%BA%91%E7%BD%91%E7%9B%98@407_2.exe',\n",
       " 'http://20061.xc.gongnou.com/xiaz/%E7%BA%A2%E6%B5%B7%E8%A1%8C%E5%8A%A8,%E7%BA%A2%E6%B5%B7%E8%A1%8C%E5%8A%A8%E7%94%B5%E5%BD%B1,%E7%BA%A2%E6%B5%B7%E8%A1%8C%E5%8A%A8%E5%9C%A8%E7%BA%BF%E8%A7%82%E7%9C%8B,%E7%BA%A2%E6%B5%B7%E8%A1%8C%E5%8A%A8%E5%85%8D%E8%B4%B9%E8%A7%82%E7%9C%8B,%E7%BA%A2%E6%B5%B7%E8%A1%8C%E5%8A%A8%E9%AB%98%E6%B8%85%E5%AE%8C%E6%95%B4%E7%89%88,%E7%BA%A2%E6%B5%B7%E8%A1%8C%E5%8A%A8%E4%B8%8B%E8%BD%BD@688_2.exe',\n",
       " 'http://19810.xc.gongnou.com/xiaz/%A1%B6%CF%C0%B5%C1%B7%C9%B3%B5%D7%EF%B6%F1%B6%BC%CA%D0%A1%B7%D6%D0%CE%C4%CD%EA%C8%AB%B0%E6%D3%CE%CF%B7%CF%C2%D4%D8@322_706.exe',\n",
       " 'http://20056.xc.gongnou.com/xiaz/%E7%BA%A2%E6%B5%B7%E8%A1%8C%E5%8A%A8,%E7%BA%A2%E6%B5%B7%E8%A1%8C%E5%8A%A8%E7%94%B5%E5%BD%B1,%E7%BA%A2%E6%B5%B7%E8%A1%8C%E5%8A%A8%E5%9C%A8%E7%BA%BF%E8%A7%82%E7%9C%8B,%E7%BA%A2%E6%B5%B7%E8%A1%8C%E5%8A%A8%E5%85%8D%E8%B4%B9%E8%A7%82%E7%9C%8B,%E7%BA%A2%E6%B5%B7%E8%A1%8C%E5%8A%A8%E9%AB%98%E6%B8%85%E5%AE%8C%E6%95%B4%E7%89%88,%E7%BA%A2%E6%B5%B7%E8%A1%8C%E5%8A%A8%E4%B8%8B%E8%BD%BD@688_2.exe',\n",
       " 'http://19933.url.222bz.com/xiaz/%E4%B8%87%E8%83%BD%E6%91%84%E5%83%8F%E5%A4%B4%E9%A9%B1%E5%8A%A8forwin732bitv2018.01.24.1733@719_271483.exe',\n",
       " 'http://19952.url.222bz.com/xiaz/WinRARx64%E8%8B%B1%E6%96%87%E6%AD%A3%E5%BC%8F%E7%89%88@373_174818.exe',\n",
       " 'http://19841.xc.cangpie.com/xiaz/%B5%E7%D3%B0%B6%B0%F3%C6%CC%D8%B9%A4%D4%C1%D3%EF%CD%EA%D5%FB%B0%E6bt%D6%D6%D7%D3%D1%B8%C0%D7%CF%C2%D4%D8%7C%B6%B0%F3%C6%CC%D8%B9%A4%D4%C1%D3%EF%C3%E2%B7%D1%B9%DB%BF%B4720p%D6%D0%D7%D6%C3%E2%B7%D1HD%B4%C5%C1%A6%C1%B4%BD%D3%CF%C2%D4%D8@518_2.exe',\n",
       " 'http://14614.xc.gongnou.com/down/Foxmail@626_4193.exe',\n",
       " 'http://19940.url.222bz.com/xiaz/%E4%B8%87%E5%BD%A9%E5%BD%95%E5%B1%8F%E5%A4%A7%E5%B8%88@373_200250.exe',\n",
       " 'http://19930.url.222bz.com/xiaz/Araxis@212_220359.exe',\n",
       " 'http://19953.url.222bz.com/xiaz/atl100.dll@373_191147.exe',\n",
       " 'http://19867.xc.gongnou.com/xiaz/Win10%E6%BF%80%E6%B4%BB%E5%B7%A5%E5%85%B7@394_2.exe',\n",
       " 'http://19963.url.246546.com/xiaz/EnsembleMethods,FoundationsandAlgorithms(.pdf_%E5%BE%AE%E7%9B%98-%E7%BD%91%E7%9B%98007@554_2.exe',\n",
       " 'http://19937.url.222bz.com/xiaz/KMS10v1.0@212_81814.exe',\n",
       " 'http://20036.url.222bz.com/xiaz/%E4%B8%87%E8%83%BD%E6%97%A0%E7%BA%BF%E7%BD%91%E5%8D%A1%E9%A9%B1%E5%8A%A8%E4%B8%87%E8%83%BDWiFi%E9%A9%B1%E5%8A%A8forwin764bitv2017.11.15.955@719_224396.exe',\n",
       " 'http://19954.xc.gongnou.com/xiaz/%E7%BA%A2%E6%B5%B7%E8%A1%8C%E5%8A%A8,%E7%BA%A2%E6%B5%B7%E8%A1%8C%E5%8A%A8%E7%94%B5%E5%BD%B1,%E7%BA%A2%E6%B5%B7%E8%A1%8C%E5%8A%A8%E5%9C%A8%E7%BA%BF%E8%A7%82%E7%9C%8B,%E7%BA%A2%E6%B5%B7%E8%A1%8C%E5%8A%A8%E5%85%8D%E8%B4%B9%E8%A7%82%E7%9C%8B,%E7%BA%A2%E6%B5%B7%E8%A1%8C%E5%8A%A8%E9%AB%98%E6%B8%85%E5%AE%8C%E6%95%B4%E7%89%88,%E7%BA%A2%E6%B5%B7%E8%A1%8C%E5%8A%A8%E4%B8%8B%E8%BD%BD@688_2.exe',\n",
       " 'http://19912.xc.gongnou.com/xiaz/%E7%BA%A2%E6%B5%B7%E8%A1%8C%E5%8A%A8,%E7%BA%A2%E6%B5%B7%E8%A1%8C%E5%8A%A8%E7%94%B5%E5%BD%B1,%E7%BA%A2%E6%B5%B7%E8%A1%8C%E5%8A%A8%E5%9C%A8%E7%BA%BF%E8%A7%82%E7%9C%8B,%E7%BA%A2%E6%B5%B7%E8%A1%8C%E5%8A%A8%E5%85%8D%E8%B4%B9%E8%A7%82%E7%9C%8B,%E7%BA%A2%E6%B5%B7%E8%A1%8C%E5%8A%A8%E9%AB%98%E6%B8%85%E5%AE%8C%E6%95%B4%E7%89%88,%E7%BA%A2%E6%B5%B7%E8%A1%8C%E5%8A%A8%E4%B8%8B%E8%BD%BD@688_2.exe',\n",
       " 'http://19912.xc.gongnou.com/xiaz/%E7%BA%A2%E6%B5%B7%E8%A1%8C%E5%8A%A8%E7%94%B5%E5%BD%B1%E5%85%A8%E9%9B%86%E7%99%BE%E5%BA%A6%E4%BA%91%E7%BD%91%E7%9B%98@407_2.exe',\n",
       " 'http://19911.xc.gongnou.com/xiaz/%E7%BA%A2%E6%B5%B7%E8%A1%8C%E5%8A%A8%E9%AB%98%E6%B8%85%E5%9C%A8%E7%BA%BF%E8%A7%82%E7%9C%8B-%E7%94%B5%E5%BD%B1%E7%BA%A2%E6%B5%B7%E8%A1%8C%E5%8A%A8%E4%B8%8B%E8%BD%BD-6080%E6%96%B0%E8%A7%86%E8%A7%89%E5%BD%B1%E9%99%A2@1267_2.exe',\n",
       " 'http://15256.url.222bz.com/xiaz/goldwave@151_3850.exe',\n",
       " 'http://19937.url.222bz.com/xiaz/RealtekHDAudio%E5%A3%B0%E5%8D%A1%E9%A9%B1%E5%8A%A8forWin7/8/10@373_174657.exe',\n",
       " 'http://19952.url.246546.com/xiaz/%E8%83%8C%E9%9D%A0%E8%83%8C%EF%BC%8C%E8%84%B8%E5%AF%B9%E8%84%B8.Bei.kao.bei,lian.dui.lian.1994.DVDRip.Xvid.AC3.CD1%E4%B8%AD%E8%8B%B1%E5%8F%8C%E5%AD%97.mkv%E8%83%8C%E9%9D%A0%E8%83%8C%E8%84%B8%E5%AF%B9%E8%84%B8_%E7%99%BE%E5%BA%A6%E7%BD%91%E7%9B%98-%E7%BD%91%E7%9B%98007@554_2.exe',\n",
       " 'http://14614.xc.gongnou.com/down/%E6%9E%81%E7%82%B9%E4%BA%94%E7%AC%94%207.15%E5%8D%81%E5%91%A8%E5%B9%B4%E7%BA%AA%E5%BF%B5%E7%89%88@626_5270.exe',\n",
       " 'http://19904.xc.gongnou.com',\n",
       " 'http://19934.xc.gongnou.com/xiaz/%3F%3F%3F%3F%3F%3F%3F2%3F%3F%3F%3F%3F%3F%3F%3F%3F%3F@382_5459.exe',\n",
       " 'http://19907.xc.gongnou.com/xiaz/%E7%83%A7%E7%A2%B1%E5%8D%95%E4%BD%8D%E4%BA%A7%E5%93%81%E8%83%BD%E6%BA%90%E6%B6%88%E8%80%97%E9%99%90%E9%A2%9D(GB21257-2014)@481_2.exe',\n",
       " 'http://19932.xc.gongnou.com/xiaz/%E7%BA%A2%E6%B5%B7%E8%A1%8C%E5%8A%A8,%E7%BA%A2%E6%B5%B7%E8%A1%8C%E5%8A%A8%E7%94%B5%E5%BD%B1,%E7%BA%A2%E6%B5%B7%E8%A1%8C%E5%8A%A8%E5%9C%A8%E7%BA%BF%E8%A7%82%E7%9C%8B,%E7%BA%A2%E6%B5%B7%E8%A1%8C%E5%8A%A8%E5%85%8D%E8%B4%B9%E8%A7%82%E7%9C%8B,%E7%BA%A2%E6%B5%B7%E8%A1%8C%E5%8A%A8%E9%AB%98%E6%B8%85%E5%AE%8C%E6%95%B4%E7%89%88,%E7%BA%A2%E6%B5%B7%E8%A1%8C%E5%8A%A8%E4%B8%8B%E8%BD%BD@688_2.exe',\n",
       " 'http://14614.xc.gongnou.com/down/%E7%99%BE%E5%BA%A6%E7%BD%91%E7%9B%98@793_3947.exe',\n",
       " 'http://19957.xc.gongnou.com/xiaz/%E9%80%A0%E9%9B%A8%E4%BA%BA,%E9%80%A0%E9%9B%A8%E4%BA%BA%E7%94%B5%E5%BD%B1,%E9%80%A0%E9%9B%A8%E4%BA%BA%E5%9C%A8%E7%BA%BF%E8%A7%82%E7%9C%8B,%E9%80%A0%E9%9B%A8%E4%BA%BA%E5%85%8D%E8%B4%B9%E8%A7%82%E7%9C%8B,%E9%80%A0%E9%9B%A8%E4%BA%BA%E9%AB%98%E6%B8%85%E5%AE%8C%E6%95%B4%E7%89%88,%E9%80%A0%E9%9B%A8%E4%BA%BA%E4%B8%8B%E8%BD%BD@688_2.exe',\n",
       " 'http://19914.xc.gongnou.com',\n",
       " 'http://19907.xc.gongnou.com/xiaz/MG@684_2.exe',\n",
       " 'http://19941.url.222bz.com/xiaz/Realtek%A3%A8%C8%F0%EA%C5%A3%A9HDAudio%C9%F9%BF%A8%C7%FD%B6%AFR1.82@719_216137.exe',\n",
       " 'http://19820.xc.gongnou.com/xiaz/%E4%BA%8C%E4%BB%A3%E5%A6%96%E7%B2%BE%E4%B9%8B%E4%BB%8A%E7%94%9F%E6%9C%89%E5%B9%B8,%E4%BA%8C%E4%BB%A3%E5%A6%96%E7%B2%BE%E4%B9%8B%E4%BB%8A%E7%94%9F%E6%9C%89%E5%B9%B8%E7%94%B5%E5%BD%B1,%E4%BA%8C%E4%BB%A3%E5%A6%96%E7%B2%BE%E4%B9%8B%E4%BB%8A%E7%94%9F%E6%9C%89%E5%B9%B8%E5%9C%A8%E7%BA%BF%E8%A7%82%E7%9C%8B,%E4%BA%8C%E4%BB%A3%E5%A6%96%E7%B2%BE%E4%B9%8B%E4%BB%8A%E7%94%9F%E6%9C%89%E5%B9%B8%E5%85%8D%E8%B4%B9%E8%A7%82%E7%9C%8B,%E4%BA%8C%E4%BB%A3%E5%A6%96%E7%B2%BE%E4%B9%8B%E4%BB%8A%E7%94%',\n",
       " 'http://19912.xc.gongnou.com/xiaz/office2007%E5%AE%98%E6%96%B9%E4%B8%8B%E8%BD%BD%E5%85%8D%E8%B4%B9%E5%AE%8C%E6%95%B4%E7%89%88@712_2.exe',\n",
       " 'http://19942.xc.gongnou.com/xiaz/%E7%BA%A2%E6%B5%B7%E8%A1%8C%E5%8A%A8,%E7%BA%A2%E6%B5%B7%E8%A1%8C%E5%8A%A8%E7%94%B5%E5%BD%B1,%E7%BA%A2%E6%B5%B7%E8%A1%8C%E5%8A%A8%E5%9C%A8%E7%BA%BF%E8%A7%82%E7%9C%8B,%E7%BA%A2%E6%B5%B7%E8%A1%8C%E5%8A%A8%E5%85%8D%E8%B4%B9%E8%A7%82%E7%9C%8B,%E7%BA%A2%E6%B5%B7%E8%A1%8C%E5%8A%A8%E9%AB%98%E6%B8%85%E5%AE%8C%E6%95%B4%E7%89%88,%E7%BA%A2%E6%B5%B7%E8%A1%8C%E5%8A%A8%E4%B8%8B%E8%BD%BD@688_2.exe',\n",
       " 'http://20033.xc.gongnou.com/xiaz/%E7%94%B5%E9%94%AF%E5%A5%B3%E4%BB%862,%E7%94%B5%E9%94%AF%E5%A5%B3%E4%BB%862%E7%94%B5%E5%BD%B1,%E7%94%B5%E9%94%AF%E5%A5%B3%E4%BB%862%E5%9C%A8%E7%BA%BF%E8%A7%82%E7%9C%8B,%E7%94%B5%E9%94%AF%E5%A5%B3%E4%BB%862%E5%85%8D%E8%B4%B9%E8%A7%82%E7%9C%8B,%E7%94%B5%E9%94%AF%E5%A5%B3%E4%BB%862%E9%AB%98%E6%B8%85%E5%AE%8C%E6%95%B4%E7%89%88,%E7%94%B5%E9%94%AF%E5%A5%B3%E4%BB%862%E4%B8%8B%E8%BD%BD@688_2.exe',\n",
       " 'http://19906.xc.gongnou.com/xiaz/%E9%99%84%E4%BB%B6%E4%B8%8B%E8%BD%BD........-%E8%A5%BF%E8%A5%BF%E8%AE%BA%E5%9D%9B@1243_2.exe',\n",
       " 'http://19956.xc.gongnou.com/xiaz/%E7%BA%A2%E6%B5%B7%E8%A1%8C%E5%8A%A8,%E7%BA%A2%E6%B5%B7%E8%A1%8C%E5%8A%A8%E7%94%B5%E5%BD%B1,%E7%BA%A2%E6%B5%B7%E8%A1%8C%E5%8A%A8%E5%9C%A8%E7%BA%BF%E8%A7%82%E7%9C%8B,%E7%BA%A2%E6%B5%B7%E8%A1%8C%E5%8A%A8%E5%85%8D%E8%B4%B9%E8%A7%82%E7%9C%8B,%E7%BA%A2%E6%B5%B7%E8%A1%8C%E5%8A%A8%E9%AB%98%E6%B8%85%E5%AE%8C%E6%95%B4%E7%89%88,%E7%BA%A2%E6%B5%B7%E8%A1%8C%E5%8A%A8%E4%B8%8B%E8%BD%BD@688_2.exe',\n",
       " 'http://19911.xc.gongnou.com/xiaz/%E5%AE%98%E9%80%94%E6%9C%89%E5%A3%B0%E5%B0%8F%E8%AF%B4_%E6%92%AD%E8%AE%B2:%E7%9F%B3%E5%A4%B4-56%E5%90%AC%E4%B9%A6%E7%BD%91@669_2.exe']"
      ]
     },
     "execution_count": 17,
     "metadata": {},
     "output_type": "execute_result"
    }
   ],
   "source": [
    "predict_malicious"
   ]
  },
  {
   "cell_type": "code",
   "execution_count": 11,
   "metadata": {},
   "outputs": [
    {
     "data": {
      "text/plain": [
       "0.7682656826568266"
      ]
     },
     "execution_count": 11,
     "metadata": {},
     "output_type": "execute_result"
    }
   ],
   "source": [
    "1041/1355."
   ]
  },
  {
   "cell_type": "code",
   "execution_count": 15,
   "metadata": {},
   "outputs": [
    {
     "name": "stdout",
     "output_type": "stream",
     "text": [
      "^19\\d{3}\\.xc\\.(:?gongnou|cangpie)\\.com$\n",
      "^\\d{5}\\.xc\\.(:?gongnou|cangpie)\\.com$\n",
      "^19\\d{3}\\.url\\.246546\\.com$\n",
      "^\\d{5}\\.url\\.222bz\\.com$\n"
     ]
    }
   ],
   "source": [
    "for i in predict_dict.keys():\n",
    "    print i"
   ]
  },
  {
   "cell_type": "code",
   "execution_count": 45,
   "metadata": {
    "scrolled": true
   },
   "outputs": [
    {
     "name": "stderr",
     "output_type": "stream",
     "text": [
      "2018-04-20 11:00:29 file_io.py [line:191] DEBUG\tRegex Data has been loaded\t../../data/EXP_sangfor_malware6/regex_publish.txt\n",
      "2018-04-20 11:00:29 file_io.py [line:231] DEBUG\tTest Data has been loaded\t../../data/sangfor/malware_all_0402.csv\n"
     ]
    },
    {
     "name": "stdout",
     "output_type": "stream",
     "text": [
      "batch index 0\tsample index 0\thit domain 28\t^\\w{2,4}\\.renheqk\\.com$\n",
      "batch index 0\tsample index 1\thit domain 55\t^\\w{3,5}\\.2018zdfal1\\.pw$\n",
      "batch index 0\tsample index 2\thit domain 954\t^down0506\\d{4}\\.(:?xiazaidown|xdown4)\\.com$\n",
      "batch index 1\tsample index 0\thit domain 166\t^down\\d{5,8}\\.xzn56\\.com$\n",
      "batch index 1\tsample index 1\thit domain 260\t^\\d{4,5}\\.url\\.9xiazaiqi\\.com$\n",
      "batch index 1\tsample index 2\thit domain 11\t^\\d{4}\\.new\\.favo\\.uuddu\\.com$\n",
      "batch index 2\tsample index 0\thit domain 118\t^19\\d{1,3}\\.xc\\.(:?gongnou|cangpie)\\.com$\n",
      "batch index 2\tsample index 1\thit domain 34\t^\\w{1,5}\\.2018zdfb2\\.pw$\n",
      "batch index 2\tsample index 2\thit domain 28\t^[A-Za-z]{5,12}\\.zgjjmsw\\.com$\n",
      "batch index 3\tsample index 0\thit domain 28\t^\\w{2,5}\\.oumaxite6\\.com$\n",
      "batch index 3\tsample index 1\thit domain 297\t^\\d{5,8}\\.url\\.246546\\.com$\n",
      "batch index 3\tsample index 2\thit domain 210\t^down1\\d{4}\\.(:?xzn56|xzm56)\\.com$\n",
      "batch index 4\tsample index 0\thit domain 113\t^down1\\d{4}\\.(:?xzm56|tkg5)\\.com$\n",
      "batch index 4\tsample index 1\thit domain 204\t^jsapi\\d{0,5}\\.xiald\\.com$\n",
      "batch index 4\tsample index 2\thit domain 121\t^\\d{4,5}\\.xc\\.(:?gongnou|cangpie)\\.com$\n",
      "batch index 5\tsample index 0\thit domain 28\t^\\w{4,6}\\.downyouxi\\.com$\n",
      "batch index 5\tsample index 1\thit domain 13\t^\\w{2,6}\\.chinayizhe\\.cn$\n",
      "batch index 5\tsample index 2\thit domain 1897\t^down050\\d{5}\\.xdown4\\.com$\n",
      "batch index 6\tsample index 0\thit domain 97\t^\\d{5}\\.url\\.222bz\\.com$\n",
      "batch index 6\tsample index 1\thit domain 17\t^\\w{3,8}\\.52zsoft\\.com$\n",
      "batch index 6\tsample index 2\thit domain 10\t^\\w{2,3}\\.zyytcz\\.com$\n",
      "batch index 7\tsample index 0\thit domain 23\t^down1\\d{4,6}\\.yzzzn\\.com$\n",
      "batch index 7\tsample index 1\thit domain 53\t^\\d{4}\\.replace\\.favo\\.uuddu\\.com$\n",
      "batch index 7\tsample index 2\thit domain 53\t^\\d{5}\\.url\\.7wkw\\.com$\n",
      "batch index 7\tsample index 3\thit domain 261\t^down\\d{5,8}\\.(:?xzn56|xzm56)\\.com$\n",
      "batch index 7\tsample index 4\thit domain 26\t^\\w{6,9}\\.dwonxiazai\\.com$\n",
      "batch index 7\tsample index 5\thit domain 114\t^down19\\d{3}\\.(:?xzn56|wtn5)\\.com$\n",
      "batch index 7\tsample index 6\thit domain 4\t^(:?www-34422|www-31222|www-24222|www-905222)\\.com$\n",
      "batch index 7\tsample index 7\thit domain 10\t^\\w{1,2}\\.syasn\\.com$\n",
      "batch index 7\tsample index 8\thit domain 31\t^[A-Za-z]{8}\\.yingbinshifu\\.xyz$\n",
      "batch index 7\tsample index 9\thit domain 213\t^down[^\\.]{5,6}\\.(:?xzn56|xzm56)\\.com$\n"
     ]
    }
   ],
   "source": [
    "predict_malicious, predict_dict_detail, predict_dict = regex_domain.malicious_domain_predict(\n",
    "                      input_file_path = \"../../data/sangfor/malware_all_0402.csv\",\n",
    "                      regex_file_path = \"../../data/EXP_sangfor_malware6/regex_publish.txt\")"
   ]
  },
  {
   "cell_type": "code",
   "execution_count": 49,
   "metadata": {},
   "outputs": [
    {
     "data": {
      "text/plain": [
       "7554"
      ]
     },
     "execution_count": 49,
     "metadata": {},
     "output_type": "execute_result"
    }
   ],
   "source": [
    "len(set(predict_malicious))"
   ]
  },
  {
   "cell_type": "code",
   "execution_count": 35,
   "metadata": {},
   "outputs": [
    {
     "name": "stdout",
     "output_type": "stream",
     "text": [
      "^\\w{2,3}\\.zyytcz\\.com$ 6\n",
      "^(:?www-34422|www-31222|www-24222|www-905222)\\.com$ 1\n",
      "^jsapi\\d{0,5}\\.xiald\\.com$ 56\n",
      "^\\d{4,5}\\.xc\\.(:?gongnou|cangpie)\\.com$ 62\n",
      "^\\w{4,6}\\.downyouxi\\.com$ 4\n",
      "^19\\d{1,3}\\.xc\\.(:?gongnou|cangpie)\\.com$ 45\n",
      "^\\d{5,8}\\.url\\.246546\\.com$ 7\n",
      "^\\d{5}\\.url\\.222bz\\.com$ 25\n"
     ]
    }
   ],
   "source": [
    "for i in predict_dict.keys():\n",
    "    print i, len(predict_dict[i])"
   ]
  }
 ],
 "metadata": {
  "kernelspec": {
   "display_name": "Python 2",
   "language": "python",
   "name": "python2"
  },
  "language_info": {
   "codemirror_mode": {
    "name": "ipython",
    "version": 2
   },
   "file_extension": ".py",
   "mimetype": "text/x-python",
   "name": "python",
   "nbconvert_exporter": "python",
   "pygments_lexer": "ipython2",
   "version": "2.7.14"
  }
 },
 "nbformat": 4,
 "nbformat_minor": 2
}
