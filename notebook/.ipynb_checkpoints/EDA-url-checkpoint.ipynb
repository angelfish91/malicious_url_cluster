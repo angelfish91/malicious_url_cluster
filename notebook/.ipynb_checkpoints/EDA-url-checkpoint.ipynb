{
 "cells": [
  {
   "cell_type": "code",
   "execution_count": 1,
   "metadata": {},
   "outputs": [],
   "source": [
    "import os\n",
    "import sys\n",
    "import logging\n",
    "import numpy as np\n",
    "import pandas as pd\n",
    "import urlparse\n",
    "\n",
    "\n",
    "os.sys.path.append(\"/home/machangchun/sparrow/malicious_url_cluster\")"
   ]
  },
  {
   "cell_type": "code",
   "execution_count": 2,
   "metadata": {},
   "outputs": [
    {
     "name": "stdout",
     "output_type": "stream",
     "text": [
      "Malware URL Count:\t2786\n"
     ]
    }
   ],
   "source": [
    "df = pd.read_csv(\"/home/machangchun/sparrow/data/sangfor/malware.csv\")\n",
    "urls = list(df.url)\n",
    "print \"Malware URL Count:\\t\", len(urls)"
   ]
  },
  {
   "cell_type": "code",
   "execution_count": 8,
   "metadata": {},
   "outputs": [],
   "source": [
    "from urlnormalize import UrlNormalize\n",
    "\n",
    "def cleaner_for_domain_path(urls):\n",
    "    clean_url = []\n",
    "    for i in urls:\n",
    "        worker = UrlNormalize(i)\n",
    "        clean_url.append(worker.get_domain_path_url())\n",
    "    return clean_url\n",
    "\n",
    "\n",
    "def cleaner_for_domain(urls):\n",
    "    clean_url = []\n",
    "    for i in urls:\n",
    "        worker = UrlNormalize(i)\n",
    "        clean_url.append(worker.get_hostname())\n",
    "    return clean_url\n",
    "\n",
    "def cleaner_for_path(urls):\n",
    "    clean_url = []\n",
    "    for i in urls:\n",
    "        worker = UrlNormalize(i)\n",
    "        clean_url.append(worker.get_path())\n",
    "    return clean_url\n",
    "\n",
    "def get_each_level_domain(urls, level = 1):\n",
    "    tld = []\n",
    "    for i in urls:\n",
    "        try:\n",
    "            tld.append(i.split('.')[-level])\n",
    "        except:\n",
    "            pass\n",
    "    return list(set(tld))\n",
    "\n",
    "def get_each_level_path(urls, level = 1):\n",
    "    tlp = []\n",
    "    for i in urls:\n",
    "        try:\n",
    "            tlp.append(i.split('/')[level-1])\n",
    "        except:\n",
    "            pass\n",
    "    return list(set(tlp))"
   ]
  },
  {
   "cell_type": "code",
   "execution_count": 4,
   "metadata": {},
   "outputs": [
    {
     "name": "stdout",
     "output_type": "stream",
     "text": [
      "2786\n",
      "1063\n"
     ]
    }
   ],
   "source": [
    "domain_url = cleaner_for_domain(urls)\n",
    "print len(domain_url)\n",
    "domain_url = list(set(domain_url))\n",
    "print len(domain_url)"
   ]
  },
  {
   "cell_type": "code",
   "execution_count": 13,
   "metadata": {},
   "outputs": [
    {
     "name": "stdout",
     "output_type": "stream",
     "text": [
      "12\n",
      "121\n",
      "674\n",
      "178\n"
     ]
    }
   ],
   "source": [
    "tld = get_each_level_domain(domain_url, 1)\n",
    "sld = get_each_level_domain(domain_url, 2)\n",
    "thld = get_each_level_domain(domain_url, 3)\n",
    "fold = get_each_level_domain(domain_url, 4)\n",
    "\n",
    "print len(tld)\n",
    "print len(sld)\n",
    "print len(thld)\n",
    "print len(fold)"
   ]
  }
 ],
 "metadata": {
  "kernelspec": {
   "display_name": "Python 2",
   "language": "python",
   "name": "python2"
  },
  "language_info": {
   "codemirror_mode": {
    "name": "ipython",
    "version": 2
   },
   "file_extension": ".py",
   "mimetype": "text/x-python",
   "name": "python",
   "nbconvert_exporter": "python",
   "pygments_lexer": "ipython2",
   "version": "2.7.12"
  }
 },
 "nbformat": 4,
 "nbformat_minor": 2
}
