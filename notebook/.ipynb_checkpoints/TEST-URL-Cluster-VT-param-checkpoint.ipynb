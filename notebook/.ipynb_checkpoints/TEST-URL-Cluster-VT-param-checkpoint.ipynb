{
 "cells": [
  {
   "cell_type": "code",
   "execution_count": 1,
   "metadata": {},
   "outputs": [],
   "source": [
    "import os\n",
    "import sys\n",
    "import logging\n",
    "import numpy as np\n",
    "import pandas as pd\n",
    "import urlparse\n",
    "\n",
    "\n",
    "os.sys.path.append(\"/home/sparrow/sparrow/malicious_url_cluster\")\n",
    "from logger import logger \n",
    "from config import cfg\n",
    "\n",
    "cfg.EDIT_DISTANCE_THRESH_LONG = 0.3\n",
    "cfg.EDIT_DISTANCE_THRESH_SHORT = 0.3\n",
    "cfg.LONG_URL_THRESH = 100\n",
    "cfg.SHORT_URL_THRESH = 20\n",
    "\n",
    "cfg.MIN_SUBSTRING_SIZE = 12\n",
    "cfg.SINGLE_REGEX_SIZE = 12\n",
    "cfg.TOTAL_REGEX_SIZE = 50\n",
    "\n",
    "from vectorize import make_vectorize\n",
    "from cluster_engine import make_kmeans_cluster, make_string_distance_cluster\n",
    "from regex_engine import regex_extract, regex_check, regex_publish\n",
    "import preprocess\n",
    "import cluster_engine\n",
    "import regex_engine"
   ]
  },
  {
   "cell_type": "code",
   "execution_count": 4,
   "metadata": {},
   "outputs": [],
   "source": [
    "def data_loader(filepath, csv = True, txt = False):\n",
    "    try:\n",
    "        if csv:\n",
    "            df = pd.read_csv(filepath)\n",
    "            urls = list(df.url)\n",
    "        if txt:\n",
    "            with open(filepath, \"r\") as fd:\n",
    "                urls = [_.strip() for _ in fd]\n",
    "        logger.debug(\"Malware URL Count:\\t%d\" %len(urls))    \n",
    "        return urls\n",
    "    except Exception as e:\n",
    "        logger.error(\"%s FILE OPEN ERROR! %s\" %(filepath, str(e)))\n",
    "        sys.exit(0)"
   ]
  },
  {
   "cell_type": "code",
   "execution_count": 6,
   "metadata": {},
   "outputs": [
    {
     "name": "stderr",
     "output_type": "stream",
     "text": [
      "2018-04-08 16:31:13 <ipython-input-4-49a411cd1e12> [line:12] ERROR\t../../data/VirusTotalData/VT20160725_malicious FILE OPEN ERROR! local variable 'df' referenced before assignment\n"
     ]
    },
    {
     "ename": "SystemExit",
     "evalue": "0",
     "output_type": "error",
     "traceback": [
      "An exception has occurred, use %tb to see the full traceback.\n",
      "\u001b[0;31mSystemExit\u001b[0m\u001b[0;31m:\u001b[0m 0\n"
     ]
    }
   ],
   "source": [
    "urls = data_loader(\"../../data/VirusTotalData/VT20160725_malicious\", csv = False, txt = True)"
   ]
  },
  {
   "cell_type": "code",
   "execution_count": 3,
   "metadata": {},
   "outputs": [
    {
     "name": "stdout",
     "output_type": "stream",
     "text": [
      "only domain 290\n",
      "only path 34478\n",
      "with params 108\n",
      "{0: 2103, 1: 6530, 2: 7865, 3: 6979, 4: 4787, 5: 3206, 6: 1451, 7: 728, 8: 362, 9: 201, 10: 89, 11: 47, 12: 75, 13: 23, 14: 5, 15: 4, 34: 3, 21: 6, 36: 2, 16: 12}\n"
     ]
    }
   ],
   "source": [
    "url_domain, url_path, url_param = preprocess.url_statistic_analysis(urls)\n",
    "url_path_dict, url_path_counter = preprocess.url_path_statistic_analysis(url_path)\n",
    "\n",
    "print \"only domain\",len(url_domain)\n",
    "print \"only path\",len(url_path)\n",
    "print \"with params\",len(url_param)\n",
    "print url_path_counter"
   ]
  },
  {
   "cell_type": "code",
   "execution_count": 5,
   "metadata": {},
   "outputs": [
    {
     "name": "stderr",
     "output_type": "stream",
     "text": [
      "2018-04-08 12:45:58 preprocess.py [line:53] DEBUG\tCheck Result has been dump\t../../data/phishtank/phishtank_url_domain.csv\n",
      "2018-04-08 12:45:59 preprocess.py [line:53] DEBUG\tCheck Result has been dump\t../../data/phishtank/phishtank_url_path.csv\n",
      "2018-04-08 12:45:59 preprocess.py [line:53] DEBUG\tCheck Result has been dump\t../../data/phishtank/phishtank_url_param.csv\n"
     ]
    }
   ],
   "source": [
    "preprocess.dump_urls(url_domain, \"../../data/phishtank/phishtank_url_domain.csv\")\n",
    "preprocess.dump_urls(url_path, \"../../data/phishtank/phishtank_url_path.csv\")\n",
    "preprocess.dump_urls(url_param, \"../../data/phishtank/phishtank_url_param.csv\")"
   ]
  },
  {
   "cell_type": "code",
   "execution_count": 6,
   "metadata": {},
   "outputs": [
    {
     "name": "stderr",
     "output_type": "stream",
     "text": [
      "2018-04-08 12:46:10 vectorize.py [line:93] DEBUG\tvectorization complete! data shape:\t(108, 384)\n",
      "2018-04-08 12:46:10 vectorize.py [line:38] DEBUG\tOLD DATA FIND! REMOVING\t../../data/phishtank/phishtank_vector_domain.csv\n",
      "2018-04-08 12:46:10 vectorize.py [line:41] DEBUG\tvector has beeen dump\t../../data/phishtank/phishtank_vector_domain.csv\n"
     ]
    }
   ],
   "source": [
    "df = make_vectorize(url_param, domain = True, path = True, param = True,  output_path = \"../../data/phishtank/phishtank_vector_domain.csv\")"
   ]
  },
  {
   "cell_type": "code",
   "execution_count": 7,
   "metadata": {},
   "outputs": [
    {
     "name": "stderr",
     "output_type": "stream",
     "text": [
      "2018-04-08 12:46:14 cluster_engine.py [line:182] DEBUG\tbeggin to make k-means cluster, total_data_size:\t108\tn_clusters10\n",
      "2018-04-08 12:46:14 cluster_engine.py [line:193] DEBUG\tCalinski-Harabasz Score for\t2 Cluster K-means\t197.80521366806371\n",
      "2018-04-08 12:46:14 cluster_engine.py [line:193] DEBUG\tCalinski-Harabasz Score for\t3 Cluster K-means\t155.7636595028593\n",
      "2018-04-08 12:46:15 cluster_engine.py [line:193] DEBUG\tCalinski-Harabasz Score for\t4 Cluster K-means\t136.3129479611447\n",
      "2018-04-08 12:46:15 cluster_engine.py [line:193] DEBUG\tCalinski-Harabasz Score for\t5 Cluster K-means\t131.3338382755032\n",
      "2018-04-08 12:46:15 cluster_engine.py [line:193] DEBUG\tCalinski-Harabasz Score for\t6 Cluster K-means\t122.96774955485144\n",
      "2018-04-08 12:46:16 cluster_engine.py [line:193] DEBUG\tCalinski-Harabasz Score for\t7 Cluster K-means\t114.93623825927904\n",
      "2018-04-08 12:46:16 cluster_engine.py [line:193] DEBUG\tCalinski-Harabasz Score for\t8 Cluster K-means\t114.44155393549127\n",
      "2018-04-08 12:46:16 cluster_engine.py [line:193] DEBUG\tCalinski-Harabasz Score for\t9 Cluster K-means\t110.97108380580968\n",
      "2018-04-08 12:46:16 cluster_engine.py [line:196] DEBUG\toptimal n_cluster\t2\n",
      "2018-04-08 12:46:17 cluster_engine.py [line:212] DEBUG\tk-means cluster done!\n",
      "2018-04-08 12:46:17 cluster_engine.py [line:152] DEBUG\tOLD DATA FIND! REMOVING\t../../data/phishtank/phishtank_cluster_kmeams.json\n",
      "2018-04-08 12:46:17 cluster_engine.py [line:156] DEBUG\tK-means cluster has been dump\t../../data/phishtank/phishtank_cluster_kmeams.json\n"
     ]
    }
   ],
   "source": [
    "make_kmeans_cluster(data = df, output_path = '../../data/phishtank/phishtank_cluster_kmeams.json')"
   ]
  },
  {
   "cell_type": "code",
   "execution_count": 8,
   "metadata": {
    "scrolled": true
   },
   "outputs": [
    {
     "name": "stderr",
     "output_type": "stream",
     "text": [
      "2018-04-08 12:46:51 cluster_engine.py [line:78] DEBUG\tK-means data has been loaded\t../../data/phishtank/phishtank_cluster_kmeams.json\n",
      "2018-04-08 12:46:51 cluster_engine.py [line:63] DEBUG\tOLD DATA FIND! REMOVING\t../../data/phishtank/phishtank_cluster_distance.json\n",
      "2018-04-08 12:46:51 cluster_engine.py [line:117] DEBUG\t----------------0------------------\n"
     ]
    },
    {
     "name": "stdout",
     "output_type": "stream",
     "text": [
      "0.3\n",
      "0.3\n",
      "100\n",
      "20\n"
     ]
    },
    {
     "name": "stderr",
     "output_type": "stream",
     "text": [
      "2018-04-08 12:46:52 cluster_engine.py [line:128] DEBUG\ttranspack.by/Tiger/Alibaba.com/www.alibaba.com/alibaba/vqcr8bp0gud&amp%3Blc=1033&amp%3Bid=64855&amp%3Bmkt=en-us&amp%3Bcbcxt=mai&amp%3Bsnsc.php?email=lehosfsrhbxaoiefsias.com%2520&amp%3B.rand=13vqcr8bp0gud&amp%3Blc=1033&amp%3Bid=64855&amp%3Bmkt=en-us&amp%3Bcbcxt=mai&amp%3Bsnsc=1\n",
      "2018-04-08 12:46:52 cluster_engine.py [line:128] DEBUG\ttranspack.by/Tiger/Alibaba.com/www.alibaba.com/alibaba/vqcr8bp0gud&amp%3Blc=1033&amp%3Bid=64855&amp%3Bmkt=en-us&amp%3Bcbcxt=mai&amp%3Bsnsc.php?email=ro@hfase@ellri.com%2520&amp%3B.rand=13vqcr8bp0gud&amp%3Blc=1033&amp%3Bid=64855&amp%3Bmkt=en-us&amp%3Bcbcxt=mai&amp%3Bsnsc=1\n",
      "2018-04-08 12:46:52 cluster_engine.py [line:128] DEBUG\ttranspack.by/Tiger/Alibaba.com/www.alibaba.com/alibaba/vqcr8bp0gud&amp%3Blc=1033&amp%3Bid=64855&amp%3Bmkt=en-us&amp%3Bcbcxt=mai&amp%3Bsnsc.php?.rand=13vqcr8bp0gud&amp%3Bcbcxt=mai&amp%3Bemail=pxmirhoidbbf.com%2520&amp%3Bid=64855&amp%3Blc=1033&amp%3Bmkt=en-us&amp%3Bsnsc=1\n",
      "2018-04-08 12:46:52 cluster_engine.py [line:128] DEBUG\ttranspack.by/Tiger/Alibaba.com/www.alibaba.com/alibaba/vqcr8bp0gud&amp%3Blc=1033&amp%3Bid=64855&amp%3Bmkt=en-us&amp%3Bcbcxt=mai&amp%3Bsnsc.php?.rand=13vqcr8bp0gud&amp%3Bcbcxt=mai&amp%3Bemail=lehosfsrhbxaoiefsias.com%2520&amp%3Bid=64855&amp%3Blc=1033&amp%3Bmkt=en-us&amp%3Bsnsc=1\n",
      "2018-04-08 12:46:52 cluster_engine.py [line:128] DEBUG\ttranspack.by/Tiger/Alibaba.com/www.alibaba.com/alibaba/vqcr8bp0gud&amp%3Blc=1033&amp%3Bid=64855&amp%3Bmkt=en-us&amp%3Bcbcxt=mai&amp%3Bsnsc.php?email=pxmirhoidbbf.com%2520&amp%3B.rand=13vqcr8bp0gud&amp%3Blc=1033&amp%3Bid=64855&amp%3Bmkt=en-us&amp%3Bcbcxt=mai&amp%3Bsnsc=1\n",
      "2018-04-08 12:46:52 cluster_engine.py [line:128] DEBUG\twww.avtocenter-nsk.ru/images/www.alibaba.com/alibaba/vqcr8bp0gud&amp%3Blc=1033&amp%3Bid=64855&amp%3Bmkt=en-us&amp%3Bcbcxt=mai&amp%3Bsnsc.php?email=abuse@moduscustomsofas.com&amp%3B.?email=abuse@moduscustomsofas.com&amp%3B.rand=13vqcr8bp0gud&amp%3Blc=1033&amp%3Bid=64855&amp%3Bmkt=en-us&amp%3Bcbcxt=mai&amp%3Bsnsc=1\n",
      "2018-04-08 12:46:52 cluster_engine.py [line:128] DEBUG\twww.avtocenter-nsk.ru/images/www.alibaba.com/alibaba/vqcr8bp0gud&amp%3Blc=1033&amp%3Bid=64855&amp%3Bmkt=en-us&amp%3Bcbcxt=mai&amp%3Bsnsc.php?email=abuse@moduscustomsofas.com&amp%3B.rand=13vqcr8bp0gud&amp%3Blc=1033&amp%3Bid=64855&amp%3Bmkt=en-us&amp%3Bcbcxt=mai&amp%3Bsnsc=1\n",
      "2018-04-08 12:46:52 cluster_engine.py [line:131] DEBUG\t>>>>>>> BATCH:2/1\tTOTAL:107\tDONE:7\n",
      "2018-04-08 12:46:52 cluster_engine.py [line:117] DEBUG\t----------------1------------------\n",
      "2018-04-08 12:46:52 cluster_engine.py [line:128] DEBUG\tcommunityvoiceconsulting.com/wp-includes/alibaba/vqcr8bp0gud&amp%3Blc=1033&amp%3Bid=64855&amp%3Bmkt=en-us&amp%3Bcbcxt=mai&amp%3Bsnsc.php?email=abuse@10mail.net\n",
      "2018-04-08 12:46:52 cluster_engine.py [line:128] DEBUG\ttranspack.by/Tiger/Alibaba.com/www.alibaba.com/alibaba/vqcr8bp0gud&amp%3Blc=1033&amp%3Bid=64855&amp%3Bmkt=en-us&amp%3Bcbcxt=mai&amp%3Bsnsc.php?email=abuse@gdboost.com\n",
      "2018-04-08 12:46:52 cluster_engine.py [line:128] DEBUG\twww.bipads.com/com/alibaba/vqcr8bp0gud&amp%3Blc=1033&amp%3Bid=64855&amp%3Bmkt=en-us&amp%3Bcbcxt=mai&amp%3Bsnsc.php?email=abuse@huashunjx.com\n",
      "2018-04-08 12:46:52 cluster_engine.py [line:128] DEBUG\twww.bipads.com/lib/alibaba/vqcr8bp0gud&amp%3Blc=1033&amp%3Bid=64855&amp%3Bmkt=en-us&amp%3Bcbcxt=mai&amp%3Bsnsc.php?email=abuse@gmai.com\n",
      "2018-04-08 12:46:52 cluster_engine.py [line:128] DEBUG\ttest.glasswork.ge/Alibaba/alibaba/vqcr8bp0gud&amp%3Blc=1033&amp%3Bid=64855&amp%3Bmkt=en-us&amp%3Bcbcxt=mai&amp%3Bsnsc.php?email=abuse@rediffmail.com\n",
      "2018-04-08 12:46:52 cluster_engine.py [line:128] DEBUG\ttest.glasswork.ge/Update/Ali/alibaba/vqcr8bp0gud&amp%3Blc=1033&amp%3Bid=64855&amp%3Bmkt=en-us&amp%3Bcbcxt=mai&amp%3Bsnsc.php?email=abuse@dmsong.com\n",
      "2018-04-08 12:46:52 cluster_engine.py [line:128] DEBUG\tpennyboxapp.com/js/alibaba/vqcr8bp0gud&amp%3Blc=1033&amp%3Bid=64855&amp%3Bmkt=en-us&amp%3Bcbcxt=mai&amp%3Bsnsc.php?email=abuse@pipus.com\n",
      "2018-04-08 12:46:52 cluster_engine.py [line:128] DEBUG\ttest.glasswork.ge/Update/Ali/alibaba/vqcr8bp0gud&amp%3Blc=1033&amp%3Bid=64855&amp%3Bmkt=en-us&amp%3Bcbcxt=mai&amp%3Bsnsc.php?email=abuse@jinpack.com\n",
      "2018-04-08 12:46:52 cluster_engine.py [line:128] DEBUG\twww.bipads.com/com/alibaba/vqcr8bp0gud&amp%3Blc=1033&amp%3Bid=64855&amp%3Bmkt=en-us&amp%3Bcbcxt=mai&amp%3Bsnsc.php?email=abuse@touchtelindia.net\n",
      "2018-04-08 12:46:52 cluster_engine.py [line:128] DEBUG\ttest.glasswork.ge/Alibaba/alibaba/vqcr8bp0gud&amp%3Blc=1033&amp%3Bid=64855&amp%3Bmkt=en-us&amp%3Bcbcxt=mai&amp%3Bsnsc.php?email=abuse@hockseng.com\n",
      "2018-04-08 12:46:52 cluster_engine.py [line:128] DEBUG\tcommunityvoiceconsulting.com/wp-includes/alibaba/vqcr8bp0gud&amp%3Blc=1033&amp%3Bid=64855&amp%3Bmkt=en-us&amp%3Bcbcxt=mai&amp%3Bsnsc.php?email=abuse@outook.com\n",
      "2018-04-08 12:46:52 cluster_engine.py [line:128] DEBUG\ttest.glasswork.ge/Alibaba/alibaba/vqcr8bp0gud&amp%3Blc=1033&amp%3Bid=64855&amp%3Bmkt=en-us&amp%3Bcbcxt=mai&amp%3Bsnsc.php?email=abuse@10mail.net\n",
      "2018-04-08 12:46:52 cluster_engine.py [line:128] DEBUG\ttest.glasswork.ge/Alibaba/alibaba/vqcr8bp0gud&amp%3Blc=1033&amp%3Bid=64855&amp%3Bmkt=en-us&amp%3Bcbcxt=mai&amp%3Bsnsc.php?email=abuse@siriusbb.com\n",
      "2018-04-08 12:46:52 cluster_engine.py [line:128] DEBUG\twww.bipads.com/com/alibaba/vqcr8bp0gud&amp%3Blc=1033&amp%3Bid=64855&amp%3Bmkt=en-us&amp%3Bcbcxt=mai&amp%3Bsnsc.php?email=abuse@hotmial.com\n",
      "2018-04-08 12:46:52 cluster_engine.py [line:128] DEBUG\ttest.glasswork.ge/Alibaba/alibaba/vqcr8bp0gud&amp%3Blc=1033&amp%3Bid=64855&amp%3Bmkt=en-us&amp%3Bcbcxt=mai&amp%3Bsnsc.php?email=abuse@myshoes.net.cn\n",
      "2018-04-08 12:46:52 cluster_engine.py [line:128] DEBUG\tpennyboxapp.com/js/alibaba/vqcr8bp0gud&amp%3Blc=1033&amp%3Bid=64855&amp%3Bmkt=en-us&amp%3Bcbcxt=mai&amp%3Bsnsc.php?email=abuse@kligroups.com\n",
      "2018-04-08 12:46:52 cluster_engine.py [line:128] DEBUG\twww.bipads.com/com/alibaba/vqcr8bp0gud&amp%3Blc=1033&amp%3Bid=64855&amp%3Bmkt=en-us&amp%3Bcbcxt=mai&amp%3Bsnsc.php?email=abuse@lantai.com.cn\n",
      "2018-04-08 12:46:52 cluster_engine.py [line:128] DEBUG\ttest.glasswork.ge/Alibaba/alibaba/vqcr8bp0gud&amp%3Blc=1033&amp%3Bid=64855&amp%3Bmkt=en-us&amp%3Bcbcxt=mai&amp%3Bsnsc.php?email=abuse@eail.com\n",
      "2018-04-08 12:46:52 cluster_engine.py [line:128] DEBUG\twww.avtocenter-nsk.ru/images/www.alibaba.com/alibaba/vqcr8bp0gud&amp%3Blc=1033&amp%3Bid=64855&amp%3Bmkt=en-us&amp%3Bcbcxt=mai&amp%3Bsnsc.php?email=abuse@state.gov\n",
      "2018-04-08 12:46:52 cluster_engine.py [line:128] DEBUG\twww.bipads.com/com/alibaba/vqcr8bp0gud&amp%3Blc=1033&amp%3Bid=64855&amp%3Bmkt=en-us&amp%3Bcbcxt=mai&amp%3Bsnsc.php?email=abuse@izitu.com\n",
      "2018-04-08 12:46:52 cluster_engine.py [line:128] DEBUG\ttest.glasswork.ge/Update/Ali/alibaba/vqcr8bp0gud&amp%3Blc=1033&amp%3Bid=64855&amp%3Bmkt=en-us&amp%3Bcbcxt=mai&amp%3Bsnsc.php?email=abuse@dc-rose.com\n",
      "2018-04-08 12:46:52 cluster_engine.py [line:128] DEBUG\ttest.glasswork.ge/Update/Ali/alibaba/vqcr8bp0gud&amp%3Blc=1033&amp%3Bid=64855&amp%3Bmkt=en-us&amp%3Bcbcxt=mai&amp%3Bsnsc.php?email=abuse@maotaishoes.com\n",
      "2018-04-08 12:46:52 cluster_engine.py [line:128] DEBUG\ttest.glasswork.ge/Update/Ali/alibaba/vqcr8bp0gud&amp%3Blc=1033&amp%3Bid=64855&amp%3Bmkt=en-us&amp%3Bcbcxt=mai&amp%3Bsnsc.php?email=abuse@myshoes.net.cn\n",
      "2018-04-08 12:46:52 cluster_engine.py [line:128] DEBUG\twww.bipads.com/com/alibaba/vqcr8bp0gud&amp%3Blc=1033&amp%3Bid=64855&amp%3Bmkt=en-us&amp%3Bcbcxt=mai&amp%3Bsnsc.php?email=abuse@creatordesign.com\n",
      "2018-04-08 12:46:52 cluster_engine.py [line:128] DEBUG\tflagsigns.ca/wp-admin/css/alibaba/vqcr8bp0gud&amp%3Blc=1033&amp%3Bid=64855&amp%3Bmkt=en-us&amp%3Bcbcxt=mai&amp%3Bsnsc.php?email=abuse@none.co.kr\n",
      "2018-04-08 12:46:52 cluster_engine.py [line:128] DEBUG\treposomolina.com/album/util/alibaba/vqcr8bp0gud&amp%3Blc=1033&amp%3Bid=64855&amp%3Bmkt=en-us&amp%3Bcbcxt=mai&amp%3Bsnsc.php?email=abuse@hugle.com\n",
      "2018-04-08 12:46:52 cluster_engine.py [line:128] DEBUG\twww.bipads.com/com/alibaba/vqcr8bp0gud&amp%3Blc=1033&amp%3Bid=64855&amp%3Bmkt=en-us&amp%3Bcbcxt=mai&amp%3Bsnsc.php?email=abuse@phil-chem.com\n",
      "2018-04-08 12:46:52 cluster_engine.py [line:128] DEBUG\tflagsigns.ca/wp-admin/css/alibaba/vqcr8bp0gud&amp%3Blc=1033&amp%3Bid=64855&amp%3Bmkt=en-us&amp%3Bcbcxt=mai&amp%3Bsnsc.php?email=abuse@dmsong.com\n",
      "2018-04-08 12:46:52 cluster_engine.py [line:128] DEBUG\tpennyboxapp.com/js/alibaba/vqcr8bp0gud&amp%3Blc=1033&amp%3Bid=64855&amp%3Bmkt=en-us&amp%3Bcbcxt=mai&amp%3Bsnsc.php?email=abuse@zte.com\n"
     ]
    },
    {
     "name": "stderr",
     "output_type": "stream",
     "text": [
      "2018-04-08 12:46:52 cluster_engine.py [line:128] DEBUG\ttest.glasswork.ge/Alibaba/alibaba/vqcr8bp0gud&amp%3Blc=1033&amp%3Bid=64855&amp%3Bmkt=en-us&amp%3Bcbcxt=mai&amp%3Bsnsc.php?email=abuse@tessuta.com\n",
      "2018-04-08 12:46:52 cluster_engine.py [line:128] DEBUG\twww.bipads.com/lib/alibaba/vqcr8bp0gud&amp%3Blc=1033&amp%3Bid=64855&amp%3Bmkt=en-us&amp%3Bcbcxt=mai&amp%3Bsnsc.php?email=abuse@gmil.com\n",
      "2018-04-08 12:46:52 cluster_engine.py [line:128] DEBUG\ttranspack.by/Tiger/Alibaba.com/www.alibaba.com/alibaba/vqcr8bp0gud&amp%3Blc=1033&amp%3Bid=64855&amp%3Bmkt=en-us&amp%3Bcbcxt=mai&amp%3Bsnsc.php?email=abuse@sabic.com\n",
      "2018-04-08 12:46:52 cluster_engine.py [line:128] DEBUG\treposomolina.com/album/util/alibaba/vqcr8bp0gud&amp%3Blc=1033&amp%3Bid=64855&amp%3Bmkt=en-us&amp%3Bcbcxt=mai&amp%3Bsnsc.php?email=abuse@honglang-dl.com\n",
      "2018-04-08 12:46:52 cluster_engine.py [line:128] DEBUG\tflagsigns.ca/wp-admin/css/alibaba/vqcr8bp0gud&amp%3Blc=1033&amp%3Bid=64855&amp%3Bmkt=en-us&amp%3Bcbcxt=mai&amp%3Bsnsc.php?email=abuse@honmail.net\n",
      "2018-04-08 12:46:52 cluster_engine.py [line:128] DEBUG\tcommunityvoiceconsulting.com/wp-includes/alibaba/vqcr8bp0gud&amp%3Blc=1033&amp%3Bid=64855&amp%3Bmkt=en-us&amp%3Bcbcxt=mai&amp%3Bsnsc.php?email=abuse@jooix.com\n",
      "2018-04-08 12:46:52 cluster_engine.py [line:128] DEBUG\tpennyboxapp.com/js/alibaba/vqcr8bp0gud&amp%3Blc=1033&amp%3Bid=64855&amp%3Bmkt=en-us&amp%3Bcbcxt=mai&amp%3Bsnsc.php?email=abuse@gmai.com\n",
      "2018-04-08 12:46:52 cluster_engine.py [line:131] DEBUG\t>>>>>>> BATCH:2/1\tTOTAL:107\tDONE:43\n",
      "2018-04-08 12:46:52 cluster_engine.py [line:117] DEBUG\t----------------4------------------\n",
      "2018-04-08 12:46:52 cluster_engine.py [line:128] DEBUG\twww.downloadarabicsoft.com/wp-content/uploads/2014/12/www.alibaba.com/alibaba/vqcr8bp0gud&amp%3Blc=1033&amp%3Bid=64855&amp%3Bmkt=en-us&amp%3Bcbcxt=mai&amp%3Bsnsc.php\n",
      "2018-04-08 12:46:52 cluster_engine.py [line:128] DEBUG\tmoneyclipdirect.com/MIAMI/www.alibaba.com/alibaba/vqcr8bp0gud&amp%3Blc=1033&amp%3Bid=64855&amp%3Bmkt=en-us&amp%3Bcbcxt=mai&amp%3Bsnsc.php\n",
      "2018-04-08 12:46:52 cluster_engine.py [line:128] DEBUG\twww.avtocenter-nsk.ru/images/www.alibaba.com/alibaba/vqcr8bp0gud&amp%3Blc=1033&amp%3Bid=64855&amp%3Bmkt=en-us&amp%3Bcbcxt=mai&amp%3Bsnsc.php\n",
      "2018-04-08 12:46:52 cluster_engine.py [line:128] DEBUG\tavtocenter-nsk.ru/images/www.alibaba.com/alibaba/vqcr8bp0gud&amp%3Blc=1033&amp%3Bid=64855&amp%3Bmkt=en-us&amp%3Bcbcxt=mai&amp%3Bsnsc.php\n",
      "2018-04-08 12:46:52 cluster_engine.py [line:128] DEBUG\tavtocenter-nsk.ru/themes/www.alibaba.com/alibaba/vqcr8bp0gud&amp%3Blc=1033&amp%3Bid=64855&amp%3Bmkt=en-us&amp%3Bcbcxt=mai&amp%3Bsnsc.php\n",
      "2018-04-08 12:46:52 cluster_engine.py [line:128] DEBUG\tdownloadarabicsoft.com/wp-content/uploads/2014/12/www.alibaba.com/alibaba/vqcr8bp0gud&amp%3Blc=1033&amp%3Bid=64855&amp%3Bmkt=en-us&amp%3Bcbcxt=mai&amp%3Bsnsc.php\n",
      "2018-04-08 12:46:52 cluster_engine.py [line:128] DEBUG\twww.mgba.org/wp-includes/css/www.alibaba.com/alibaba/vqcr8bp0gud&amp%3Blc=1033&amp%3Bid=64855&amp%3Bmkt=en-us&amp%3Bcbcxt=mai&amp%3Bsnsc.php\n",
      "2018-04-08 12:46:52 cluster_engine.py [line:128] DEBUG\tcolor-bug.se/wp-content/alishaw/Alibaba.com/www.alibaba.com/alibaba/vqcr8bp0gud&amp%3Blc=1033&amp%3Bid=64855&amp%3Bmkt=en-us&amp%3Bcbcxt=mai&amp%3Bsnsc.php\n",
      "2018-04-08 12:46:52 cluster_engine.py [line:128] DEBUG\twww.moneyclipdirect.com/MIAMI/www.alibaba.com/alibaba/vqcr8bp0gud&amp%3Blc=1033&amp%3Bid=64855&amp%3Bmkt=en-us&amp%3Bcbcxt=mai&amp%3Bsnsc.php\n",
      "2018-04-08 12:46:52 cluster_engine.py [line:128] DEBUG\ttranspack.by/Tiger/Alibaba.com/www.alibaba.com/alibaba/vqcr8bp0gud&amp%3Blc=1033&amp%3Bid=64855&amp%3Bmkt=en-us&amp%3Bcbcxt=mai&amp%3Bsnsc.php\n",
      "2018-04-08 12:46:52 cluster_engine.py [line:131] DEBUG\t>>>>>>> BATCH:2/1\tTOTAL:107\tDONE:53\n",
      "2018-04-08 12:46:52 cluster_engine.py [line:117] DEBUG\t----------------5------------------\n",
      "2018-04-08 12:46:52 cluster_engine.py [line:128] DEBUG\twww.avtocenter-nsk.ru/images/www.alibaba.com/alibaba/vqcr8bp0gud&amp%3Blc=1033&amp%3Bid=64855&amp%3Bmkt=en-us&amp%3Bcbcxt=mai&amp%3Bsnsc.php?email=abuse@hotmail.com.com.com\n",
      "2018-04-08 12:46:52 cluster_engine.py [line:128] DEBUG\ttranspack.by/Tiger/Alibaba.com/www.alibaba.com/alibaba/vqcr8bp0gud&amp%3Blc=1033&amp%3Bid=64855&amp%3Bmkt=en-us&amp%3Bcbcxt=mai&amp%3Bsnsc.php?email=abuse@betapins.com.com\n",
      "2018-04-08 12:46:52 cluster_engine.py [line:128] DEBUG\twww.bipads.com/lib/alibaba/vqcr8bp0gud&amp%3Blc=1033&amp%3Bid=64855&amp%3Bmkt=en-us&amp%3Bcbcxt=mai&amp%3Bsnsc.php?email=abuse@gmai.com\n",
      "2018-04-08 12:46:52 cluster_engine.py [line:128] DEBUG\ttest.glasswork.ge/Alibaba/alibaba/vqcr8bp0gud&amp%3Blc=1033&amp%3Bid=64855&amp%3Bmkt=en-us&amp%3Bcbcxt=mai&amp%3Bsnsc.php?email=abuse@rediffmail.com\n",
      "2018-04-08 12:46:52 cluster_engine.py [line:128] DEBUG\ttest.glasswork.ge/Update/Ali/alibaba/vqcr8bp0gud&amp%3Blc=1033&amp%3Bid=64855&amp%3Bmkt=en-us&amp%3Bcbcxt=mai&amp%3Bsnsc.php?email=abuse@dmsong.com\n",
      "2018-04-08 12:46:52 cluster_engine.py [line:128] DEBUG\twww.avtocenter-nsk.ru/images/www.alibaba.com/alibaba/vqcr8bp0gud&amp%3Blc=1033&amp%3Bid=64855&amp%3Bmkt=en-us&amp%3Bcbcxt=mai&amp%3Bsnsc.php\n",
      "2018-04-08 12:46:52 cluster_engine.py [line:128] DEBUG\ttest.glasswork.ge/Update/Ali/alibaba/vqcr8bp0gud&amp%3Blc=1033&amp%3Bid=64855&amp%3Bmkt=en-us&amp%3Bcbcxt=mai&amp%3Bsnsc.php?email=abuse@jinpack.com\n",
      "2018-04-08 12:46:52 cluster_engine.py [line:128] DEBUG\twww.bipads.com/com/alibaba/vqcr8bp0gud&amp%3Blc=1033&amp%3Bid=64855&amp%3Bmkt=en-us&amp%3Bcbcxt=mai&amp%3Bsnsc.php?email=abuse@touchtelindia.net\n",
      "2018-04-08 12:46:52 cluster_engine.py [line:128] DEBUG\twww.bipads.com/com/alibaba/vqcr8bp0gud&amp%3Blc=1033&amp%3Bid=64855&amp%3Bmkt=en-us&amp%3Bcbcxt=mai&amp%3Bsnsc.php?email=abuse@imprintswholesale.com\n",
      "2018-04-08 12:46:52 cluster_engine.py [line:128] DEBUG\tavtocenter-nsk.ru/images/www.alibaba.com/alibaba/vqcr8bp0gud&amp%3Blc=1033&amp%3Bid=64855&amp%3Bmkt=en-us&amp%3Bcbcxt=mai&amp%3Bsnsc.php\n",
      "2018-04-08 12:46:52 cluster_engine.py [line:128] DEBUG\twww.bipads.com/com/alibaba/vqcr8bp0gud&amp%3Blc=1033&amp%3Bid=64855&amp%3Bmkt=en-us&amp%3Bcbcxt=mai&amp%3Bsnsc.php?email=info@huameikj.com.cn\n",
      "2018-04-08 12:46:52 cluster_engine.py [line:128] DEBUG\ttest.glasswork.ge/Alibaba/alibaba/vqcr8bp0gud&amp%3Blc=1033&amp%3Bid=64855&amp%3Bmkt=en-us&amp%3Bcbcxt=mai&amp%3Bsnsc.php?email=abuse@hockseng.com\n",
      "2018-04-08 12:46:52 cluster_engine.py [line:128] DEBUG\tcommunityvoiceconsulting.com/wp-includes/alibaba/vqcr8bp0gud&amp%3Blc=1033&amp%3Bid=64855&amp%3Bmkt=en-us&amp%3Bcbcxt=mai&amp%3Bsnsc.php?email=abuse@outook.com\n",
      "2018-04-08 12:46:52 cluster_engine.py [line:128] DEBUG\ttest.glasswork.ge/Alibaba/alibaba/vqcr8bp0gud&amp%3Blc=1033&amp%3Bid=64855&amp%3Bmkt=en-us&amp%3Bcbcxt=mai&amp%3Bsnsc.php?email=abuse@10mail.net\n",
      "2018-04-08 12:46:52 cluster_engine.py [line:128] DEBUG\ttest.glasswork.ge/Alibaba/alibaba/vqcr8bp0gud&amp%3Blc=1033&amp%3Bid=64855&amp%3Bmkt=en-us&amp%3Bcbcxt=mai&amp%3Bsnsc.php?email=abuse@siriusbb.com\n",
      "2018-04-08 12:46:52 cluster_engine.py [line:128] DEBUG\twww.bipads.com/com/alibaba/vqcr8bp0gud&amp%3Blc=1033&amp%3Bid=64855&amp%3Bmkt=en-us&amp%3Bcbcxt=mai&amp%3Bsnsc.php?email=abuse@hotmial.com\n",
      "2018-04-08 12:46:52 cluster_engine.py [line:128] DEBUG\ttest.glasswork.ge/Alibaba/alibaba/vqcr8bp0gud&amp%3Blc=1033&amp%3Bid=64855&amp%3Bmkt=en-us&amp%3Bcbcxt=mai&amp%3Bsnsc.php?email=abuse@myshoes.net.cn\n",
      "2018-04-08 12:46:52 cluster_engine.py [line:128] DEBUG\twww.avtocenter-nsk.ru/images/www.alibaba.com/alibaba/vqcr8bp0gud&amp%3Blc=1033&amp%3Bid=64855&amp%3Bmkt=en-us&amp%3Bcbcxt=mai&amp%3Bsnsc.php?email=abuse@youlchon.com&amp%3B.\n",
      "2018-04-08 12:46:52 cluster_engine.py [line:128] DEBUG\twww.bipads.com/com/alibaba/vqcr8bp0gud&amp%3Blc=1033&amp%3Bid=64855&amp%3Bmkt=en-us&amp%3Bcbcxt=mai&amp%3Bsnsc.php?email=abuse@lantai.com.cn\n",
      "2018-04-08 12:46:52 cluster_engine.py [line:128] DEBUG\ttest.glasswork.ge/Alibaba/alibaba/vqcr8bp0gud&amp%3Blc=1033&amp%3Bid=64855&amp%3Bmkt=en-us&amp%3Bcbcxt=mai&amp%3Bsnsc.php?email=abuse@eail.com\n",
      "2018-04-08 12:46:52 cluster_engine.py [line:128] DEBUG\twww.avtocenter-nsk.ru/images/www.alibaba.com/alibaba/vqcr8bp0gud&amp%3Blc=1033&amp%3Bid=64855&amp%3Bmkt=en-us&amp%3Bcbcxt=mai&amp%3Bsnsc.php?email=abuse@state.gov\n",
      "2018-04-08 12:46:52 cluster_engine.py [line:128] DEBUG\twww.bipads.com/com/alibaba/vqcr8bp0gud&amp%3Blc=1033&amp%3Bid=64855&amp%3Bmkt=en-us&amp%3Bcbcxt=mai&amp%3Bsnsc.php?email=abuse@izitu.com\n"
     ]
    },
    {
     "name": "stderr",
     "output_type": "stream",
     "text": [
      "2018-04-08 12:46:52 cluster_engine.py [line:128] DEBUG\ttest.glasswork.ge/Update/Ali/alibaba/vqcr8bp0gud&amp%3Blc=1033&amp%3Bid=64855&amp%3Bmkt=en-us&amp%3Bcbcxt=mai&amp%3Bsnsc.php?email=abuse@dc-rose.com\n",
      "2018-04-08 12:46:52 cluster_engine.py [line:128] DEBUG\ttest.glasswork.ge/Update/Ali/alibaba/vqcr8bp0gud&amp%3Blc=1033&amp%3Bid=64855&amp%3Bmkt=en-us&amp%3Bcbcxt=mai&amp%3Bsnsc.php?email=abuse@maotaishoes.com\n",
      "2018-04-08 12:46:52 cluster_engine.py [line:128] DEBUG\tavtocenter-nsk.ru/themes/www.alibaba.com/alibaba/vqcr8bp0gud&amp%3Blc=1033&amp%3Bid=64855&amp%3Bmkt=en-us&amp%3Bcbcxt=mai&amp%3Bsnsc.php\n",
      "2018-04-08 12:46:52 cluster_engine.py [line:128] DEBUG\twww.mgba.org/wp-content/uploads/www.alibaba.com/alibaba/vqcr8bp0gud&amp%3Blc=1033&amp%3Bid=64855&amp%3Bmkt=en-us&amp%3Bcbcxt=mai&amp%3Bsnsc.php?email=abuse@komocon.com\n",
      "2018-04-08 12:46:52 cluster_engine.py [line:128] DEBUG\ttest.glasswork.ge/Update/Ali/alibaba/vqcr8bp0gud&amp%3Blc=1033&amp%3Bid=64855&amp%3Bmkt=en-us&amp%3Bcbcxt=mai&amp%3Bsnsc.php?email=abuse@myshoes.net.cn\n",
      "2018-04-08 12:46:52 cluster_engine.py [line:128] DEBUG\twww.bipads.com/com/alibaba/vqcr8bp0gud&amp%3Blc=1033&amp%3Bid=64855&amp%3Bmkt=en-us&amp%3Bcbcxt=mai&amp%3Bsnsc.php?email=abuse@creatordesign.com\n",
      "2018-04-08 12:46:52 cluster_engine.py [line:128] DEBUG\ttest.glasswork.ge/Alibaba/alibaba/vqcr8bp0gud&amp%3Blc=1033&amp%3Bid=64855&amp%3Bmkt=en-us&amp%3Bcbcxt=mai&amp%3Bsnsc.php?email=info@dakang-energy.com\n",
      "2018-04-08 12:46:52 cluster_engine.py [line:128] DEBUG\tflagsigns.ca/wp-admin/css/alibaba/vqcr8bp0gud&amp%3Blc=1033&amp%3Bid=64855&amp%3Bmkt=en-us&amp%3Bcbcxt=mai&amp%3Bsnsc.php?email=abuse@none.co.kr\n",
      "2018-04-08 12:46:52 cluster_engine.py [line:128] DEBUG\twww.bipads.com/com/alibaba/vqcr8bp0gud&amp%3Blc=1033&amp%3Bid=64855&amp%3Bmkt=en-us&amp%3Bcbcxt=mai&amp%3Bsnsc.php?email=info@bhairaviexim.com\n",
      "2018-04-08 12:46:52 cluster_engine.py [line:128] DEBUG\treposomolina.com/album/util/alibaba/vqcr8bp0gud&amp%3Blc=1033&amp%3Bid=64855&amp%3Bmkt=en-us&amp%3Bcbcxt=mai&amp%3Bsnsc.php?email=abuse@hugle.com\n",
      "2018-04-08 12:46:52 cluster_engine.py [line:128] DEBUG\tavtocenter-nsk.ru/images/www.alibaba.com/alibaba/vqcr8bp0gud&amp%3Blc=1033&amp%3Bid=64855&amp%3Bmkt=en-us&amp%3Bcbcxt=mai&amp%3Bsnsc.php?.?email=abuse@gmaiol.com&amp%3Bemail=abuse@gmaiol.com\n",
      "2018-04-08 12:46:52 cluster_engine.py [line:128] DEBUG\twww.bipads.com/com/alibaba/vqcr8bp0gud&amp%3Blc=1033&amp%3Bid=64855&amp%3Bmkt=en-us&amp%3Bcbcxt=mai&amp%3Bsnsc.php?email=abuse@phil-chem.com\n",
      "2018-04-08 12:46:52 cluster_engine.py [line:128] DEBUG\tcolor-bug.se/wp-content/alishaw/Alibaba.com/www.alibaba.com/alibaba/vqcr8bp0gud&amp%3Blc=1033&amp%3Bid=64855&amp%3Bmkt=en-us&amp%3Bcbcxt=mai&amp%3Bsnsc.php?email=abuse@hzbeier.cn\n",
      "2018-04-08 12:46:52 cluster_engine.py [line:128] DEBUG\tflagsigns.ca/wp-admin/css/alibaba/vqcr8bp0gud&amp%3Blc=1033&amp%3Bid=64855&amp%3Bmkt=en-us&amp%3Bcbcxt=mai&amp%3Bsnsc.php?email=abuse@dmsong.com\n",
      "2018-04-08 12:46:52 cluster_engine.py [line:128] DEBUG\ttest.glasswork.ge/Alibaba/alibaba/vqcr8bp0gud&amp%3Blc=1033&amp%3Bid=64855&amp%3Bmkt=en-us&amp%3Bcbcxt=mai&amp%3Bsnsc.php?email=abuse@rediffmail.com%2520\n",
      "2018-04-08 12:46:52 cluster_engine.py [line:128] DEBUG\ttest.glasswork.ge/Alibaba/alibaba/vqcr8bp0gud&amp%3Blc=1033&amp%3Bid=64855&amp%3Bmkt=en-us&amp%3Bcbcxt=mai&amp%3Bsnsc.php?email=abuse@tessuta.com\n",
      "2018-04-08 12:46:52 cluster_engine.py [line:128] DEBUG\twww.bipads.com/lib/alibaba/vqcr8bp0gud&amp%3Blc=1033&amp%3Bid=64855&amp%3Bmkt=en-us&amp%3Bcbcxt=mai&amp%3Bsnsc.php?email=abuse@gmil.com\n",
      "2018-04-08 12:46:52 cluster_engine.py [line:128] DEBUG\ttranspack.by/Tiger/Alibaba.com/www.alibaba.com/alibaba/vqcr8bp0gud&amp%3Blc=1033&amp%3Bid=64855&amp%3Bmkt=en-us&amp%3Bcbcxt=mai&amp%3Bsnsc.php?email=abuse@sabic.com\n",
      "2018-04-08 12:46:52 cluster_engine.py [line:128] DEBUG\treposomolina.com/album/util/alibaba/vqcr8bp0gud&amp%3Blc=1033&amp%3Bid=64855&amp%3Bmkt=en-us&amp%3Bcbcxt=mai&amp%3Bsnsc.php?email=abuse@honglang-dl.com\n",
      "2018-04-08 12:46:52 cluster_engine.py [line:128] DEBUG\tflagsigns.ca/wp-admin/css/alibaba/vqcr8bp0gud&amp%3Blc=1033&amp%3Bid=64855&amp%3Bmkt=en-us&amp%3Bcbcxt=mai&amp%3Bsnsc.php?email=abuse@honmail.net\n",
      "2018-04-08 12:46:52 cluster_engine.py [line:128] DEBUG\twww.avtocenter-nsk.ru/themes/www.alibaba.com/alibaba/vqcr8bp0gud&amp%3Blc=1033&amp%3Bid=64855&amp%3Bmkt=en-us&amp%3Bcbcxt=mai&amp%3Bsnsc.php?email=info@sunflowerexport.com\n",
      "2018-04-08 12:46:52 cluster_engine.py [line:128] DEBUG\ttest.glasswork.ge/Alibaba/alibaba/vqcr8bp0gud&amp%3Blc=1033&amp%3Bid=64855&amp%3Bmkt=en-us&amp%3Bcbcxt=mai&amp%3Bsnsc.php?email=abuse@biznevigator.com\n",
      "2018-04-08 12:46:52 cluster_engine.py [line:128] DEBUG\tcommunityvoiceconsulting.com/wp-includes/alibaba/vqcr8bp0gud&amp%3Blc=1033&amp%3Bid=64855&amp%3Bmkt=en-us&amp%3Bcbcxt=mai&amp%3Bsnsc.php?email=abuse@jooix.com\n",
      "2018-04-08 12:46:52 cluster_engine.py [line:128] DEBUG\tpennyboxapp.com/js/alibaba/vqcr8bp0gud&amp%3Blc=1033&amp%3Bid=64855&amp%3Bmkt=en-us&amp%3Bcbcxt=mai&amp%3Bsnsc.php?email=abuse@gmai.com\n",
      "2018-04-08 12:46:52 cluster_engine.py [line:131] DEBUG\t>>>>>>> BATCH:2/1\tTOTAL:107\tDONE:66\n",
      "2018-04-08 12:46:52 cluster_engine.py [line:117] DEBUG\t----------------6------------------\n",
      "2018-04-08 12:46:53 cluster_engine.py [line:128] DEBUG\tdocusignworld.co/&amp%3B%5E%2A&amp%3B(%21%21\n",
      "2018-04-08 12:46:53 cluster_engine.py [line:128] DEBUG\twww.docusignworld.co/&amp%3B%5E%2A&amp%3B(%21%21\n",
      "2018-04-08 12:46:53 cluster_engine.py [line:131] DEBUG\t>>>>>>> BATCH:2/1\tTOTAL:107\tDONE:68\n",
      "2018-04-08 12:46:53 cluster_engine.py [line:117] DEBUG\t----------------7------------------\n",
      "2018-04-08 12:46:53 cluster_engine.py [line:128] DEBUG\tdocuemail.short.cm/AT&amp%3BT\n",
      "2018-04-08 12:46:53 cluster_engine.py [line:131] DEBUG\t>>>>>>> BATCH:2/1\tTOTAL:107\tDONE:69\n",
      "2018-04-08 12:46:53 cluster_engine.py [line:117] DEBUG\t----------------11------------------\n",
      "2018-04-08 12:46:53 cluster_engine.py [line:128] DEBUG\tsimplifiedproperties.co.uk/img/login/alishaw/alibaba/Alibaba.com/www.alibaba.com/alibaba/vqcr8bp0gud&amp%3Blc=1033&amp%3Bid=64855&amp%3Bmkt=en-us&amp%3Bcbcxt=mai&amp%3Bsnsc.php\n",
      "2018-04-08 12:46:53 cluster_engine.py [line:128] DEBUG\tsimplifiedproperties.co.uk/img/login/alishaw/alibaba/Alibaba.com/www.alibaba.com/alibaba/vqcr8bp0gud&amp%3Blc=1033&amp%3Bid=64855&amp%3Bmkt=en-us&amp%3Bcbcxt=mai&amp%3Bsnsc.php?email=abuse@gdboost.com\n",
      "2018-04-08 12:46:53 cluster_engine.py [line:128] DEBUG\tsimplifiedproperties.co.uk/img/login/alishaw/alibaba/Alibaba.com/www.alibaba.com/alibaba/vqcr8bp0gud&amp%3Blc=1033&amp%3Bid=64855&amp%3Bmkt=en-us&amp%3Bcbcxt=mai&amp%3Bsnsc.php?email=abuse@sabic.com\n",
      "2018-04-08 12:46:53 cluster_engine.py [line:128] DEBUG\tsimplifiedproperties.co.uk/img/login/alishaw/alibaba/Alibaba.com/www.alibaba.com/alibaba/vqcr8bp0gud&amp%3Blc=1033&amp%3Bid=64855&amp%3Bmkt=en-us&amp%3Bcbcxt=mai&amp%3Bsnsc.php?email=abuse@sabic-ip.com\n",
      "2018-04-08 12:46:53 cluster_engine.py [line:128] DEBUG\tsimplifiedproperties.co.uk/img/login/alishaw/alibaba/Alibaba.com/www.alibaba.com/alibaba/vqcr8bp0gud&amp%3Blc=1033&amp%3Bid=64855&amp%3Bmkt=en-us&amp%3Bcbcxt=mai&amp%3Bsnsc.php?email=abuse@hipowergroup.com\n",
      "2018-04-08 12:46:53 cluster_engine.py [line:128] DEBUG\tdownloadarabicsoft.com/wp-content/uploads/2014/12/www.alibaba.com/alibaba/vqcr8bp0gud&amp%3Blc=1033&amp%3Bid=64855&amp%3Bmkt=en-us&amp%3Bcbcxt=mai&amp%3Bsnsc.php\n",
      "2018-04-08 12:46:53 cluster_engine.py [line:128] DEBUG\tcolor-bug.se/wp-content/alishaw/Alibaba.com/www.alibaba.com/alibaba/vqcr8bp0gud&amp%3Blc=1033&amp%3Bid=64855&amp%3Bmkt=en-us&amp%3Bcbcxt=mai&amp%3Bsnsc.php\n",
      "2018-04-08 12:46:53 cluster_engine.py [line:128] DEBUG\tsimplifiedproperties.co.uk/img/login/alishaw/alibaba/Alibaba.com/www.alibaba.com/alibaba/vqcr8bp0gud&amp%3Blc=1033&amp%3Bid=64855&amp%3Bmkt=en-us&amp%3Bcbcxt=mai&amp%3Bsnsc.php?email=abuse@metalnet.net\n",
      "2018-04-08 12:46:53 cluster_engine.py [line:128] DEBUG\ttranspack.by/Tiger/Alibaba.com/www.alibaba.com/alibaba/vqcr8bp0gud&amp%3Blc=1033&amp%3Bid=64855&amp%3Bmkt=en-us&amp%3Bcbcxt=mai&amp%3Bsnsc.php\n",
      "2018-04-08 12:46:53 cluster_engine.py [line:131] DEBUG\t>>>>>>> BATCH:2/1\tTOTAL:107\tDONE:75\n",
      "2018-04-08 12:46:53 cluster_engine.py [line:117] DEBUG\t----------------13------------------\n",
      "2018-04-08 12:46:53 cluster_engine.py [line:128] DEBUG\twww.bipads.com/lib/alibaba/vqcr8bp0gud&amp%3Blc=1033&amp%3Bid=64855&amp%3Bmkt=en-us&amp%3Bcbcxt=mai&amp%3Bsnsc.php?email=anandintlgroup@gmil.com/?\n"
     ]
    },
    {
     "name": "stderr",
     "output_type": "stream",
     "text": [
      "2018-04-08 12:46:53 cluster_engine.py [line:128] DEBUG\tpennyboxapp.com/js/alibaba/vqcr8bp0gud&amp%3Blc=1033&amp%3Bid=64855&amp%3Bmkt=en-us&amp%3Bcbcxt=mai&amp%3Bsnsc.php?email=abuse@pipus.com\n",
      "2018-04-08 12:46:53 cluster_engine.py [line:128] DEBUG\ttest.glasswork.ge/Update/Ali/alibaba/vqcr8bp0gud&amp%3Blc=1033&amp%3Bid=64855&amp%3Bmkt=en-us&amp%3Bcbcxt=mai&amp%3Bsnsc.php?email=abuse@jinpack.com\n",
      "2018-04-08 12:46:53 cluster_engine.py [line:128] DEBUG\twww.bipads.com/com/alibaba/vqcr8bp0gud&amp%3Blc=1033&amp%3Bid=64855&amp%3Bmkt=en-us&amp%3Bcbcxt=mai&amp%3Bsnsc.php?email=abuse@touchtelindia.net\n",
      "2018-04-08 12:46:53 cluster_engine.py [line:128] DEBUG\twww.bipads.com/com/alibaba/vqcr8bp0gud&amp%3Blc=1033&amp%3Bid=64855&amp%3Bmkt=en-us&amp%3Bcbcxt=mai&amp%3Bsnsc.php?email=abuse@imprintswholesale.com\n",
      "2018-04-08 12:46:53 cluster_engine.py [line:128] DEBUG\twww.bipads.com/com/alibaba/vqcr8bp0gud&amp%3Blc=1033&amp%3Bid=64855&amp%3Bmkt=en-us&amp%3Bcbcxt=mai&amp%3Bsnsc.php?email=info@huameikj.com.cn\n",
      "2018-04-08 12:46:53 cluster_engine.py [line:128] DEBUG\ttest.glasswork.ge/Alibaba/alibaba/vqcr8bp0gud&amp%3Blc=1033&amp%3Bid=64855&amp%3Bmkt=en-us&amp%3Bcbcxt=mai&amp%3Bsnsc.php?email=abuse@hockseng.com\n",
      "2018-04-08 12:46:53 cluster_engine.py [line:128] DEBUG\ttest.glasswork.ge/Alibaba/alibaba/vqcr8bp0gud&amp%3Blc=1033&amp%3Bid=64855&amp%3Bmkt=en-us&amp%3Bcbcxt=mai&amp%3Bsnsc.php?email=abuse@10mail.net\n",
      "2018-04-08 12:46:53 cluster_engine.py [line:128] DEBUG\ttest.glasswork.ge/Alibaba/alibaba/vqcr8bp0gud&amp%3Blc=1033&amp%3Bid=64855&amp%3Bmkt=en-us&amp%3Bcbcxt=mai&amp%3Bsnsc.php?email=abuse@siriusbb.com\n",
      "2018-04-08 12:46:53 cluster_engine.py [line:128] DEBUG\twww.bipads.com/com/alibaba/vqcr8bp0gud&amp%3Blc=1033&amp%3Bid=64855&amp%3Bmkt=en-us&amp%3Bcbcxt=mai&amp%3Bsnsc.php?email=abuse@hotmial.com\n",
      "2018-04-08 12:46:53 cluster_engine.py [line:128] DEBUG\ttest.glasswork.ge/Alibaba/alibaba/vqcr8bp0gud&amp%3Blc=1033&amp%3Bid=64855&amp%3Bmkt=en-us&amp%3Bcbcxt=mai&amp%3Bsnsc.php?email=abuse@myshoes.net.cn\n",
      "2018-04-08 12:46:53 cluster_engine.py [line:128] DEBUG\tpennyboxapp.com/js/alibaba/vqcr8bp0gud&amp%3Blc=1033&amp%3Bid=64855&amp%3Bmkt=en-us&amp%3Bcbcxt=mai&amp%3Bsnsc.php?email=abuse@kligroups.com\n",
      "2018-04-08 12:46:53 cluster_engine.py [line:128] DEBUG\twww.bipads.com/com/alibaba/vqcr8bp0gud&amp%3Blc=1033&amp%3Bid=64855&amp%3Bmkt=en-us&amp%3Bcbcxt=mai&amp%3Bsnsc.php?email=abuse@lantai.com.cn\n",
      "2018-04-08 12:46:53 cluster_engine.py [line:128] DEBUG\ttest.glasswork.ge/Alibaba/alibaba/vqcr8bp0gud&amp%3Blc=1033&amp%3Bid=64855&amp%3Bmkt=en-us&amp%3Bcbcxt=mai&amp%3Bsnsc.php?email=abuse@eail.com\n",
      "2018-04-08 12:46:53 cluster_engine.py [line:128] DEBUG\twww.bipads.com/com/alibaba/vqcr8bp0gud&amp%3Blc=1033&amp%3Bid=64855&amp%3Bmkt=en-us&amp%3Bcbcxt=mai&amp%3Bsnsc.php?email=abuse@izitu.com\n",
      "2018-04-08 12:46:53 cluster_engine.py [line:128] DEBUG\ttest.glasswork.ge/Update/Ali/alibaba/vqcr8bp0gud&amp%3Blc=1033&amp%3Bid=64855&amp%3Bmkt=en-us&amp%3Bcbcxt=mai&amp%3Bsnsc.php?email=abuse@dc-rose.com\n",
      "2018-04-08 12:46:53 cluster_engine.py [line:128] DEBUG\ttest.glasswork.ge/Update/Ali/alibaba/vqcr8bp0gud&amp%3Blc=1033&amp%3Bid=64855&amp%3Bmkt=en-us&amp%3Bcbcxt=mai&amp%3Bsnsc.php?email=abuse@maotaishoes.com\n",
      "2018-04-08 12:46:53 cluster_engine.py [line:128] DEBUG\tbipads.com/lib/alibaba/vqcr8bp0gud&amp%3Blc=1033&amp%3Bid=64855&amp%3Bmkt=en-us&amp%3Bcbcxt=mai&amp%3Bsnsc.php\n",
      "2018-04-08 12:46:53 cluster_engine.py [line:128] DEBUG\twww.bipads.com/com/alibaba/vqcr8bp0gud&amp%3Blc=1033&amp%3Bid=64855&amp%3Bmkt=en-us&amp%3Bcbcxt=mai&amp%3Bsnsc.php?email=abuse@creatordesign.com\n",
      "2018-04-08 12:46:53 cluster_engine.py [line:128] DEBUG\twww.bipads.com/com/alibaba/vqcr8bp0gud&amp%3Blc=1033&amp%3Bid=64855&amp%3Bmkt=en-us&amp%3Bcbcxt=mai&amp%3Bsnsc.php\n",
      "2018-04-08 12:46:53 cluster_engine.py [line:128] DEBUG\ttest.glasswork.ge/Alibaba/alibaba/vqcr8bp0gud&amp%3Blc=1033&amp%3Bid=64855&amp%3Bmkt=en-us&amp%3Bcbcxt=mai&amp%3Bsnsc.php?email=info@dakang-energy.com\n",
      "2018-04-08 12:46:53 cluster_engine.py [line:128] DEBUG\tflagsigns.ca/wp-admin/css/alibaba/vqcr8bp0gud&amp%3Blc=1033&amp%3Bid=64855&amp%3Bmkt=en-us&amp%3Bcbcxt=mai&amp%3Bsnsc.php?email=abuse@none.co.kr\n",
      "2018-04-08 12:46:53 cluster_engine.py [line:128] DEBUG\twww.bipads.com/com/alibaba/vqcr8bp0gud&amp%3Blc=1033&amp%3Bid=64855&amp%3Bmkt=en-us&amp%3Bcbcxt=mai&amp%3Bsnsc.php?email=info@bhairaviexim.com\n",
      "2018-04-08 12:46:53 cluster_engine.py [line:128] DEBUG\treposomolina.com/album/util/alibaba/vqcr8bp0gud&amp%3Blc=1033&amp%3Bid=64855&amp%3Bmkt=en-us&amp%3Bcbcxt=mai&amp%3Bsnsc.php?email=abuse@hugle.com\n",
      "2018-04-08 12:46:53 cluster_engine.py [line:128] DEBUG\twww.bipads.com/com/alibaba/vqcr8bp0gud&amp%3Blc=1033&amp%3Bid=64855&amp%3Bmkt=en-us&amp%3Bcbcxt=mai&amp%3Bsnsc.php?email=abuse@phil-chem.com\n",
      "2018-04-08 12:46:53 cluster_engine.py [line:128] DEBUG\tflagsigns.ca/wp-admin/css/alibaba/vqcr8bp0gud&amp%3Blc=1033&amp%3Bid=64855&amp%3Bmkt=en-us&amp%3Bcbcxt=mai&amp%3Bsnsc.php?email=abuse@dmsong.com\n",
      "2018-04-08 12:46:53 cluster_engine.py [line:128] DEBUG\ttest.glasswork.ge/Alibaba/alibaba/vqcr8bp0gud&amp%3Blc=1033&amp%3Bid=64855&amp%3Bmkt=en-us&amp%3Bcbcxt=mai&amp%3Bsnsc.php?email=abuse@rediffmail.com%2520\n",
      "2018-04-08 12:46:53 cluster_engine.py [line:128] DEBUG\tpennyboxapp.com/js/alibaba/vqcr8bp0gud&amp%3Blc=1033&amp%3Bid=64855&amp%3Bmkt=en-us&amp%3Bcbcxt=mai&amp%3Bsnsc.php?email=abuse@zte.com\n",
      "2018-04-08 12:46:53 cluster_engine.py [line:128] DEBUG\ttest.glasswork.ge/Alibaba/alibaba/vqcr8bp0gud&amp%3Blc=1033&amp%3Bid=64855&amp%3Bmkt=en-us&amp%3Bcbcxt=mai&amp%3Bsnsc.php?email=abuse@tessuta.com\n",
      "2018-04-08 12:46:53 cluster_engine.py [line:128] DEBUG\twww.bipads.com/lib/alibaba/vqcr8bp0gud&amp%3Blc=1033&amp%3Bid=64855&amp%3Bmkt=en-us&amp%3Bcbcxt=mai&amp%3Bsnsc.php?email=abuse@gmil.com\n",
      "2018-04-08 12:46:53 cluster_engine.py [line:128] DEBUG\treposomolina.com/album/util/alibaba/vqcr8bp0gud&amp%3Blc=1033&amp%3Bid=64855&amp%3Bmkt=en-us&amp%3Bcbcxt=mai&amp%3Bsnsc.php?email=abuse@honglang-dl.com\n",
      "2018-04-08 12:46:53 cluster_engine.py [line:128] DEBUG\tflagsigns.ca/wp-admin/css/alibaba/vqcr8bp0gud&amp%3Blc=1033&amp%3Bid=64855&amp%3Bmkt=en-us&amp%3Bcbcxt=mai&amp%3Bsnsc.php?email=abuse@honmail.net\n",
      "2018-04-08 12:46:53 cluster_engine.py [line:128] DEBUG\tbipads.com/com/alibaba/vqcr8bp0gud&amp%3Blc=1033&amp%3Bid=64855&amp%3Bmkt=en-us&amp%3Bcbcxt=mai&amp%3Bsnsc.php\n",
      "2018-04-08 12:46:53 cluster_engine.py [line:128] DEBUG\ttest.glasswork.ge/Alibaba/alibaba/vqcr8bp0gud&amp%3Blc=1033&amp%3Bid=64855&amp%3Bmkt=en-us&amp%3Bcbcxt=mai&amp%3Bsnsc.php?email=abuse@biznevigator.com\n",
      "2018-04-08 12:46:53 cluster_engine.py [line:128] DEBUG\tpennyboxapp.com/js/alibaba/vqcr8bp0gud&amp%3Blc=1033&amp%3Bid=64855&amp%3Bmkt=en-us&amp%3Bcbcxt=mai&amp%3Bsnsc.php?email=abuse@gmai.com\n",
      "2018-04-08 12:46:53 cluster_engine.py [line:131] DEBUG\t>>>>>>> BATCH:2/1\tTOTAL:107\tDONE:79\n",
      "2018-04-08 12:46:53 cluster_engine.py [line:117] DEBUG\t----------------18------------------\n",
      "2018-04-08 12:46:53 cluster_engine.py [line:128] DEBUG\tpennyboxapp.com/js/alibaba/vqcr8bp0gud&amp%3Blc=1033&amp%3Bid=64855&amp%3Bmkt=en-us&amp%3Bcbcxt=mai&amp%3Bsnsc.php?.rand=13vqcr8bp0gud&amp%3Bcbcxt=mai&amp%3Bemail=abuse@prakashtextiles.com%2520&amp%3Bid=64855&amp%3Blc=1033&amp%3Bmkt=en-us&amp%3Bsnsc=1\n",
      "2018-04-08 12:46:53 cluster_engine.py [line:128] DEBUG\ttranspack.by/Tiger/Alibaba.com/www.alibaba.com/alibaba/vqcr8bp0gud&amp%3Blc=1033&amp%3Bid=64855&amp%3Bmkt=en-us&amp%3Bcbcxt=mai&amp%3Bsnsc.php?.rand=13vqcr8bp0gud&amp%3Bcbcxt=mai&amp%3Bemail=pxmirhoidbbf.com%2520&amp%3Bid=64855&amp%3Blc=1033&amp%3Bmkt=en-us&amp%3Bsnsc=1\n",
      "2018-04-08 12:46:53 cluster_engine.py [line:128] DEBUG\ttranspack.by/Tiger/Alibaba.com/www.alibaba.com/alibaba/vqcr8bp0gud&amp%3Blc=1033&amp%3Bid=64855&amp%3Bmkt=en-us&amp%3Bcbcxt=mai&amp%3Bsnsc.php?.rand=13vqcr8bp0gud&amp%3Bcbcxt=mai&amp%3Bemail=lehosfsrhbxaoiefsias.com%2520&amp%3Bid=64855&amp%3Blc=1033&amp%3Bmkt=en-us&amp%3Bsnsc=1\n",
      "2018-04-08 12:46:53 cluster_engine.py [line:131] DEBUG\t>>>>>>> BATCH:2/1\tTOTAL:107\tDONE:80\n",
      "2018-04-08 12:46:53 cluster_engine.py [line:117] DEBUG\t----------------20------------------\n",
      "2018-04-08 12:46:54 cluster_engine.py [line:128] DEBUG\twww.downloadarabicsoft.com/wp-content/uploads/2014/12/www.alibaba.com/alibaba/vqcr8bp0gud&amp%3Blc=1033&amp%3Bid=64855&amp%3Bmkt=en-us&amp%3Bcbcxt=mai&amp%3Bsnsc.php?dtern=abuse@lbezbdxdjm.bev&amp%3B.zcta=38hdeg9cu0sgb&amp%3Bdc=1243&amp%3Bmd=94991&amp%3Bamm=ak-zx&amp%3Beedbd=ufs&amp%3Bqsze=6\n"
     ]
    },
    {
     "name": "stderr",
     "output_type": "stream",
     "text": [
      "2018-04-08 12:46:54 cluster_engine.py [line:128] DEBUG\twww.downloadarabicsoft.com/wp-content/uploads/2014/12/www.alibaba.com/alibaba/vqcr8bp0gud&amp%3Blc=1033&amp%3Bid=64855&amp%3Bmkt=en-us&amp%3Bcbcxt=mai&amp%3Bsnsc.php?bgfvx=abuse@waaidfodmj.avo&amp%3B.vdse=77llea3ei9ncd&amp%3Bte=9402&amp%3Byb=81894&amp%3Bljg=ag-og&amp%3Bcecbx=ial&amp%3Bufwd=7\n",
      "2018-04-08 12:46:54 cluster_engine.py [line:131] DEBUG\t>>>>>>> BATCH:2/1\tTOTAL:107\tDONE:82\n",
      "2018-04-08 12:46:54 cluster_engine.py [line:117] DEBUG\t----------------25------------------\n",
      "2018-04-08 12:46:54 cluster_engine.py [line:128] DEBUG\tsecure.billinginfo-aim.com.longhotwater.com/billupdating.aol.com/SPortal/jsp/contact_primary_update.jsp/AOL.Mail.Topics/Qs8hUMSoDpS88wT7loGQAw&amp%3Busg=AFQjCNGksDVHEuI7EPo9gzjsE5ZsDdHUXQ&amp%3Bcad3s8hUP7gIKi20AGkyYCgCQ&amp%3Busg=AFQjCNFxtUK6hnw0qh0TXElykCcVM0rDhA&amp%3Bcad.html\n",
      "2018-04-08 12:46:54 cluster_engine.py [line:131] DEBUG\t>>>>>>> BATCH:2/1\tTOTAL:107\tDONE:83\n",
      "2018-04-08 12:46:54 cluster_engine.py [line:117] DEBUG\t----------------30------------------\n",
      "2018-04-08 12:46:54 cluster_engine.py [line:128] DEBUG\treposomolina.com/album/util/alibaba/vqcr8bp0gud&amp%3Blc=1033&amp%3Bid=64855&amp%3Bmkt=en-us&amp%3Bcbcxt=mai&amp%3Bsnsc.php\n",
      "2018-04-08 12:46:54 cluster_engine.py [line:128] DEBUG\tavtocenter-nsk.ru/themes/www.alibaba.com/alibaba/vqcr8bp0gud&amp%3Blc=1033&amp%3Bid=64855&amp%3Bmkt=en-us&amp%3Bcbcxt=mai&amp%3Bsnsc.php\n",
      "2018-04-08 12:46:54 cluster_engine.py [line:128] DEBUG\tbizimsurucukursu.com/font/www.Alibaba.com/vqcr8bp0gud&amp%3Blc=1033&amp%3Bid=64855&amp%3Bmkt=en-us&amp%3Bcbcxt=mai&amp%3Bsnsc.php\n",
      "2018-04-08 12:46:54 cluster_engine.py [line:128] DEBUG\tbipads.com/lib/alibaba/vqcr8bp0gud&amp%3Blc=1033&amp%3Bid=64855&amp%3Bmkt=en-us&amp%3Bcbcxt=mai&amp%3Bsnsc.php\n",
      "2018-04-08 12:46:54 cluster_engine.py [line:128] DEBUG\twww.bipads.com/com/alibaba/vqcr8bp0gud&amp%3Blc=1033&amp%3Bid=64855&amp%3Bmkt=en-us&amp%3Bcbcxt=mai&amp%3Bsnsc.php\n",
      "2018-04-08 12:46:54 cluster_engine.py [line:128] DEBUG\treposomolina.com/album/util/alibaba/vqcr8bp0gud&amp%3Blc=1033&amp%3Bid=64855&amp%3Bmkt=en-us&amp%3Bcbcxt=mai&amp%3Bsnsc.php?email=abuse@hugle.com\n",
      "2018-04-08 12:46:54 cluster_engine.py [line:128] DEBUG\twww.mgba.org/wp-includes/css/www.alibaba.com/alibaba/vqcr8bp0gud&amp%3Blc=1033&amp%3Bid=64855&amp%3Bmkt=en-us&amp%3Bcbcxt=mai&amp%3Bsnsc.php\n",
      "2018-04-08 12:46:54 cluster_engine.py [line:128] DEBUG\twww.moneyclipdirect.com/MIAMI/www.alibaba.com/alibaba/vqcr8bp0gud&amp%3Blc=1033&amp%3Bid=64855&amp%3Bmkt=en-us&amp%3Bcbcxt=mai&amp%3Bsnsc.php\n",
      "2018-04-08 12:46:54 cluster_engine.py [line:128] DEBUG\tchalkshades.com/css/www.Alibaba.com/vqcr8bp0gud&amp%3Blc=1033&amp%3Bid=64855&amp%3Bmkt=en-us&amp%3Bcbcxt=mai&amp%3Bsnsc.php\n",
      "2018-04-08 12:46:54 cluster_engine.py [line:128] DEBUG\ttranspack.by/Tiger/Alibaba.com/www.alibaba.com/alibaba/vqcr8bp0gud&amp%3Blc=1033&amp%3Bid=64855&amp%3Bmkt=en-us&amp%3Bcbcxt=mai&amp%3Bsnsc.php\n",
      "2018-04-08 12:46:54 cluster_engine.py [line:128] DEBUG\treposomolina.com/album/util/alibaba/vqcr8bp0gud&amp%3Blc=1033&amp%3Bid=64855&amp%3Bmkt=en-us&amp%3Bcbcxt=mai&amp%3Bsnsc.php?email=abuse@honglang-dl.com\n",
      "2018-04-08 12:46:54 cluster_engine.py [line:128] DEBUG\tbipads.com/com/alibaba/vqcr8bp0gud&amp%3Blc=1033&amp%3Bid=64855&amp%3Bmkt=en-us&amp%3Bcbcxt=mai&amp%3Bsnsc.php\n",
      "2018-04-08 12:46:54 cluster_engine.py [line:131] DEBUG\t>>>>>>> BATCH:2/1\tTOTAL:107\tDONE:86\n",
      "2018-04-08 12:46:54 cluster_engine.py [line:117] DEBUG\t----------------36------------------\n",
      "2018-04-08 12:46:54 cluster_engine.py [line:128] DEBUG\tlh6.googleusercontent.com/-kXknkrcXcpE/VOn4DqJWHCI/AAAAAAAAAK4/trPZRy5aLJM/s284/GUARDIAO-ITAU-30-HORAS.png&amp%3BretryCount=3\n",
      "2018-04-08 12:46:54 cluster_engine.py [line:131] DEBUG\t>>>>>>> BATCH:2/1\tTOTAL:107\tDONE:87\n",
      "2018-04-08 12:46:54 cluster_engine.py [line:117] DEBUG\t----------------37------------------\n",
      "2018-04-08 12:46:54 cluster_engine.py [line:128] DEBUG\tmichelinivivai.it/AccountInfo&amp%3B&amp%3BLogin.php\n",
      "2018-04-08 12:46:54 cluster_engine.py [line:128] DEBUG\twww.michelinivivai.it/AccountInfo&amp%3B&amp%3BLogin.php\n",
      "2018-04-08 12:46:54 cluster_engine.py [line:131] DEBUG\t>>>>>>> BATCH:2/1\tTOTAL:107\tDONE:89\n",
      "2018-04-08 12:46:54 cluster_engine.py [line:117] DEBUG\t----------------38------------------\n",
      "2018-04-08 12:46:55 cluster_engine.py [line:128] DEBUG\tbitbuckets.org/wp-includes/Requests/Response/www.alibaba.com/alibaba/vqcr8bp0gud&amp%3Blc=1033&amp%3Bid=64855&amp%3Bmkt=en-us&amp%3Bcbcxt=mai&amp%3Bsnsc.php?dbago=abuse@fntawdltek.evu&amp%3B.nabd=94fcak5at3yue&amp%3Bia=9388&amp%3Byd=65872&amp%3Bmbv=bt-ns&amp%3Bcfcco=udy&amp%3Bwymc=1\n",
      "2018-04-08 12:46:55 cluster_engine.py [line:131] DEBUG\t>>>>>>> BATCH:2/1\tTOTAL:107\tDONE:90\n",
      "2018-04-08 12:46:55 cluster_engine.py [line:117] DEBUG\t----------------39------------------\n",
      "2018-04-08 12:46:55 cluster_engine.py [line:128] DEBUG\twww.konsumenttestargruppen.com/survey/samsi/source=ho/subid=no&amp%3Bsubid2=1014&amp%3Bcid=102f8c60bff32a9be677faf53ea337\n",
      "2018-04-08 12:46:55 cluster_engine.py [line:131] DEBUG\t>>>>>>> BATCH:2/1\tTOTAL:107\tDONE:91\n",
      "2018-04-08 12:46:55 cluster_engine.py [line:117] DEBUG\t----------------42------------------\n",
      "2018-04-08 12:46:55 cluster_engine.py [line:128] DEBUG\t80.211.156.29/signin_country.x=&amp%3BIE.html\n",
      "2018-04-08 12:46:55 cluster_engine.py [line:131] DEBUG\t>>>>>>> BATCH:2/1\tTOTAL:107\tDONE:92\n",
      "2018-04-08 12:46:55 cluster_engine.py [line:117] DEBUG\t----------------43------------------\n",
      "2018-04-08 12:46:55 cluster_engine.py [line:128] DEBUG\t150.242.180.31/cfdocs/signincountry.x=IE/&amp%3Blocale.x=en_IE_webscrcmd=_flow&amp%3BSESSION=fj3e0IlvRchc_C8ZALZvQnhgZpt6H88T891BQx9pVCjhGkAY1FQ1pAMIboC&amp%3Bdispatch=c70bbe41527861c2b97c3d1f6a850acfdd2fbb19a3d47242b071efa252ac2167e47ebd1fddf0fdac1ac624e4a02f3a6e9e5dc3855.html\n",
      "2018-04-08 12:46:55 cluster_engine.py [line:131] DEBUG\t>>>>>>> BATCH:2/1\tTOTAL:107\tDONE:93\n",
      "2018-04-08 12:46:55 cluster_engine.py [line:117] DEBUG\t----------------50------------------\n",
      "2018-04-08 12:46:55 cluster_engine.py [line:128] DEBUG\twww.avtocenter-nsk.ru/images/www.alibaba.com/alibaba/vqcr8bp0gud&amp%3Blc=1033&amp%3Bid=64855&amp%3Bmkt=en-us&amp%3Bcbcxt=mai&amp%3Bsnsc.php?email=abuse@moduscustomsofas.com&amp%3B.?url_type=footer_privacy&amp%3Bbiz_type=Notifications_MC&amp%3Bcrm_mtn_tracelog_task_id=fc960c38-1eab-40e4-b8a9-d34ce7d2c093&amp%3Bcrm_mtn_tracelog_log_id=13712324325\n",
      "2018-04-08 12:46:55 cluster_engine.py [line:128] DEBUG\twww.avtocenter-nsk.ru/images/www.alibaba.com/alibaba/vqcr8bp0gud&amp%3Blc=1033&amp%3Bid=64855&amp%3Bmkt=en-us&amp%3Bcbcxt=mai&amp%3Bsnsc.php?email=abuse@moduscustomsofas.com&amp%3B.?url_type=footer_term&amp%3Bbiz_type=Notifications_MC&amp%3Bcrm_mtn_tracelog_task_id=fc960c38-1eab-40e4-b8a9-d34ce7d2c093&amp%3Bcrm_mtn_tracelog_log_id=13712324325\n",
      "2018-04-08 12:46:55 cluster_engine.py [line:131] DEBUG\t>>>>>>> BATCH:2/1\tTOTAL:107\tDONE:95\n",
      "2018-04-08 12:46:55 cluster_engine.py [line:117] DEBUG\t----------------54------------------\n",
      "2018-04-08 12:46:56 cluster_engine.py [line:128] DEBUG\tfedericafratoni.net/Docusign/@_&amp%3B%2525%255E&amp%3B%255E%2525%24%2523%2523%24%2525%255E%255E%2525@/\n",
      "2018-04-08 12:46:56 cluster_engine.py [line:131] DEBUG\t>>>>>>> BATCH:2/1\tTOTAL:107\tDONE:96\n",
      "2018-04-08 12:46:56 cluster_engine.py [line:117] DEBUG\t----------------61------------------\n",
      "2018-04-08 12:46:56 cluster_engine.py [line:128] DEBUG\twww.theworldintuitionsummit.com/career/work&amp%3Bpay.htm\n",
      "2018-04-08 12:46:56 cluster_engine.py [line:131] DEBUG\t>>>>>>> BATCH:2/1\tTOTAL:107\tDONE:97\n",
      "2018-04-08 12:46:56 cluster_engine.py [line:117] DEBUG\t----------------66------------------\n",
      "2018-04-08 12:46:56 cluster_engine.py [line:128] DEBUG\tsteaRNcommuniFy.ml/tradeoffer/new/logon/&amp%3Bpartner=324719633&amp%3Btoken=S6WYNZv8\n",
      "2018-04-08 12:46:56 cluster_engine.py [line:131] DEBUG\t>>>>>>> BATCH:2/1\tTOTAL:107\tDONE:98\n",
      "2018-04-08 12:46:56 cluster_engine.py [line:117] DEBUG\t----------------67------------------\n",
      "2018-04-08 12:46:56 cluster_engine.py [line:128] DEBUG\tromanegila.net/plugins/AT&amp%3BT%2520-%2520Login.php\n",
      "2018-04-08 12:46:56 cluster_engine.py [line:131] DEBUG\t>>>>>>> BATCH:2/1\tTOTAL:107\tDONE:99\n",
      "2018-04-08 12:46:56 cluster_engine.py [line:117] DEBUG\t----------------70------------------\n",
      "2018-04-08 12:46:56 cluster_engine.py [line:128] DEBUG\tus.raystream.com/dio/paypal.de/pp/.9d4f47e6389393e534a5e8a8f2/cgi-bin/webscrcmd=_login-run&amp%3Bdispatch=5885d80a13c0db1f8e263663d3faee8dc60d77e6184470d51976060a4ab6ee74.php\n"
     ]
    },
    {
     "name": "stderr",
     "output_type": "stream",
     "text": [
      "2018-04-08 12:46:56 cluster_engine.py [line:131] DEBUG\t>>>>>>> BATCH:2/1\tTOTAL:107\tDONE:100\n",
      "2018-04-08 12:46:56 cluster_engine.py [line:117] DEBUG\t----------------72------------------\n",
      "2018-04-08 12:46:57 cluster_engine.py [line:128] DEBUG\tpennyboxapp.com/js/alibaba/vqcr8bp0gud&amp%3Blc=1033&amp%3Bid=64855&amp%3Bmkt==\n",
      "2018-04-08 12:46:57 cluster_engine.py [line:131] DEBUG\t>>>>>>> BATCH:2/1\tTOTAL:107\tDONE:101\n",
      "2018-04-08 12:46:57 cluster_engine.py [line:117] DEBUG\t----------------81------------------\n",
      "2018-04-08 12:46:57 cluster_engine.py [line:128] DEBUG\ttest.glasswork.ge/Alibaba/alibaba/vqcr8bp0gud&amp%3Blc=1033&amp%3Bid=64855&amp%3Bmkt=en-us&amp%3Bcbcxt=mai&amp%3Bsnsc.php?dsbfo=abuse@ydfzcfsbsq.ctt9\n",
      "2018-04-08 12:46:57 cluster_engine.py [line:128] DEBUG\tflagsigns.ca/wp-admin/css/alibaba/vqcr8bp0gud&amp%3Blc=1033&amp%3Bid=64855&amp%3Bmkt=en-us&amp%3Bcbcxt=mai&amp%3Bsnsc.php?email=abuse@dmsong.com\n",
      "2018-04-08 12:46:57 cluster_engine.py [line:128] DEBUG\ttest.glasswork.ge/Alibaba/alibaba/vqcr8bp0gud&amp%3Blc=1033&amp%3Bid=64855&amp%3Bmkt=en-us&amp%3Bcbcxt=mai&amp%3Bsnsc.php?email=abuse@rediffmail.com%2520\n",
      "2018-04-08 12:46:57 cluster_engine.py [line:128] DEBUG\tpennyboxapp.com/js/alibaba/vqcr8bp0gud&amp%3Blc=1033&amp%3Bid=64855&amp%3Bmkt=en-us&amp%3Bcbcxt=mai&amp%3Bsnsc.php?email=abuse@zte.com\n",
      "2018-04-08 12:46:57 cluster_engine.py [line:128] DEBUG\ttest.glasswork.ge/Alibaba/alibaba/vqcr8bp0gud&amp%3Blc=1033&amp%3Bid=64855&amp%3Bmkt=en-us&amp%3Bcbcxt=mai&amp%3Bsnsc.php?email=abuse@tessuta.com\n",
      "2018-04-08 12:46:57 cluster_engine.py [line:128] DEBUG\twww.bipads.com/lib/alibaba/vqcr8bp0gud&amp%3Blc=1033&amp%3Bid=64855&amp%3Bmkt=en-us&amp%3Bcbcxt=mai&amp%3Bsnsc.php?email=abuse@gmil.com\n",
      "2018-04-08 12:46:57 cluster_engine.py [line:128] DEBUG\treposomolina.com/album/util/alibaba/vqcr8bp0gud&amp%3Blc=1033&amp%3Bid=64855&amp%3Bmkt=en-us&amp%3Bcbcxt=mai&amp%3Bsnsc.php?email=abuse@honglang-dl.com\n",
      "2018-04-08 12:46:57 cluster_engine.py [line:128] DEBUG\tflagsigns.ca/wp-admin/css/alibaba/vqcr8bp0gud&amp%3Blc=1033&amp%3Bid=64855&amp%3Bmkt=en-us&amp%3Bcbcxt=mai&amp%3Bsnsc.php?email=abuse@honmail.net\n",
      "2018-04-08 12:46:57 cluster_engine.py [line:128] DEBUG\ttest.glasswork.ge/Alibaba/alibaba/vqcr8bp0gud&amp%3Blc=1033&amp%3Bid=64855&amp%3Bmkt=en-us&amp%3Bcbcxt=mai&amp%3Bsnsc.php?email=abuse@biznevigator.com\n",
      "2018-04-08 12:46:57 cluster_engine.py [line:128] DEBUG\tpennyboxapp.com/js/alibaba/vqcr8bp0gud&amp%3Blc=1033&amp%3Bid=64855&amp%3Bmkt=en-us&amp%3Bcbcxt=mai&amp%3Bsnsc.php?email=abuse@gmai.com\n",
      "2018-04-08 12:46:57 cluster_engine.py [line:131] DEBUG\t>>>>>>> BATCH:2/1\tTOTAL:107\tDONE:102\n",
      "2018-04-08 12:46:57 cluster_engine.py [line:117] DEBUG\t----------------84------------------\n",
      "2018-04-08 12:46:57 cluster_engine.py [line:128] DEBUG\twww.avtocenter-nsk.ru/images/www.alibaba.com/alibaba/vqcr8bp0gud&amp%3Blc=1033&amp%3Bid=64855&amp%3Bmkt=en-us&amp%3Bcbcxt=mai&amp%3Bsnsc.php?email=abuse@moduscustomsofas.com&amp%3B.?url_type=footer_unsub&amp%3Btracelog=unsub_con&amp%3B_000_e_a_=D5n519d740kn\n",
      "2018-04-08 12:46:57 cluster_engine.py [line:128] DEBUG\twww.avtocenter-nsk.ru/images/www.alibaba.com/alibaba/vqcr8bp0gud&amp%3Blc=1033&amp%3Bid=64855&amp%3Bmkt=en-us&amp%3Bcbcxt=mai&amp%3Bsnsc.php?email=abuse@moduscustomsofas.com&amp%3B.rand=13vqcr8bp0gud&amp%3Blc=1033&amp%3Bid=64855&amp%3Bmkt=en-us&amp%3Bcbcxt=mai&amp%3Bsnsc=1\n",
      "2018-04-08 12:46:57 cluster_engine.py [line:131] DEBUG\t>>>>>>> BATCH:2/1\tTOTAL:107\tDONE:103\n",
      "2018-04-08 12:46:57 cluster_engine.py [line:117] DEBUG\t----------------85------------------\n",
      "2018-04-08 12:46:57 cluster_engine.py [line:128] DEBUG\twww.liceojacopone.it/archiviositiliceo/2005_08/viewtopic.php-f=2&amp%3Bt=390.htm\n",
      "2018-04-08 12:46:57 cluster_engine.py [line:131] DEBUG\t>>>>>>> BATCH:2/1\tTOTAL:107\tDONE:104\n",
      "2018-04-08 12:46:57 cluster_engine.py [line:117] DEBUG\t----------------92------------------\n",
      "2018-04-08 12:46:57 cluster_engine.py [line:128] DEBUG\twww.alliedcrutch.com/197f8ec811a85a3090e34719cce8270d5bc60315-0-0-0/&amp%3Bc1=3&amp%3Bc2=oyuyuii&amp%3Bc3=oyuyuii\n",
      "2018-04-08 12:46:57 cluster_engine.py [line:131] DEBUG\t>>>>>>> BATCH:2/1\tTOTAL:107\tDONE:105\n",
      "2018-04-08 12:46:57 cluster_engine.py [line:117] DEBUG\t----------------100------------------\n",
      "2018-04-08 12:46:58 cluster_engine.py [line:128] DEBUG\twww.vodbe.com/)&gt%3B&gt%3B&gt%3B&gt%3B%5D\n",
      "2018-04-08 12:46:58 cluster_engine.py [line:131] DEBUG\t>>>>>>> BATCH:2/1\tTOTAL:107\tDONE:106\n",
      "2018-04-08 12:46:58 cluster_engine.py [line:117] DEBUG\t----------------102------------------\n",
      "2018-04-08 12:46:58 cluster_engine.py [line:128] DEBUG\tsilverbeatband.com/images/product/Email-Alibaba_shopping_page&amp%3B.srcproduct=93433.html\n",
      "2018-04-08 12:46:58 cluster_engine.py [line:131] DEBUG\t>>>>>>> BATCH:2/1\tTOTAL:107\tDONE:107\n",
      "2018-04-08 12:46:58 cluster_engine.py [line:117] DEBUG\t----------------0------------------\n",
      "2018-04-08 12:46:58 cluster_engine.py [line:128] DEBUG\tdougjackson.com.au/wptos/(%2A&amp%3B(%255E&amp%3B%2523%255E%2525%2525%24%2525%2523%255E&amp%3B%2525%255E%2523&amp%3B%255E%2A%2523%255E%2525%2A&amp%3B%2523%2525&amp%3B%255E%2525&amp%3B%2A%255E@%255E&amp%3B%2A@(%2A@%2A@%255E&amp%3B%255E%2A&amp%3B@%2A&amp%3B@&amp%3B%2525%255E%2525%255E&amp%3B%2523@%24%2525%255E%24%2525@%24%255E&amp%3B%2525@%2525%24%255E@%255E%2525@&amp%3B%255E%24@%255E&amp%3B@%2A%2525%255E%24@%2525@%255E%2A&amp%3B@%2525%255E%2525%24@%24%255E%2525&amp%3B@%2A%255E%2525%24@%2525%255E&amp%3B@%2A@%255E%2525@%255E%2A&amp%3B%255E%2A@(%2A&amp%3B@%255E%2525@%255E@&amp%3B%255E%2525%2525@%255E&amp%3B%2A%2525%255E@@%2A%255E@%2525&amp%3B%2A%255E@%255E@(@%255E@%2525%255E&amp%3B@%255E@%255E@%2525@%2525@&amp%3B%2A@@@%2525@%255E/\n",
      "2018-04-08 12:46:58 cluster_engine.py [line:131] DEBUG\t>>>>>>> BATCH:2/2\tTOTAL:1\tDONE:1\n",
      "2018-04-08 12:46:58 cluster_engine.py [line:136] DEBUG\tk-means time cost:\t6.524116\n"
     ]
    }
   ],
   "source": [
    "print cluster_engine.EDIT_DISTANCE_THRESH_LONG\n",
    "print cluster_engine.EDIT_DISTANCE_THRESH_SHORT\n",
    "print cluster_engine.LONG_URL_THRESH\n",
    "print cluster_engine.SHORT_URL_THRESH\n",
    "\n",
    "cluster_engine.make_string_distance_cluster(data = '../../data/phishtank/phishtank_cluster_kmeams.json', \n",
    "                             metric = \"distance\",  \n",
    "                             file_path = \"../../data/phishtank/phishtank_cluster_distance.json\")"
   ]
  },
  {
   "cell_type": "code",
   "execution_count": 9,
   "metadata": {
    "scrolled": true
   },
   "outputs": [
    {
     "name": "stderr",
     "output_type": "stream",
     "text": [
      "2018-04-08 12:47:03 regex_engine.py [line:46] DEBUG\tCluster Data has been loaded\t../../data/phishtank/phishtank_cluster_distance.json\n",
      "2018-04-08 12:47:03 regex_engine.py [line:224] DEBUG\ttotal cluster num:\t32\n",
      "2018-04-08 12:47:03 regex_engine.py [line:226] DEBUG\tbig cluster:\t8\n",
      "2018-04-08 12:47:03 regex_engine.py [line:228] DEBUG\tsmall cluster:\t6\n",
      "2018-04-08 12:47:03 regex_engine.py [line:229] DEBUG\tsingle one:\t18\n",
      "2018-04-08 12:47:03 regex_engine.py [line:230] DEBUG\tcluster size detail:\tCounter({1: 18, 2: 5, 10: 2, 35: 1, 36: 1, 7: 1, 9: 1, 12: 1, 46: 1, 3: 1})\n"
     ]
    },
    {
     "name": "stdout",
     "output_type": "stream",
     "text": [
      "12\n",
      "12\n",
      "50\n"
     ]
    },
    {
     "name": "stderr",
     "output_type": "stream",
     "text": [
      "2018-04-08 12:47:08 regex_engine.py [line:193] DEBUG\tsimplifiedproperties.co.uk/img/login/alishaw/alibaba/Alibaba.com/www.alibaba.com/alibaba/vqcr8bp0gud&amp%3Blc=1033&amp%3Bid=64855&amp%3Bmkt=en-us&amp%3Bcbcxt=mai&amp%3Bsnsc.php\n",
      "2018-04-08 12:47:08 regex_engine.py [line:193] DEBUG\tsimplifiedproperties.co.uk/img/login/alishaw/alibaba/Alibaba.com/www.alibaba.com/alibaba/vqcr8bp0gud&amp%3Blc=1033&amp%3Bid=64855&amp%3Bmkt=en-us&amp%3Bcbcxt=mai&amp%3Bsnsc.php?email=abuse@gdboost.com\n",
      "2018-04-08 12:47:08 regex_engine.py [line:193] DEBUG\tsimplifiedproperties.co.uk/img/login/alishaw/alibaba/Alibaba.com/www.alibaba.com/alibaba/vqcr8bp0gud&amp%3Blc=1033&amp%3Bid=64855&amp%3Bmkt=en-us&amp%3Bcbcxt=mai&amp%3Bsnsc.php?email=abuse@sabic.com\n",
      "2018-04-08 12:47:08 regex_engine.py [line:193] DEBUG\tsimplifiedproperties.co.uk/img/login/alishaw/alibaba/Alibaba.com/www.alibaba.com/alibaba/vqcr8bp0gud&amp%3Blc=1033&amp%3Bid=64855&amp%3Bmkt=en-us&amp%3Bcbcxt=mai&amp%3Bsnsc.php?email=abuse@sabic-ip.com\n",
      "2018-04-08 12:47:08 regex_engine.py [line:193] DEBUG\tsimplifiedproperties.co.uk/img/login/alishaw/alibaba/Alibaba.com/www.alibaba.com/alibaba/vqcr8bp0gud&amp%3Blc=1033&amp%3Bid=64855&amp%3Bmkt=en-us&amp%3Bcbcxt=mai&amp%3Bsnsc.php?email=abuse@hipowergroup.com\n",
      "2018-04-08 12:47:08 regex_engine.py [line:193] DEBUG\tdownloadarabicsoft.com/wp-content/uploads/2014/12/www.alibaba.com/alibaba/vqcr8bp0gud&amp%3Blc=1033&amp%3Bid=64855&amp%3Bmkt=en-us&amp%3Bcbcxt=mai&amp%3Bsnsc.php\n",
      "2018-04-08 12:47:08 regex_engine.py [line:193] DEBUG\tcolor-bug.se/wp-content/alishaw/Alibaba.com/www.alibaba.com/alibaba/vqcr8bp0gud&amp%3Blc=1033&amp%3Bid=64855&amp%3Bmkt=en-us&amp%3Bcbcxt=mai&amp%3Bsnsc.php\n",
      "2018-04-08 12:47:08 regex_engine.py [line:193] DEBUG\tsimplifiedproperties.co.uk/img/login/alishaw/alibaba/Alibaba.com/www.alibaba.com/alibaba/vqcr8bp0gud&amp%3Blc=1033&amp%3Bid=64855&amp%3Bmkt=en-us&amp%3Bcbcxt=mai&amp%3Bsnsc.php?email=abuse@metalnet.net\n",
      "2018-04-08 12:47:08 regex_engine.py [line:193] DEBUG\ttranspack.by/Tiger/Alibaba.com/www.alibaba.com/alibaba/vqcr8bp0gud&amp%3Blc=1033&amp%3Bid=64855&amp%3Bmkt=en-us&amp%3Bcbcxt=mai&amp%3Bsnsc.php\n",
      "2018-04-08 12:47:08 regex_engine.py [line:197] DEBUG\tindex:\t2\t['/www\\\\.alibaba\\\\.com/alibaba/vqcr8bp0gud&amp%3Blc=1033&amp%3Bid=64855&amp%3Bmkt=en-us&amp%3Bcbcxt=mai&amp%3Bsnsc\\\\.php']\n",
      "2018-04-08 12:47:09 regex_engine.py [line:193] DEBUG\ttest.glasswork.ge/Alibaba/alibaba/vqcr8bp0gud&amp%3Blc=1033&amp%3Bid=64855&amp%3Bmkt=en-us&amp%3Bcbcxt=mai&amp%3Bsnsc.php?dsbfo=abuse@ydfzcfsbsq.ctt9\n",
      "2018-04-08 12:47:09 regex_engine.py [line:193] DEBUG\tflagsigns.ca/wp-admin/css/alibaba/vqcr8bp0gud&amp%3Blc=1033&amp%3Bid=64855&amp%3Bmkt=en-us&amp%3Bcbcxt=mai&amp%3Bsnsc.php?email=abuse@dmsong.com\n",
      "2018-04-08 12:47:09 regex_engine.py [line:193] DEBUG\ttest.glasswork.ge/Alibaba/alibaba/vqcr8bp0gud&amp%3Blc=1033&amp%3Bid=64855&amp%3Bmkt=en-us&amp%3Bcbcxt=mai&amp%3Bsnsc.php?email=abuse@rediffmail.com%2520\n",
      "2018-04-08 12:47:09 regex_engine.py [line:193] DEBUG\tpennyboxapp.com/js/alibaba/vqcr8bp0gud&amp%3Blc=1033&amp%3Bid=64855&amp%3Bmkt=en-us&amp%3Bcbcxt=mai&amp%3Bsnsc.php?email=abuse@zte.com\n",
      "2018-04-08 12:47:09 regex_engine.py [line:193] DEBUG\ttest.glasswork.ge/Alibaba/alibaba/vqcr8bp0gud&amp%3Blc=1033&amp%3Bid=64855&amp%3Bmkt=en-us&amp%3Bcbcxt=mai&amp%3Bsnsc.php?email=abuse@tessuta.com\n",
      "2018-04-08 12:47:09 regex_engine.py [line:193] DEBUG\twww.bipads.com/lib/alibaba/vqcr8bp0gud&amp%3Blc=1033&amp%3Bid=64855&amp%3Bmkt=en-us&amp%3Bcbcxt=mai&amp%3Bsnsc.php?email=abuse@gmil.com\n",
      "2018-04-08 12:47:09 regex_engine.py [line:193] DEBUG\treposomolina.com/album/util/alibaba/vqcr8bp0gud&amp%3Blc=1033&amp%3Bid=64855&amp%3Bmkt=en-us&amp%3Bcbcxt=mai&amp%3Bsnsc.php?email=abuse@honglang-dl.com\n",
      "2018-04-08 12:47:09 regex_engine.py [line:193] DEBUG\tflagsigns.ca/wp-admin/css/alibaba/vqcr8bp0gud&amp%3Blc=1033&amp%3Bid=64855&amp%3Bmkt=en-us&amp%3Bcbcxt=mai&amp%3Bsnsc.php?email=abuse@honmail.net\n",
      "2018-04-08 12:47:09 regex_engine.py [line:193] DEBUG\ttest.glasswork.ge/Alibaba/alibaba/vqcr8bp0gud&amp%3Blc=1033&amp%3Bid=64855&amp%3Bmkt=en-us&amp%3Bcbcxt=mai&amp%3Bsnsc.php?email=abuse@biznevigator.com\n",
      "2018-04-08 12:47:09 regex_engine.py [line:193] DEBUG\tpennyboxapp.com/js/alibaba/vqcr8bp0gud&amp%3Blc=1033&amp%3Bid=64855&amp%3Bmkt=en-us&amp%3Bcbcxt=mai&amp%3Bsnsc.php?email=abuse@gmai.com\n",
      "2018-04-08 12:47:09 regex_engine.py [line:197] DEBUG\tindex:\t2\t['/alibaba/vqcr8bp0gud&amp%3Blc=1033&amp%3Bid=64855&amp%3Bmkt=en-us&amp%3Bcbcxt=mai&amp%3Bsnsc\\\\.php\\\\?']\n",
      "2018-04-08 12:47:09 regex_engine.py [line:81] DEBUG\tOLD DATA FIND! REMOVING\t../../data/phishtank/phishtank_regex_raw.txt\n",
      "2018-04-08 12:47:09 regex_engine.py [line:86] DEBUG\tRegex has been dump\t../../data/phishtank/phishtank_regex_raw.txt\n",
      "2018-04-08 12:47:09 regex_engine.py [line:244] DEBUG\textract regex count:\t14\n",
      "2018-04-08 12:47:09 regex_engine.py [line:245] DEBUG\textract regex time cost:\t6.352924\n"
     ]
    }
   ],
   "source": [
    "print regex_engine.MIN_SUBSTRING_SIZE\n",
    "print regex_engine.SINGLE_REGEX_SIZE\n",
    "print regex_engine.TOTAL_REGEX_SIZE \n",
    "\n",
    "regex_extract(input_file_path = \"../../data/phishtank/phishtank_cluster_distance.json\", \n",
    "                  output_file_path = \"../../data/phishtank/phishtank_regex_raw.txt\")"
   ]
  },
  {
   "cell_type": "code",
   "execution_count": 2,
   "metadata": {
    "scrolled": true
   },
   "outputs": [
    {
     "name": "stderr",
     "output_type": "stream",
     "text": [
      "2018-04-08 14:30:36 regex_engine.py [line:60] DEBUG\tRegex Data has been loaded\t../../data/phishtank/phishtank_regex_raw.txt\n",
      "2018-04-08 14:30:37 regex_engine.py [line:71] DEBUG\tTest Data has been loaded\t../../data/sangfor/safe.csv\n",
      "2018-04-08 14:30:37 regex_engine.py [line:71] DEBUG\tTest Data has been loaded\t../../data/phishtank/phishtank_url_param.csv\n"
     ]
    },
    {
     "name": "stdout",
     "output_type": "stream",
     "text": [
      "('batch index', 0, 'sample index', 0, 'FP', 0, 'TP', 28)\n",
      "('batch index', 1, 'sample index', 0, 'FP', 0, 'TP', 54)\n",
      "('batch index', 2, 'sample index', 0, 'FP', 0, 'TP', 39)\n",
      "('batch index', 3, 'sample index', 0, 'FP', 0, 'TP', 85)\n",
      "('batch index', 4, 'sample index', 0, 'FP', 0, 'TP', 2)\n",
      "('batch index', 5, 'sample index', 0, 'FP', 0, 'TP', 39)\n",
      "('batch index', 6, 'sample index', 0, 'FP', 0, 'TP', 85)\n",
      "('batch index', 7, 'sample index', 0, 'FP', 0, 'TP', 3)\n",
      "('batch index', 7, 'sample index', 1, 'FP', 0, 'TP', 2)\n",
      "('batch index', 7, 'sample index', 2, 'FP', 0, 'TP', 87)\n",
      "('batch index', 7, 'sample index', 3, 'FP', 0, 'TP', 2)\n",
      "('batch index', 7, 'sample index', 4, 'FP', 0, 'TP', 2)\n",
      "('batch index', 7, 'sample index', 5, 'FP', 0, 'TP', 70)\n",
      "('batch index', 7, 'sample index', 6, 'FP', 0, 'TP', 5)\n"
     ]
    },
    {
     "name": "stderr",
     "output_type": "stream",
     "text": [
      "2018-04-08 14:31:22 regex_engine.py [line:287] DEBUG\tOLD DATA FIND! REMOVING\t../../data/phishtank/phishtank_regex_result.txt\n",
      "2018-04-08 14:31:22 regex_engine.py [line:292] DEBUG\tCheck Result has been dump\t../../data/phishtank/phishtank_regex_result.txt\n"
     ]
    }
   ],
   "source": [
    "regex_check(input_file_path = \"../../data/phishtank/phishtank_regex_raw.txt\", \n",
    "            test_benign_file_path = \"../../data/sangfor/safe.csv\",\n",
    "            test_malicious_file_path = \"../../data/phishtank/phishtank_url_param.csv\",\n",
    "            result_file_path = \"../../data/phishtank/phishtank_regex_result.txt\", \n",
    "            n_jobs = 8)"
   ]
  },
  {
   "cell_type": "code",
   "execution_count": 3,
   "metadata": {},
   "outputs": [
    {
     "name": "stderr",
     "output_type": "stream",
     "text": [
      "2018-04-08 14:43:18 regex_engine.py [line:307] DEBUG\tcheck Data has been loaded\t../../data/phishtank/phishtank_regex_result.txt\n",
      "2018-04-08 14:43:18 regex_engine.py [line:316] DEBUG\tOLD DATA FIND! REMOVING\t../../data/phishtank/phishtank_regex_publish.txt\n",
      "2018-04-08 14:43:18 regex_engine.py [line:321] DEBUG\tPublish Result Count:\t14\n",
      "2018-04-08 14:43:18 regex_engine.py [line:322] DEBUG\tPublish Result has been dump\t../../data/phishtank/phishtank_regex_publish.txt\n"
     ]
    }
   ],
   "source": [
    "regex_publish(result_file_path= \"../../data/phishtank/phishtank_regex_result.txt\",\n",
    "              publish_file_path=\"../../data/phishtank/phishtank_regex_publish.txt\",\n",
    "              publish_fp_thresh = 0,\n",
    "              publish_tp_thresh = 1)"
   ]
  }
 ],
 "metadata": {
  "kernelspec": {
   "display_name": "Python 2",
   "language": "python",
   "name": "python2"
  },
  "language_info": {
   "codemirror_mode": {
    "name": "ipython",
    "version": 2
   },
   "file_extension": ".py",
   "mimetype": "text/x-python",
   "name": "python",
   "nbconvert_exporter": "python",
   "pygments_lexer": "ipython2",
   "version": "2.7.14"
  }
 },
 "nbformat": 4,
 "nbformat_minor": 2
}
