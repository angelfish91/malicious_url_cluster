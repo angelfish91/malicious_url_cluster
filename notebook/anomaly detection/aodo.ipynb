{
 "cells": [
  {
   "cell_type": "code",
   "execution_count": 5,
   "metadata": {},
   "outputs": [],
   "source": [
    "import os\n",
    "import sys\n",
    "import logging\n",
    "import numpy as np\n",
    "import pandas as pd\n",
    "import urlparse\n",
    "os.sys.path.append(\"/home/sparrow/sparrow/malicious_url_cluster\")\n",
    "\n",
    "import preprocess\n",
    "import vectorize\n",
    "import clustering\n",
    "import regex_url\n",
    "import urlnormalize\n",
    "import regex_domain\n",
    "import file_io\n",
    "from sklearn.ensemble import IsolationForest"
   ]
  },
  {
   "cell_type": "code",
   "execution_count": 51,
   "metadata": {},
   "outputs": [
    {
     "name": "stderr",
     "output_type": "stream",
     "text": [
      "/home/sparrow/anaconda2/lib/python2.7/site-packages/IPython/core/interactiveshell.py:2818: DtypeWarning: Columns (6,8,9) have mixed types. Specify dtype option on import or set low_memory=False.\n",
      "  if self.run_code(code, result):\n",
      "DEBUG:root:URLs Count:\t71201\n"
     ]
    }
   ],
   "source": [
    "urls = file_io.load_urls(\"../../../data/sangfor/malware_all_0419.csv\", csv = True)\n",
    "urls = list(set(urls))"
   ]
  },
  {
   "cell_type": "code",
   "execution_count": 50,
   "metadata": {},
   "outputs": [
    {
     "name": "stdout",
     "output_type": "stream",
     "text": [
      "180301\t180314\t180323\t180402\t180418\t\t       safe_0410_0416.csv\r\n",
      "180302\t180315\t180325\t180410\t180419\t\t       safe_0416.csv\r\n",
      "180306\t180318\t180326\t180411\tmalware_0402.csv       safe_0419.csv\r\n",
      "180307\t180319\t180327\t180412\tmalware_0410_0416.csv  safe_0419_mod.csv\r\n",
      "180311\t180320\t180328\t180415\tmalware_all_0402.csv\r\n",
      "180312\t180321\t180330\t180416\tmalware_all_0419.csv\r\n",
      "180313\t180322\t180401\t180417\tsafe_0402.csv\r\n"
     ]
    }
   ],
   "source": [
    "!ls ../../../data/sangfor"
   ]
  },
  {
   "cell_type": "code",
   "execution_count": 55,
   "metadata": {},
   "outputs": [
    {
     "name": "stdout",
     "output_type": "stream",
     "text": [
      "39798\n"
     ]
    }
   ],
   "source": [
    "print len(urls)\n",
    "url_frag = []\n",
    "for url in urls:\n",
    "    if urlparse.urlparse(url).fragment!=\"\":\n",
    "        url_frag.append(url)"
   ]
  },
  {
   "cell_type": "code",
   "execution_count": 56,
   "metadata": {},
   "outputs": [
    {
     "data": {
      "text/plain": [
       "1"
      ]
     },
     "execution_count": 56,
     "metadata": {},
     "output_type": "execute_result"
    }
   ],
   "source": [
    "len(url_frag)"
   ]
  },
  {
   "cell_type": "code",
   "execution_count": 28,
   "metadata": {},
   "outputs": [],
   "source": [
    "n_samples = 100\n",
    "outliers_fraction = 0.0001\n",
    "rng = np.random.RandomState(42)\n",
    "\n",
    "clf = IsolationForest(max_samples=n_samples,\n",
    "                contamination=outliers_fraction,\n",
    "                random_state=rng,\n",
    "                n_jobs=8)"
   ]
  },
  {
   "cell_type": "code",
   "execution_count": 33,
   "metadata": {},
   "outputs": [
    {
     "data": {
      "text/plain": [
       "IsolationForest(bootstrap=False, contamination=0.0001, max_features=1.0,\n",
       "        max_samples=100, n_estimators=100, n_jobs=8,\n",
       "        random_state=<mtrand.RandomState object at 0x7faaea815460>,\n",
       "        verbose=0)"
      ]
     },
     "execution_count": 33,
     "metadata": {},
     "output_type": "execute_result"
    }
   ],
   "source": [
    "clf.fit(df_vector.values[:10])"
   ]
  },
  {
   "cell_type": "code",
   "execution_count": 35,
   "metadata": {},
   "outputs": [],
   "source": [
    "scores_pred = clf.decision_function(df_vector.values[:100])"
   ]
  },
  {
   "cell_type": "code",
   "execution_count": 36,
   "metadata": {},
   "outputs": [
    {
     "data": {
      "text/plain": [
       "array([ 0.10795965,  0.07841737,  0.089826  ,  0.07262365,  0.07693798,\n",
       "        0.0800984 ,  0.02554058,  0.07779049,  0.08134973, -0.00075298,\n",
       "        0.09833439,  0.05714158,  0.05288706,  0.05924846,  0.0874902 ,\n",
       "        0.05447285,  0.09784344,  0.07571853,  0.09489367,  0.05477813,\n",
       "        0.08261218,  0.09911535,  0.10816176,  0.0858402 ,  0.09386719,\n",
       "        0.07385967,  0.08097276,  0.09229738,  0.0819002 ,  0.06488107,\n",
       "        0.03353439,  0.10174761,  0.09315153,  0.08317184,  0.07468932,\n",
       "        0.08998626,  0.06235787,  0.10670624,  0.01749543,  0.07292477,\n",
       "        0.10445278,  0.10188618,  0.0831067 ,  0.08004715,  0.06231438,\n",
       "        0.09533064,  0.09067137,  0.0854408 ,  0.09321808,  0.08488996,\n",
       "        0.09058293,  0.05113958,  0.09546751,  0.06729196,  0.07785759,\n",
       "        0.07377012,  0.08272947,  0.08674627,  0.08977745,  0.08305062,\n",
       "        0.07846887,  0.06528168,  0.08219101,  0.08845456,  0.06083219,\n",
       "        0.06890721,  0.08355112,  0.09905086,  0.03401664,  0.06924208,\n",
       "        0.0843069 ,  0.04744731,  0.09691556,  0.01927865,  0.08687434,\n",
       "        0.07232113,  0.05568395,  0.06834221,  0.06295051,  0.07574472,\n",
       "        0.09694442,  0.08141798,  0.08307657,  0.02809801,  0.07401193,\n",
       "        0.07273344,  0.08235316,  0.05841598,  0.07300556,  0.07577486,\n",
       "        0.07722146,  0.05359748,  0.08562873,  0.08498177,  0.07947539,\n",
       "        0.08477716,  0.08793899,  0.08536971,  0.08648584,  0.03358763])"
      ]
     },
     "execution_count": 36,
     "metadata": {},
     "output_type": "execute_result"
    }
   ],
   "source": [
    "scores_pred"
   ]
  },
  {
   "cell_type": "code",
   "execution_count": 38,
   "metadata": {},
   "outputs": [],
   "source": [
    "y_pred = clf.predict(df_vector.values[:100])"
   ]
  },
  {
   "cell_type": "code",
   "execution_count": 17,
   "metadata": {},
   "outputs": [],
   "source": [
    "IsolationForest?"
   ]
  }
 ],
 "metadata": {
  "kernelspec": {
   "display_name": "Python 2",
   "language": "python",
   "name": "python2"
  },
  "language_info": {
   "codemirror_mode": {
    "name": "ipython",
    "version": 2
   },
   "file_extension": ".py",
   "mimetype": "text/x-python",
   "name": "python",
   "nbconvert_exporter": "python",
   "pygments_lexer": "ipython2",
   "version": "2.7.14"
  }
 },
 "nbformat": 4,
 "nbformat_minor": 2
}
