{
 "cells": [
  {
   "cell_type": "code",
   "execution_count": 2,
   "metadata": {},
   "outputs": [
    {
     "data": {
      "text/plain": [
       "<module 'url_forest' from '/home/sparrow/sparrow/malicious_url_cluster/url_forest.pyc'>"
      ]
     },
     "execution_count": 2,
     "metadata": {},
     "output_type": "execute_result"
    }
   ],
   "source": [
    "import os\n",
    "import sys\n",
    "import logging\n",
    "import numpy as np\n",
    "import pandas as pd\n",
    "import urlparse\n",
    "os.sys.path.append(\"/home/sparrow/sparrow/malicious_url_cluster\")\n",
    "\n",
    "\n",
    "from config import cfg\n",
    "from logger import logger\n",
    "import preprocess\n",
    "import vectorize\n",
    "import clustering\n",
    "import regex_url\n",
    "import urlnormalize\n",
    "import regex_domain\n",
    "from file_io import load_urls, dump_urls\n",
    "import joblib as jl\n",
    "import url_forest\n",
    "reload(url_forest)"
   ]
  },
  {
   "cell_type": "code",
   "execution_count": 105,
   "metadata": {},
   "outputs": [],
   "source": [
    "df_domain_url = pd.read_csv(\"../../data/EXP_domain/df_res_url.csv\")\n",
    "df_domain_id  = pd.read_csv(\"../../data/EXP_domain/df_res_sha256.csv\")\n",
    "df_domain_fp = pd.concat([df_domain_url.loc[df_domain_url.sha256==_]  \\\n",
    "                          for _ in list(df_domain_id.loc[df_domain_id.positives == 0].sha256)])\n",
    "df_domain_tp = pd.concat([df_domain_url.loc[df_domain_url.sha256==_]  \\\n",
    "                          for _ in list(df_domain_id.loc[df_domain_id.positives >0].sha256)])"
   ]
  },
  {
   "cell_type": "code",
   "execution_count": 106,
   "metadata": {},
   "outputs": [],
   "source": [
    "df_url_url = pd.read_csv(\"../../data/EXP_url/df_res_url.csv\")\n",
    "df_url_id  = pd.read_csv(\"../../data/EXP_url/df_res_sha256.csv\")\n",
    "df_url_fp  = pd.concat([df_url_url.loc[df_url_url.sha256==_]  \\\n",
    "                          for _ in list(df_url_id.loc[df_url_id.positives == 0].sha256)])\n",
    "df_url_tp  = pd.concat([df_url_url.loc[df_url_url.sha256==_]  \\\n",
    "                          for _ in list(df_url_id.loc[df_url_id.positives >0].sha256)])"
   ]
  },
  {
   "cell_type": "code",
   "execution_count": 62,
   "metadata": {},
   "outputs": [
    {
     "name": "stdout",
     "output_type": "stream",
     "text": [
      "url regex detection\t69\turl detection\t1145\n",
      "url regex fp\t\t29\turl fp\t\t87\n"
     ]
    }
   ],
   "source": [
    "print \"url regex detection\\t%d\\turl detection\\t%d\" %(len(set(df_url_url.sha256)), len(set(df_url_url.url)))\n",
    "print \"url regex fp\\t\\t%d\\turl fp\\t\\t%d\" %(len(set(df_url_fp.sha256)), len(set(df_url_fp.url)))\n"
   ]
  },
  {
   "cell_type": "code",
   "execution_count": 63,
   "metadata": {},
   "outputs": [
    {
     "name": "stdout",
     "output_type": "stream",
     "text": [
      "domain regex detection\t81\tdomain detection\t1539\n",
      "domain regex fp\t\t37\tdomain fp\t\t37\n"
     ]
    }
   ],
   "source": [
    "print \"domain regex detection\\t%d\\tdomain detection\\t%d\" %(len(set(df_domain_url.sha256)), len(set(df_domain_url.url)))\n",
    "print \"domain regex fp\\t\\t%d\\tdomain fp\\t\\t%d\" %(len(set(df_domain_fp.sha256)), len(set(df_domain_fp.url)))"
   ]
  },
  {
   "cell_type": "code",
   "execution_count": 128,
   "metadata": {},
   "outputs": [
    {
     "name": "stdout",
     "output_type": "stream",
     "text": [
      "regex total detection\t146\turl total detection\t2178\n",
      "regex total fp\t\t66\turl total fp\t\t124\n"
     ]
    }
   ],
   "source": [
    "print \"regex total detection\\t%d\\turl total detection\\t%d\" %(len(set(df_domain_url.sha256) | set(df_url_url.sha256)),\n",
    "                                                             len(set(df_domain_url.url)|set(df_url_url.url)))\n",
    "print \"regex total fp\\t\\t%d\\turl total fp\\t\\t%d\" %(len(set(df_domain_fp.sha256) | set(df_url_fp.sha256)),\n",
    "                                                             len(set(df_domain_fp.url)|set(df_url_fp.url)))"
   ]
  },
  {
   "cell_type": "code",
   "execution_count": 197,
   "metadata": {},
   "outputs": [
    {
     "name": "stderr",
     "output_type": "stream",
     "text": [
      "2018-04-24 17:01:16 file_io.py [line:52] DEBUG\tURLs Count:\t1455678\n"
     ]
    },
    {
     "name": "stdout",
     "output_type": "stream",
     "text": [
      "467409\n"
     ]
    },
    {
     "name": "stderr",
     "output_type": "stream",
     "text": [
      "2018-04-24 17:01:42 file_io.py [line:52] DEBUG\tURLs Count:\t994836\n"
     ]
    },
    {
     "name": "stdout",
     "output_type": "stream",
     "text": [
      "360770\n"
     ]
    }
   ],
   "source": [
    "safe_urls = load_urls(\"../../data/sangfor/safe_0419_mod.csv\", csv = True)\n",
    "safe_url_domain, safe_url_path = preprocess.make_url_split(safe_urls)\n",
    "print len(safe_url_domain)\n",
    "\n",
    "mal_urls = load_urls(\"../../data/EXP_domain/malware.csv\", csv = True)\n",
    "mal_url_domain, mal_url_path = preprocess.make_url_split(mal_urls)\n",
    "print len(mal_url_domain)"
   ]
  },
  {
   "cell_type": "code",
   "execution_count": 198,
   "metadata": {
    "scrolled": true
   },
   "outputs": [
    {
     "name": "stdout",
     "output_type": "stream",
     "text": [
      "building tree index:0\n",
      "building tree index:1\n",
      "building tree index:2\n",
      "building tree index:3\n",
      "building tree index:4\n",
      "building tree index:5\n",
      "building tree index:6\n",
      "building tree index:7\n",
      "building tree index:8\n",
      "building tree index:9\n",
      "building tree index:0\n",
      "building tree index:1\n",
      "building tree index:2\n",
      "building tree index:3\n",
      "building tree index:4\n",
      "building tree index:5\n",
      "building tree index:6\n",
      "building tree index:7\n"
     ]
    },
    {
     "data": {
      "text/plain": [
       "['../../data/url_forest/mal_domain_forest.jl.z']"
      ]
     },
     "execution_count": 198,
     "metadata": {},
     "output_type": "execute_result"
    }
   ],
   "source": [
    "safe_domain_forest = url_forest.build_domain_forest(safe_url_domain)\n",
    "mal_domain_forest = url_forest.build_domain_forest(mal_url_domain)\n",
    "jl.dump(safe_domain_forest, \"../../data/url_forest/safe_domain_forest_mod.jl.z\")\n",
    "jl.dump(mal_domain_forest, \"../../data/url_forest/mal_domain_forest.jl.z\")"
   ]
  },
  {
   "cell_type": "code",
   "execution_count": 204,
   "metadata": {},
   "outputs": [],
   "source": [
    "domain_reputation_thresh = 0.1"
   ]
  },
  {
   "cell_type": "code",
   "execution_count": 200,
   "metadata": {},
   "outputs": [
    {
     "name": "stdout",
     "output_type": "stream",
     "text": [
      "domain regex detection\t29\tdomain detection\t1485\n",
      "domain regex fp\t\t3\tdomain fp\t\t3\n"
     ]
    }
   ],
   "source": [
    "df = url_forest.analyze_domain_batch(list(df_domain_url.url), safe_domain_forest, mal_domain_forest, verbose = False)\n",
    "df_publish = df.loc[df.domain_reputation>domain_reputation_thresh]\n",
    "\n",
    "sel = [i in set(df_publish.url) for i in df_domain_url.url]\n",
    "df_domain_url_p = df_domain_url.loc[sel]\n",
    "sel = [i in set(df_publish.url) for i in df_domain_fp.url]\n",
    "df_domain_fp_p = df_domain_fp.loc[sel]\n",
    "\n",
    "print \"domain regex detection\\t%d\\tdomain detection\\t%d\" %(len(set(df_domain_url_p.sha256)), len(set(df_domain_url_p.url)))\n",
    "print \"domain regex fp\\t\\t%d\\tdomain fp\\t\\t%d\" %(len(set(df_domain_fp_p.sha256)), len(set(df_domain_fp_p.url)))"
   ]
  },
  {
   "cell_type": "code",
   "execution_count": 205,
   "metadata": {},
   "outputs": [
    {
     "name": "stdout",
     "output_type": "stream",
     "text": [
      "url regex detection\t52\turl detection\t1088\n",
      "url regex fp\t\t17\turl fp\t\t35\n"
     ]
    }
   ],
   "source": [
    "df = url_forest.analyze_domain_batch(list(df_url_url.url), safe_domain_forest, mal_domain_forest, verbose = False)\n",
    "df_publish = df.loc[df.domain_reputation>domain_reputation_thresh]\n",
    "\n",
    "sel = [i in set(df_publish.url) for i in df_url_url.url]\n",
    "df_url_url_p = df_url_url.loc[sel]\n",
    "sel = [i in set(df_publish.url) for i in df_url_fp.url]\n",
    "df_url_fp_p = df_url_fp.loc[sel]\n",
    "\n",
    "print \"url regex detection\\t%d\\turl detection\\t%d\" %(len(set(df_url_url_p.sha256)), len(set(df_url_url_p.url)))\n",
    "print \"url regex fp\\t\\t%d\\turl fp\\t\\t%d\" %(len(set(df_url_fp_p.sha256)), len(set(df_url_fp_p.url)))"
   ]
  },
  {
   "cell_type": "code",
   "execution_count": 206,
   "metadata": {},
   "outputs": [
    {
     "name": "stdout",
     "output_type": "stream",
     "text": [
      "regex total detection\t77\turl total detection\t2067\n",
      "regex total fp\t\t20\turl total fp\t\t38\n"
     ]
    }
   ],
   "source": [
    "print \"regex total detection\\t%d\\turl total detection\\t%d\" %(len(set(df_domain_url_p.sha256) | set(df_url_url_p.sha256)),\n",
    "                                                             len(set(df_domain_url_p.url)|set(df_url_url_p.url)))\n",
    "print \"regex total fp\\t\\t%d\\turl total fp\\t\\t%d\" %(len(set(df_domain_fp_p.sha256) | set(df_url_fp_p.sha256)),\n",
    "                                                             len(set(df_domain_fp_p.url)|set(df_url_fp_p.url)))"
   ]
  },
  {
   "cell_type": "code",
   "execution_count": 225,
   "metadata": {},
   "outputs": [
    {
     "name": "stdout",
     "output_type": "stream",
     "text": [
      "0 0\n"
     ]
    },
    {
     "data": {
      "text/plain": [
       "-1"
      ]
     },
     "execution_count": 225,
     "metadata": {},
     "output_type": "execute_result"
    }
   ],
   "source": [
    "\"\"\"domain reputation analyze\"\"\"\n",
    "url_forest.analyze_domain(safe_domain_forest, mal_domain_forest, domain=\"sdf.x.com\", verbose = True)"
   ]
  },
  {
   "cell_type": "code",
   "execution_count": 217,
   "metadata": {},
   "outputs": [
    {
     "data": {
      "text/plain": [
       "1053"
      ]
     },
     "execution_count": 217,
     "metadata": {},
     "output_type": "execute_result"
    }
   ],
   "source": [
    "1088-35"
   ]
  },
  {
   "cell_type": "code",
   "execution_count": 228,
   "metadata": {},
   "outputs": [
    {
     "name": "stdout",
     "output_type": "stream",
     "text": [
      "['http://api.ttkyy.net/mdparse/ckplayer/style.swf',\n",
      " 'http://asset.qingshu520.com/assets/api/gift/video/76_android.zip',\n",
      " 'http://asset.qingshu520.com/assets/api/gift/62.zip',\n",
      " 'http://asset.qingshu520.com/assets/api/gift/video/6_android.zip',\n",
      " 'http://tencent.myaora.net/test/upload/open/ca/2018/25858/apk/20180413161630_730_5859.apk',\n",
      " 'http://asset.qingshu520.com/assets/api/gift/74.zip',\n",
      " 'http://asset.qingshu520.com/assets/api/gift/78.zip',\n",
      " 'http://asset.qingshu520.com/assets/api/gift/video/75_android.zip',\n",
      " 'http://tu.dxcnd.cn/ggjc/update/20180327/10693454a770239c97385ddf28d7c40b-1803279990.db?auth_ver=2&appkey=50c82132bb394901f151ad96&nonce=1523254631674&model=T7&signmd5=608291140&vendor=CUBE&locale=en_US&pkg=cn.opda.a.phonoalbumshoushou&tk=UX5tr5IpcPXpC3cGrlflYA%3D%3D&vn=9.10.0&h=1824&w=1200&v=3911&ntt=WIFI&ie=862823021013547&lc=rZkSaTZAYNuzw7gP&dpi=320&sdk=19&s=e7f19d7de6b41917d03756ba1d944826',\n",
      " 'http://tu.dxcnd.cn/ggjc/update/20180327/10693454a770239c97385ddf28d7c40b-1803279990.db?auth_ver=2&appkey=50c82132bb394901f151ad96&nonce=1523217619513&tk=1B8piqDgcb0mPX256cBdRQ%3D%3D&sdk=22&dpi=320&vn=8.2.4.1&locale=zh_CN&ie=861270038093727&op=46000&h=1184&w=720&lc=farFVQdu0Lc27V4I&ntt=WIFI&v=3044&signmd5=608291140&is=460000951443944&pkg=com.dianxinos.optimizer.channel&vendor=HUAWEI&model=HUAWEI+TAG-AL00&s=9114e8641301bb794f15d40603f85804',\n",
      " 'http://asset.qingshu520.com/assets/api/gift/85.zip',\n",
      " 'http://asset.qingshu520.com/assets/api/gift/video/67_android.zip',\n",
      " 'http://tu.dxcnd.cn/ggjc/update/20180414/ca1137b18e81003041a02009a8c7c1b9-1804149990.db?auth_ver=2&appkey=50c82132bb394901f151ad96&nonce=1523764812708&is=460010563610446&model=SM-G9092&op=46001&signmd5=608291140&vendor=samsung&locale=zh_CN&pkg=cn.opda.a.phonoalbumshoushou&tk=gTxPCR3jcNYtfg1PDqf4MA%3D%3D&vn=9.6.0&h=800&w=480&v=3786&ntt=WIFI&ie=359439051297213&lc=8qflv9fCxujhynqA&dpi=240&sdk=18&s=74fb3d4da38667e00afc4df2ecb486d5',\n",
      " 'http://tu.dxcnd.cn/ggjc/update/20180414/ca1137b18e81003041a02009a8c7c1b9-1804149990.db?auth_ver=2&appkey=50c82132bb394901f151ad96&nonce=1523780361936&tk=F2MX7TAqaGimcqWUJRNSkQ%3D%3D&sdk=22&dpi=320&vn=9.7.1&locale=zh_CN&ie=868092021750532&op=46000&h=1184&w=720&lc=0TqMNU0897RpTajA&ntt=WIFI&v=3843&signmd5=608291140&is=460077239027391&pkg=cn.opda.a.phonoalbumshoushou&vendor=HUAWEI&model=HUAWEI+TIT-TL00&s=d24e38e6607e2d5f12cbc96d9e6aafa5',\n",
      " 'http://tu.dxcnd.cn/ggjc/update/20180414/ca1137b18e81003041a02009a8c7c1b9-1804149990.db?auth_ver=2&appkey=50c82132bb394901f151ad96&nonce=1523698741723&model=SM-G7108&signmd5=608291140&vendor=samsung&locale=zh_CN&pkg=cn.opda.a.phonoalbumshoushou&tk=FcUEpKOgFB55Hyyj%2BwEPCQ%3D%3D&vn=8.10.0&h=1280&w=720&v=3439&ntt=WIFI&ie=359627053589435&lc=KNMbLBf6IOjv67ba&dpi=320&sdk=18&s=fd25dee48d72ae7411d411e7b3309db1',\n",
      " 'http://tu.dxcnd.cn/ggjc/update/20180414/ca1137b18e81003041a02009a8c7c1b9-1804149990.db?auth_ver=2&appkey=50c82132bb394901f151ad96&nonce=1523742546085&tk=XMOY3fzX1CPitrN6M5Br2Q%3D%3D&sdk=23&dpi=420&vn=8.10.0&locale=zh_CN&ie=863473030049832&op=46000&h=1920&w=1080&lc=ktOVSThVy5jXevMH&ntt=WIFI&v=3439&signmd5=608291140&is=460021128169303&pkg=cn.opda.a.phonoalbumshoushou&vendor=Coolpad&model=C105-6&s=35b452f02818b23879008e1145880b68',\n",
      " 'http://tu.dxcnd.cn/ggjc/update/20180414/ca1137b18e81003041a02009a8c7c1b9-1804149990.db?auth_ver=2&appkey=50c82132bb394901f151ad96&nonce=1523850757737&tk=o4hkh7HvEYJSZlgqqHJwVQ%3D%3D&sdk=24&dpi=480&vn=9.10.0&locale=zh_CN&ie=867307031097166&op=46000&h=1920&w=1080&ntt=WIFI&lc=QQ4HUc05lKgVqbQe&v=3911&signmd5=608291140&is=460007630576420&pkg=cn.opda.a.phonoalbumshoushou&vendor=Xiaomi&model=Redmi+Note+4X&s=8fe64b0bef1fe22db9ccd349c2b1b9d8',\n",
      " 'http://tu.dxcnd.cn/ggjc/update/20180414/ca1137b18e81003041a02009a8c7c1b9-1804149990.db?auth_ver=2&appkey=50c82132bb394901f151ad96&nonce=1523921733791&tk=zTjITMcBZZPNnwWR%2BUIS0g%3D%3D&sdk=22&dpi=320&vn=9.6.0&locale=zh_CN&ie=861181030934133&op=46000&h=1280&w=720&lc=pWM2qW5S0eRYj4vT&ntt=WIFI&v=3786&signmd5=608291140&is=460003016186627&pkg=cn.opda.a.phonoalbumshoushou&vendor=alps&model=lephone+F5W&s=6bc6401be23db227323db49b313b4e58',\n",
      " 'http://tu.dxcnd.cn/ggjc/update/20180414/ca1137b18e81003041a02009a8c7c1b9-1804149990.db?auth_ver=2&appkey=50c82132bb394901f151ad96&nonce=1523801950899&is=460030725384823&model=CHM-CL00&op=46003&signmd5=608291140&vendor=HUAWEI&locale=zh_CN&pkg=cn.opda.a.phonoalbumshoushou&tk=aIJ3dijp2AdlfHrZp6%2BvzA%3D%3D&vn=9.10.0&h=1280&w=720&v=3911&ntt=WIFI&ie=A0000055D76CA1&lc=FPFNQrLZCnF1uoUS&dpi=320&sdk=19&s=caf1185aaa226c5b17a4976d3ba53b8b',\n",
      " 'http://tu.dxcnd.cn/ggjc/update/20180414/ca1137b18e81003041a02009a8c7c1b9-1804149990.db?auth_ver=2&appkey=50c82132bb394901f151ad96&nonce=1524033866304&tk=yKQJ0XL1BRI1z8JvBch%2BOA%3D%3D&sdk=24&dpi=480&vn=9.5.1&locale=zh_CN_%23Hans&ie=868338037353484&op=46001&h=2040&w=1080&lc=H79fSoqoePQzJ86W&ntt=LTE&v=3757&signmd5=608291140&is=460018005624184&pkg=cn.opda.a.phonoalbumshoushou&vendor=HUAWEI&model=BND-AL10&s=165a8f64d829dc5061b041bcdcb5c034',\n",
      " 'http://tu.dxcnd.cn/ggjc/update/20180414/ca1137b18e81003041a02009a8c7c1b9-1804149990.db?auth_ver=2&appkey=50c82132bb394901f151ad96&nonce=1523746675096&tk=S%2BEwglJwZ63AA7P9ylVzUg%3D%3D&sdk=22&dpi=480&vn=9.10.0&locale=zh_CN&ie=868475020064841&op=46001&h=1776&w=1080&lc=mjJLk4SDSbElx8uO&ntt=WIFI&v=3911&signmd5=608291140&is=460016156103904&pkg=cn.opda.a.phonoalbumshoushou&vendor=SANTIN&model=SANTIN+N3&s=dafdf48801dbbe24bf57928a34fca40b',\n",
      " 'http://tu.dxcnd.cn/ggjc/update/20180414/ca1137b18e81003041a02009a8c7c1b9-1804149990.db?auth_ver=2&appkey=50c82132bb394901f151ad96&nonce=1523773726754&tk=PNSxIDABw2816P4%2B0p9oEg%3D%3D&sdk=23&dpi=320&vn=9.9.0&locale=zh_CN&ie=864288033912953&op=46011&h=1280&w=720&lc=pEiyYE09f8wm99J5&ntt=WIFI&v=3897&signmd5=608291140&is=460110758711967&pkg=cn.opda.a.phonoalbumshoushou&vendor=vivo&model=vivo+Y67&s=67e10994de59f8fa891fea4f478af198',\n",
      " 'http://tu.dxcnd.cn/ggjc/update/20180414/ca1137b18e81003041a02009a8c7c1b9-1804149990.db?auth_ver=2&appkey=50c82132bb394901f151ad96&nonce=1523940071642&tk=bxPm9jiwkkgP7Gi5auF0VQ%3D%3D&sdk=24&dpi=480&vn=9.10.0&locale=zh_CN_%23Hans&ie=865411034896772&op=46000&h=1812&w=1080&ntt=WIFI&lc=FPFNQrLZCnF1uoUS&v=3911&signmd5=608291140&is=460078552019993&pkg=cn.opda.a.phonoalbumshoushou&vendor=HUAWEI&model=PRA-AL00X&s=df1636cba57d78ab995a997c2820d543',\n",
      " 'http://tu.dxcnd.cn/ggjc/update/20180414/ca1137b18e81003041a02009a8c7c1b9-1804149990.db?auth_ver=2&appkey=50c82132bb394901f151ad96&nonce=1523722308249&tk=5XxOFnP%2F60RYiLPt0IqtbQ%3D%3D&sdk=25&dpi=320&vn=9.10.0&locale=zh_CN&ie=865354032260510&op=46000&h=1280&w=720&ntt=WIFI&lc=QQ4HUc05lKgVqbQe&v=3911&signmd5=608291140&is=460020301665496&pkg=cn.opda.a.phonoalbumshoushou&vendor=Xiaomi&model=Redmi+4X&s=b662d0e9ad7d037767d35415fc09eba3',\n",
      " 'http://tu.dxcnd.cn/ggjc/update/20180414/ca1137b18e81003041a02009a8c7c1b9-1804149990.db?auth_ver=2&appkey=50c82132bb394901f151ad96&nonce=1523873359450&tk=bTD7yORNdMxDmq%2FqdDaUFA%3D%3D&sdk=22&dpi=320&vn=9.10.0&locale=zh_CN&ie=008600250914818&op=46000&h=1184&w=720&lc=o73bipGO6jgBGoAh&ntt=WIFI&v=3911&signmd5=608291140&is=460028747776525&pkg=cn.opda.a.phonoalbumshoushou&vendor=Coolpad&model=Coolpad+E570&s=e33021acc15d48ef72bb588bf5fcfe16',\n",
      " 'http://tu.dxcnd.cn/ggjc/update/20180414/ca1137b18e81003041a02009a8c7c1b9-1804149990.db?auth_ver=2&appkey=50c82132bb394901f151ad96&nonce=1523997204195&is=460021316882371&model=Coolpad+8297&op=46000&signmd5=608291140&vendor=Coolpad&locale=zh_CN&pkg=com.dianxinos.optimizer.channel&tk=jb4m%2Fzg%2B9%2Fnw%2Bna%2FvSppUg%3D%3D&vn=8.3.0.13&h=1280&w=720&v=3044&ntt=WIFI&ie=865453020051657&lc=qOAXaXTlmP0giklV&dpi=320&sdk=19&s=dc9665897bc04d3c688d73a9c319cea9',\n",
      " 'http://tu.dxcnd.cn/ggjc/update/20180414/ca1137b18e81003041a02009a8c7c1b9-1804149990.db?auth_ver=2&appkey=50c82132bb394901f151ad96&nonce=1523770573338&tk=4VlkXHhkwwRQEVTJiIpeQA%3D%3D&sdk=22&dpi=320&vn=9.6.0&locale=zh_CN&ie=861142035679396&op=46000&h=1184&w=720&lc=1SFQznDM1WpbEIYW&ntt=WIFI&v=3786&signmd5=608291140&is=460023587954508&pkg=cn.opda.a.phonoalbumshoushou&vendor=HUAWEI&model=SCL-TL00&s=729fbef27a68824d53dbcf364fa1259b',\n",
      " 'http://tu.dxcnd.cn/ggjc/update/20180414/ca1137b18e81003041a02009a8c7c1b9-1804149990.db?auth_ver=2&appkey=50c82132bb394901f151ad96&nonce=1523711404952&tk=rnGoMH8qTu6tAeseESzQGQ%3D%3D&sdk=23&dpi=480&vn=8.9.5&locale=zh_CN&ie=357092068489190&op=46000&h=1920&w=1080&lc=ofjYhQbJeo7ayxkl&ntt=WIFI&v=3428&signmd5=608291140&is=460026340147875&pkg=cn.opda.a.phonoalbumshoushou&vendor=samsung&model=SM-A7000&s=cd63cb58f15de1f75ce45e925ade46fb',\n",
      " 'http://wcy2.xiaoshikd.com/AdobeDownloadAssistant.zip',\n",
      " 'http://wcy1.xiaoshikd.com/AdobeDownloadAssistant.zip',\n",
      " 'http://wcy.xiaoshikd.com/AdobeDownloadAssistant.zip',\n",
      " 'http://down1.7654.com/n/tui/mininewsgouwuhn/mininewsgouwuhn.zip',\n",
      " 'http://asset.qingshu520.com/assets/api/gift/77.zip',\n",
      " 'http://asset.qingshu520.com/assets/api/gift/51.zip',\n",
      " 'http://asset.qingshu520.com/assets/api/gift/80.zip']\n"
     ]
    }
   ],
   "source": [
    "pprint.pprint(list(df_url_fp_p.url))"
   ]
  }
 ],
 "metadata": {
  "kernelspec": {
   "display_name": "Python 2",
   "language": "python",
   "name": "python2"
  },
  "language_info": {
   "codemirror_mode": {
    "name": "ipython",
    "version": 2
   },
   "file_extension": ".py",
   "mimetype": "text/x-python",
   "name": "python",
   "nbconvert_exporter": "python",
   "pygments_lexer": "ipython2",
   "version": "2.7.14"
  }
 },
 "nbformat": 4,
 "nbformat_minor": 2
}
