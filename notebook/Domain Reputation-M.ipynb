{
 "cells": [
  {
   "cell_type": "code",
   "execution_count": 12,
   "metadata": {},
   "outputs": [
    {
     "data": {
      "text/plain": [
       "<module 'url_forest' from '/home/sparrow/sparrow/malicious_url_cluster/url_forest.pyc'>"
      ]
     },
     "execution_count": 12,
     "metadata": {},
     "output_type": "execute_result"
    }
   ],
   "source": [
    "import os\n",
    "import sys\n",
    "import logging\n",
    "import numpy as np\n",
    "import pandas as pd\n",
    "import urlparse\n",
    "os.sys.path.append(\"/home/sparrow/sparrow/malicious_url_cluster\")\n",
    "\n",
    "\n",
    "from config import cfg\n",
    "from logger import logger\n",
    "import preprocess\n",
    "import vectorize\n",
    "import clustering\n",
    "import regex_url\n",
    "import urlnormalize\n",
    "import regex_domain\n",
    "from file_io import load_urls, dump_urls\n",
    "import joblib as jl\n",
    "import url_forest\n",
    "reload(url_forest)"
   ]
  },
  {
   "cell_type": "code",
   "execution_count": 13,
   "metadata": {},
   "outputs": [],
   "source": [
    "df_domain_url = pd.read_csv(\"../../data/EXP_domain/df_res_url.csv\")\n",
    "df_domain_id  = pd.read_csv(\"../../data/EXP_domain/df_res_sha256.csv\")\n",
    "df_domain_fp = pd.concat([df_domain_url.loc[df_domain_url.sha256==_]  \\\n",
    "                          for _ in list(df_domain_id.loc[df_domain_id.positives == 0].sha256)])\n",
    "df_domain_tp = pd.concat([df_domain_url.loc[df_domain_url.sha256==_]  \\\n",
    "                          for _ in list(df_domain_id.loc[df_domain_id.positives >0].sha256)])"
   ]
  },
  {
   "cell_type": "code",
   "execution_count": 15,
   "metadata": {},
   "outputs": [],
   "source": [
    "df_url_url = pd.read_csv(\"../../data/EXP_url/df_res_url.csv\")\n",
    "df_url_id  = pd.read_csv(\"../../data/EXP_url/df_res_sha256.csv\")\n",
    "df_url_fp  = pd.concat([df_url_url.loc[df_url_url.sha256==_]  \\\n",
    "                          for _ in list(df_url_id.loc[df_url_id.positives == 0].sha256)])\n",
    "df_url_tp  = pd.concat([df_url_url.loc[df_url_url.sha256==_]  \\\n",
    "                          for _ in list(df_url_id.loc[df_url_id.positives >0].sha256)])"
   ]
  },
  {
   "cell_type": "code",
   "execution_count": 16,
   "metadata": {},
   "outputs": [
    {
     "name": "stdout",
     "output_type": "stream",
     "text": [
      "url regex detection\t69\turl detection\t1145\n",
      "url regex fp\t\t29\turl fp\t\t87\n"
     ]
    }
   ],
   "source": [
    "print \"url regex detection\\t%d\\turl detection\\t%d\" %(len(set(df_url_url.sha256)), len(set(df_url_url.url)))\n",
    "print \"url regex fp\\t\\t%d\\turl fp\\t\\t%d\" %(len(set(df_url_fp.sha256)), len(set(df_url_fp.url)))\n"
   ]
  },
  {
   "cell_type": "code",
   "execution_count": 17,
   "metadata": {},
   "outputs": [
    {
     "name": "stdout",
     "output_type": "stream",
     "text": [
      "domain regex detection\t71\tdomain detection\t3368\n",
      "domain regex fp\t\t31\tdomain fp\t\t31\n"
     ]
    }
   ],
   "source": [
    "print \"domain regex detection\\t%d\\tdomain detection\\t%d\" %(len(set(df_domain_url.sha256)), len(set(df_domain_url.url)))\n",
    "print \"domain regex fp\\t\\t%d\\tdomain fp\\t\\t%d\" %(len(set(df_domain_fp.sha256)), len(set(df_domain_fp.url)))"
   ]
  },
  {
   "cell_type": "code",
   "execution_count": 19,
   "metadata": {},
   "outputs": [
    {
     "name": "stdout",
     "output_type": "stream",
     "text": [
      "regex total detection\t136\turl total detection\t3506\n",
      "regex total fp\t\t60\turl total fp\t\t118\n"
     ]
    }
   ],
   "source": [
    "print \"regex total detection\\t%d\\turl total detection\\t%d\" %(len(set(df_domain_url.sha256) | set(df_url_url.sha256)),\n",
    "                                                             len(set(df_domain_url.url)|set(df_url_url.url)))\n",
    "print \"regex total fp\\t\\t%d\\turl total fp\\t\\t%d\" %(len(set(df_domain_fp.sha256) | set(df_url_fp.sha256)),\n",
    "                                                             len(set(df_domain_fp.url)|set(df_url_fp.url)))"
   ]
  },
  {
   "cell_type": "code",
   "execution_count": 100,
   "metadata": {},
   "outputs": [
    {
     "name": "stderr",
     "output_type": "stream",
     "text": [
      "2018-04-25 12:55:30 file_io.py [line:52] DEBUG\tURLs Count:\t1454804\n"
     ]
    },
    {
     "name": "stdout",
     "output_type": "stream",
     "text": [
      "466910\n"
     ]
    },
    {
     "name": "stderr",
     "output_type": "stream",
     "text": [
      "2018-04-25 12:55:56 file_io.py [line:52] DEBUG\tURLs Count:\t1303296\n"
     ]
    },
    {
     "name": "stdout",
     "output_type": "stream",
     "text": [
      "453097\n"
     ]
    }
   ],
   "source": [
    "safe_urls = load_urls(\"../../data/sangfor/safe_0419_mod.csv\", csv = True)\n",
    "safe_url_domain, safe_url_path = preprocess.make_url_split(safe_urls)\n",
    "print len(safe_url_domain)\n",
    "\n",
    "mal_urls = load_urls(\"../../data/EXP_domain/malware.csv\", csv = True)\n",
    "mal_url_domain, mal_url_path = preprocess.make_url_split(mal_urls)\n",
    "print len(mal_url_domain)"
   ]
  },
  {
   "cell_type": "code",
   "execution_count": 101,
   "metadata": {
    "scrolled": false
   },
   "outputs": [
    {
     "name": "stdout",
     "output_type": "stream",
     "text": [
      "building tree index:0\n",
      "building tree index:1\n",
      "building tree index:2\n",
      "building tree index:3\n",
      "building tree index:4\n",
      "building tree index:5\n",
      "building tree index:6\n",
      "building tree index:7\n",
      "building tree index:8\n",
      "building tree index:9\n",
      "building tree index:0\n",
      "building tree index:1\n",
      "building tree index:2\n",
      "building tree index:3\n",
      "building tree index:4\n",
      "building tree index:5\n",
      "building tree index:6\n",
      "building tree index:7\n",
      "building tree index:8\n",
      "building tree index:9\n"
     ]
    },
    {
     "data": {
      "text/plain": [
       "['../../data/url_forest/mal_domain_forest.jl.z']"
      ]
     },
     "execution_count": 101,
     "metadata": {},
     "output_type": "execute_result"
    }
   ],
   "source": [
    "safe_domain_forest = url_forest.build_domain_forest(safe_url_domain)\n",
    "mal_domain_forest = url_forest.build_domain_forest(mal_url_domain)\n",
    "jl.dump(safe_domain_forest, \"../../data/url_forest/safe_domain_forest_mod.jl.z\")\n",
    "jl.dump(mal_domain_forest, \"../../data/url_forest/mal_domain_forest.jl.z\")"
   ]
  },
  {
   "cell_type": "code",
   "execution_count": 2,
   "metadata": {},
   "outputs": [],
   "source": [
    "safe_domain_forest = jl.load(\"../../data/url_forest/safe_domain_forest_mod.jl.z\")\n",
    "mal_domain_forest  = jl.load(\"../../data/url_forest/mal_domain_forest.jl.z\")"
   ]
  },
  {
   "cell_type": "code",
   "execution_count": 116,
   "metadata": {},
   "outputs": [],
   "source": [
    "domain_reputation_thresh = 0.8"
   ]
  },
  {
   "cell_type": "code",
   "execution_count": 114,
   "metadata": {},
   "outputs": [
    {
     "name": "stdout",
     "output_type": "stream",
     "text": [
      "domain regex detection\t20\tdomain detection\t3315\n",
      "domain regex fp\t\t1\tdomain fp\t\t1\n"
     ]
    }
   ],
   "source": [
    "df = url_forest.analyze_domain_batch(list(df_domain_url.url), safe_domain_forest, mal_domain_forest, verbose = False)\n",
    "df_publish = df.loc[df.domain_reputation>domain_reputation_thresh]\n",
    "\n",
    "sel = [i in set(df_publish.url) for i in df_domain_url.url]\n",
    "df_domain_url_p = df_domain_url.loc[sel]\n",
    "sel = [i in set(df_publish.url) for i in df_domain_fp.url]\n",
    "df_domain_fp_p = df_domain_fp.loc[sel]\n",
    "\n",
    "print \"domain regex detection\\t%d\\tdomain detection\\t%d\" %(len(set(df_domain_url_p.sha256)), len(set(df_domain_url_p.url)))\n",
    "print \"domain regex fp\\t\\t%d\\tdomain fp\\t\\t%d\" %(len(set(df_domain_fp_p.sha256)), len(set(df_domain_fp_p.url)))"
   ]
  },
  {
   "cell_type": "code",
   "execution_count": 117,
   "metadata": {},
   "outputs": [
    {
     "name": "stdout",
     "output_type": "stream",
     "text": [
      "url regex detection\t29\turl detection\t1056\n",
      "url regex fp\t\t2\turl fp\t\t18\n"
     ]
    }
   ],
   "source": [
    "df = url_forest.analyze_domain_batch(list(df_url_url.url), safe_domain_forest, mal_domain_forest, verbose = False)\n",
    "df_publish = df.loc[df.domain_reputation>domain_reputation_thresh]\n",
    "\n",
    "sel = [i in set(df_publish.url) for i in df_url_url.url]\n",
    "df_url_url_p = df_url_url.loc[sel]\n",
    "sel = [i in set(df_publish.url) for i in df_url_fp.url]\n",
    "df_url_fp_p = df_url_fp.loc[sel]\n",
    "\n",
    "print \"url regex detection\\t%d\\turl detection\\t%d\" %(len(set(df_url_url_p.sha256)), len(set(df_url_url_p.url)))\n",
    "print \"url regex fp\\t\\t%d\\turl fp\\t\\t%d\" %(len(set(df_url_fp_p.sha256)), len(set(df_url_fp_p.url)))"
   ]
  },
  {
   "cell_type": "code",
   "execution_count": 54,
   "metadata": {},
   "outputs": [
    {
     "name": "stdout",
     "output_type": "stream",
     "text": [
      "regex total detection\t45\turl total detection\t3329\n",
      "regex total fp\t\t3\turl total fp\t\t19\n"
     ]
    }
   ],
   "source": [
    "print \"regex total detection\\t%d\\turl total detection\\t%d\" %(len(set(df_domain_url_p.sha256) | set(df_url_url_p.sha256)),\n",
    "                                                             len(set(df_domain_url_p.url)|set(df_url_url_p.url)))\n",
    "print \"regex total fp\\t\\t%d\\turl total fp\\t\\t%d\" %(len(set(df_domain_fp_p.sha256) | set(df_url_fp_p.sha256)),\n",
    "                                                             len(set(df_domain_fp_p.url)|set(df_url_fp_p.url)))"
   ]
  },
  {
   "cell_type": "code",
   "execution_count": 120,
   "metadata": {},
   "outputs": [
    {
     "name": "stdout",
     "output_type": "stream",
     "text": [
      "1 1\n"
     ]
    },
    {
     "data": {
      "text/plain": [
       "0.9900990099009901"
      ]
     },
     "execution_count": 120,
     "metadata": {},
     "output_type": "execute_result"
    }
   ],
   "source": [
    "\"\"\"domain reputation analyze\"\"\"\n",
    "url_forest.analyze_domain(safe_domain_forest, mal_domain_forest, domain=\"download.g\", verbose = True)"
   ]
  },
  {
   "cell_type": "code",
   "execution_count": 119,
   "metadata": {},
   "outputs": [
    {
     "data": {
      "text/html": [
       "<div>\n",
       "<style scoped>\n",
       "    .dataframe tbody tr th:only-of-type {\n",
       "        vertical-align: middle;\n",
       "    }\n",
       "\n",
       "    .dataframe tbody tr th {\n",
       "        vertical-align: top;\n",
       "    }\n",
       "\n",
       "    .dataframe thead th {\n",
       "        text-align: right;\n",
       "    }\n",
       "</style>\n",
       "<table border=\"1\" class=\"dataframe\">\n",
       "  <thead>\n",
       "    <tr style=\"text-align: right;\">\n",
       "      <th></th>\n",
       "      <th>domain_reputation</th>\n",
       "      <th>url</th>\n",
       "    </tr>\n",
       "  </thead>\n",
       "  <tbody>\n",
       "    <tr>\n",
       "      <th>40</th>\n",
       "      <td>0.990099</td>\n",
       "      <td>http://download.glzip.cn/n/install/version/v2....</td>\n",
       "    </tr>\n",
       "    <tr>\n",
       "      <th>112</th>\n",
       "      <td>0.990099</td>\n",
       "      <td>http://download.glzip.cn/n/install/version/v2....</td>\n",
       "    </tr>\n",
       "    <tr>\n",
       "      <th>171</th>\n",
       "      <td>0.990099</td>\n",
       "      <td>http://download.glzip.cn/n/install/version/v2....</td>\n",
       "    </tr>\n",
       "    <tr>\n",
       "      <th>181</th>\n",
       "      <td>0.990099</td>\n",
       "      <td>http://download.glzip.cn/n/install/version/v2....</td>\n",
       "    </tr>\n",
       "    <tr>\n",
       "      <th>269</th>\n",
       "      <td>0.990099</td>\n",
       "      <td>http://download.glzip.cn/n/install/version/v2....</td>\n",
       "    </tr>\n",
       "    <tr>\n",
       "      <th>325</th>\n",
       "      <td>0.990099</td>\n",
       "      <td>http://client-jupai.api.onfeng.com/temp/taskSe...</td>\n",
       "    </tr>\n",
       "    <tr>\n",
       "      <th>330</th>\n",
       "      <td>0.990099</td>\n",
       "      <td>http://xixi.conglebabyswim.com/LO/LO_dz206?0gp...</td>\n",
       "    </tr>\n",
       "    <tr>\n",
       "      <th>582</th>\n",
       "      <td>0.990099</td>\n",
       "      <td>http://client-jupai.api.onfeng.com/temp/Runtim...</td>\n",
       "    </tr>\n",
       "    <tr>\n",
       "      <th>610</th>\n",
       "      <td>0.990099</td>\n",
       "      <td>http://download.glzip.cn/n/install/version/v2....</td>\n",
       "    </tr>\n",
       "    <tr>\n",
       "      <th>629</th>\n",
       "      <td>0.990099</td>\n",
       "      <td>http://download.glzip.cn/n/install/version/v2....</td>\n",
       "    </tr>\n",
       "    <tr>\n",
       "      <th>684</th>\n",
       "      <td>0.990099</td>\n",
       "      <td>http://pcpxz.uweiyou.com/xyxd/%E5%A5%A5%E7%89%...</td>\n",
       "    </tr>\n",
       "    <tr>\n",
       "      <th>700</th>\n",
       "      <td>0.990099</td>\n",
       "      <td>http://xixi.conglebabyswim.com/LO/LO_dz177?njj...</td>\n",
       "    </tr>\n",
       "    <tr>\n",
       "      <th>746</th>\n",
       "      <td>0.990099</td>\n",
       "      <td>http://download.glzip.cn/n/install/version/v2....</td>\n",
       "    </tr>\n",
       "    <tr>\n",
       "      <th>758</th>\n",
       "      <td>0.990099</td>\n",
       "      <td>http://pcpxz.uweiyou.com/xyxd/%E7%BB%9D%E5%9C%...</td>\n",
       "    </tr>\n",
       "    <tr>\n",
       "      <th>802</th>\n",
       "      <td>0.990099</td>\n",
       "      <td>http://download.glzip.cn/n/install/version/v2....</td>\n",
       "    </tr>\n",
       "    <tr>\n",
       "      <th>838</th>\n",
       "      <td>0.990099</td>\n",
       "      <td>http://download.glzip.cn/n/install/version/v2....</td>\n",
       "    </tr>\n",
       "    <tr>\n",
       "      <th>872</th>\n",
       "      <td>0.990099</td>\n",
       "      <td>http://xixi.conglebabyswim.com/LO/LO_dz207?nfs...</td>\n",
       "    </tr>\n",
       "    <tr>\n",
       "      <th>910</th>\n",
       "      <td>0.990099</td>\n",
       "      <td>http://xixi.conglebabyswim.com/LO/LO_dz177?rxq...</td>\n",
       "    </tr>\n",
       "    <tr>\n",
       "      <th>923</th>\n",
       "      <td>0.990099</td>\n",
       "      <td>http://download.sejinwang.cn/sg_p465844.658</td>\n",
       "    </tr>\n",
       "    <tr>\n",
       "      <th>930</th>\n",
       "      <td>0.990099</td>\n",
       "      <td>http://download.glzip.cn/n/install/version/v2....</td>\n",
       "    </tr>\n",
       "    <tr>\n",
       "      <th>1085</th>\n",
       "      <td>0.990099</td>\n",
       "      <td>http://xiazai.downok.com/%E8%85%BE%E8%AE%AFqq%...</td>\n",
       "    </tr>\n",
       "  </tbody>\n",
       "</table>\n",
       "</div>"
      ],
      "text/plain": [
       "      domain_reputation                                                url\n",
       "40             0.990099  http://download.glzip.cn/n/install/version/v2....\n",
       "112            0.990099  http://download.glzip.cn/n/install/version/v2....\n",
       "171            0.990099  http://download.glzip.cn/n/install/version/v2....\n",
       "181            0.990099  http://download.glzip.cn/n/install/version/v2....\n",
       "269            0.990099  http://download.glzip.cn/n/install/version/v2....\n",
       "325            0.990099  http://client-jupai.api.onfeng.com/temp/taskSe...\n",
       "330            0.990099  http://xixi.conglebabyswim.com/LO/LO_dz206?0gp...\n",
       "582            0.990099  http://client-jupai.api.onfeng.com/temp/Runtim...\n",
       "610            0.990099  http://download.glzip.cn/n/install/version/v2....\n",
       "629            0.990099  http://download.glzip.cn/n/install/version/v2....\n",
       "684            0.990099  http://pcpxz.uweiyou.com/xyxd/%E5%A5%A5%E7%89%...\n",
       "700            0.990099  http://xixi.conglebabyswim.com/LO/LO_dz177?njj...\n",
       "746            0.990099  http://download.glzip.cn/n/install/version/v2....\n",
       "758            0.990099  http://pcpxz.uweiyou.com/xyxd/%E7%BB%9D%E5%9C%...\n",
       "802            0.990099  http://download.glzip.cn/n/install/version/v2....\n",
       "838            0.990099  http://download.glzip.cn/n/install/version/v2....\n",
       "872            0.990099  http://xixi.conglebabyswim.com/LO/LO_dz207?nfs...\n",
       "910            0.990099  http://xixi.conglebabyswim.com/LO/LO_dz177?rxq...\n",
       "923            0.990099        http://download.sejinwang.cn/sg_p465844.658\n",
       "930            0.990099  http://download.glzip.cn/n/install/version/v2....\n",
       "1085           0.990099  http://xiazai.downok.com/%E8%85%BE%E8%AE%AFqq%..."
      ]
     },
     "execution_count": 119,
     "metadata": {},
     "output_type": "execute_result"
    }
   ],
   "source": [
    "df_publish.loc[df_publish.domain_reputation<1]"
   ]
  }
 ],
 "metadata": {
  "kernelspec": {
   "display_name": "Python 2",
   "language": "python",
   "name": "python2"
  },
  "language_info": {
   "codemirror_mode": {
    "name": "ipython",
    "version": 2
   },
   "file_extension": ".py",
   "mimetype": "text/x-python",
   "name": "python",
   "nbconvert_exporter": "python",
   "pygments_lexer": "ipython2",
   "version": "2.7.14"
  }
 },
 "nbformat": 4,
 "nbformat_minor": 2
}
